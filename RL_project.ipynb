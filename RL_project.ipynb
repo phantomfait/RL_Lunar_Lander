{
  "nbformat": 4,
  "nbformat_minor": 0,
  "metadata": {
    "colab": {
      "provenance": [],
      "gpuType": "T4",
      "authorship_tag": "ABX9TyOLPsbmVgmK/4GaQxbgMv2L",
      "include_colab_link": true
    },
    "kernelspec": {
      "name": "python3",
      "display_name": "Python 3"
    },
    "language_info": {
      "name": "python"
    },
    "accelerator": "GPU",
    "widgets": {
      "application/vnd.jupyter.widget-state+json": {
        "5f7008acfd3944fe8de3da34cb29819e": {
          "model_module": "@jupyter-widgets/output",
          "model_name": "OutputModel",
          "model_module_version": "1.0.0",
          "state": {
            "_dom_classes": [],
            "_model_module": "@jupyter-widgets/output",
            "_model_module_version": "1.0.0",
            "_model_name": "OutputModel",
            "_view_count": null,
            "_view_module": "@jupyter-widgets/output",
            "_view_module_version": "1.0.0",
            "_view_name": "OutputView",
            "layout": "IPY_MODEL_f3d96864df2d4bd9966dc03aac34c9b2",
            "msg_id": "",
            "outputs": [
              {
                "output_type": "display_data",
                "data": {
                  "text/plain": "\u001b[35m 100%\u001b[0m \u001b[38;2;249;38;114m━━━━━━━━━━━━━━━━━━━━━━━━━━━━━━━━━━━━━━━━━━━━━━━━━━━━\u001b[0m\u001b[38;2;249;38;114m╸\u001b[0m \u001b[32m1,499,992/1,500,000 \u001b[0m [ \u001b[33m0:17:19\u001b[0m < \u001b[36m0:00:01\u001b[0m , \u001b[31m1,487 it/s\u001b[0m ]\n",
                  "text/html": "<pre style=\"white-space:pre;overflow-x:auto;line-height:normal;font-family:Menlo,'DejaVu Sans Mono',consolas,'Courier New',monospace\"><span style=\"color: #800080; text-decoration-color: #800080\"> 100%</span> <span style=\"color: #f92672; text-decoration-color: #f92672\">━━━━━━━━━━━━━━━━━━━━━━━━━━━━━━━━━━━━━━━━━━━━━━━━━━━━╸</span> <span style=\"color: #008000; text-decoration-color: #008000\">1,499,992/1,500,000 </span> [ <span style=\"color: #808000; text-decoration-color: #808000\">0:17:19</span> &lt; <span style=\"color: #008080; text-decoration-color: #008080\">0:00:01</span> , <span style=\"color: #800000; text-decoration-color: #800000\">1,487 it/s</span> ]\n</pre>\n"
                },
                "metadata": {}
              }
            ]
          }
        },
        "f3d96864df2d4bd9966dc03aac34c9b2": {
          "model_module": "@jupyter-widgets/base",
          "model_name": "LayoutModel",
          "model_module_version": "1.2.0",
          "state": {
            "_model_module": "@jupyter-widgets/base",
            "_model_module_version": "1.2.0",
            "_model_name": "LayoutModel",
            "_view_count": null,
            "_view_module": "@jupyter-widgets/base",
            "_view_module_version": "1.2.0",
            "_view_name": "LayoutView",
            "align_content": null,
            "align_items": null,
            "align_self": null,
            "border": null,
            "bottom": null,
            "display": null,
            "flex": null,
            "flex_flow": null,
            "grid_area": null,
            "grid_auto_columns": null,
            "grid_auto_flow": null,
            "grid_auto_rows": null,
            "grid_column": null,
            "grid_gap": null,
            "grid_row": null,
            "grid_template_areas": null,
            "grid_template_columns": null,
            "grid_template_rows": null,
            "height": null,
            "justify_content": null,
            "justify_items": null,
            "left": null,
            "margin": null,
            "max_height": null,
            "max_width": null,
            "min_height": null,
            "min_width": null,
            "object_fit": null,
            "object_position": null,
            "order": null,
            "overflow": null,
            "overflow_x": null,
            "overflow_y": null,
            "padding": null,
            "right": null,
            "top": null,
            "visibility": null,
            "width": null
          }
        }
      }
    }
  },
  "cells": [
    {
      "cell_type": "markdown",
      "metadata": {
        "id": "view-in-github",
        "colab_type": "text"
      },
      "source": [
        "<a href=\"https://colab.research.google.com/github/phantomfait/RL_Lunar_Lander/blob/main/RL_project.ipynb\" target=\"_parent\"><img src=\"https://colab.research.google.com/assets/colab-badge.svg\" alt=\"Open In Colab\"/></a>"
      ]
    },
    {
      "cell_type": "code",
      "source": [
        "\n",
        "#@title Install dependencies (takes a few minutes)\n",
        "\n",
        "!apt-get -qq update\n",
        "!apt-get -qq install -y swig ffmpeg xvfb\n",
        "\n",
        "!pip -q install --upgrade pip\n",
        "\n",
        "# Gymnasium with Box2D (for LunarLander), Stable-Baselines3, and helpful video libs\n",
        "!pip -q install \"gymnasium[box2d]\" \"stable-baselines3\" \"sb3-contrib\" \"moviepy\" \"imageio[ffmpeg]\" \"numpy<2.0\"\n"
      ],
      "metadata": {
        "colab": {
          "base_uri": "https://localhost:8080/"
        },
        "id": "Z0S_AyaXMwhW",
        "outputId": "b5ed1abf-ad26-49ec-f10f-48eb14135731"
      },
      "execution_count": 1,
      "outputs": [
        {
          "output_type": "stream",
          "name": "stdout",
          "text": [
            "W: Skipping acquire of configured file 'main/source/Sources' as repository 'https://r2u.stat.illinois.edu/ubuntu jammy InRelease' does not seem to provide it (sources.list entry misspelt?)\n"
          ]
        }
      ]
    },
    {
      "cell_type": "code",
      "source": [
        "!pip install --upgrade --force-reinstall numpy==1.26.4\n",
        "!pip install --upgrade --force-reinstall gymnasium==0.29.1\n"
      ],
      "metadata": {
        "colab": {
          "base_uri": "https://localhost:8080/",
          "height": 848
        },
        "id": "U3xUV4DyagRn",
        "outputId": "e4aded95-df63-4ce2-cf0e-38da1bcb3021"
      },
      "execution_count": null,
      "outputs": [
        {
          "output_type": "stream",
          "name": "stdout",
          "text": [
            "Collecting numpy==1.26.4\n",
            "  Using cached numpy-1.26.4-cp312-cp312-manylinux_2_17_x86_64.manylinux2014_x86_64.whl.metadata (61 kB)\n",
            "Using cached numpy-1.26.4-cp312-cp312-manylinux_2_17_x86_64.manylinux2014_x86_64.whl (18.0 MB)\n",
            "Installing collected packages: numpy\n",
            "  Attempting uninstall: numpy\n",
            "    Found existing installation: numpy 1.26.4\n",
            "    Uninstalling numpy-1.26.4:\n",
            "      Successfully uninstalled numpy-1.26.4\n",
            "\u001b[31mERROR: pip's dependency resolver does not currently take into account all the packages that are installed. This behaviour is the source of the following dependency conflicts.\n",
            "opencv-python 4.12.0.88 requires numpy<2.3.0,>=2; python_version >= \"3.9\", but you have numpy 1.26.4 which is incompatible.\n",
            "thinc 8.3.6 requires numpy<3.0.0,>=2.0.0, but you have numpy 1.26.4 which is incompatible.\n",
            "opencv-python-headless 4.12.0.88 requires numpy<2.3.0,>=2; python_version >= \"3.9\", but you have numpy 1.26.4 which is incompatible.\n",
            "opencv-contrib-python 4.12.0.88 requires numpy<2.3.0,>=2; python_version >= \"3.9\", but you have numpy 1.26.4 which is incompatible.\u001b[0m\u001b[31m\n",
            "\u001b[0mSuccessfully installed numpy-1.26.4\n"
          ]
        },
        {
          "output_type": "display_data",
          "data": {
            "application/vnd.colab-display-data+json": {
              "pip_warning": {
                "packages": [
                  "numpy"
                ]
              },
              "id": "97c228f2b5894eb2b9d4f92cc68b87ce"
            }
          },
          "metadata": {}
        },
        {
          "output_type": "stream",
          "name": "stdout",
          "text": [
            "Collecting gymnasium==0.29.1\n",
            "  Using cached gymnasium-0.29.1-py3-none-any.whl.metadata (10 kB)\n",
            "Collecting numpy>=1.21.0 (from gymnasium==0.29.1)\n",
            "  Using cached numpy-2.3.2-cp312-cp312-manylinux_2_27_x86_64.manylinux_2_28_x86_64.whl.metadata (62 kB)\n",
            "Collecting cloudpickle>=1.2.0 (from gymnasium==0.29.1)\n",
            "  Using cached cloudpickle-3.1.1-py3-none-any.whl.metadata (7.1 kB)\n",
            "Collecting typing-extensions>=4.3.0 (from gymnasium==0.29.1)\n",
            "  Using cached typing_extensions-4.14.1-py3-none-any.whl.metadata (3.0 kB)\n",
            "Collecting farama-notifications>=0.0.1 (from gymnasium==0.29.1)\n",
            "  Using cached Farama_Notifications-0.0.4-py3-none-any.whl.metadata (558 bytes)\n",
            "Using cached gymnasium-0.29.1-py3-none-any.whl (953 kB)\n",
            "Using cached cloudpickle-3.1.1-py3-none-any.whl (20 kB)\n",
            "Using cached Farama_Notifications-0.0.4-py3-none-any.whl (2.5 kB)\n",
            "Using cached numpy-2.3.2-cp312-cp312-manylinux_2_27_x86_64.manylinux_2_28_x86_64.whl (16.6 MB)\n",
            "Using cached typing_extensions-4.14.1-py3-none-any.whl (43 kB)\n",
            "Installing collected packages: farama-notifications, typing-extensions, numpy, cloudpickle, gymnasium\n",
            "\u001b[2K  Attempting uninstall: farama-notifications\n",
            "\u001b[2K    Found existing installation: Farama-Notifications 0.0.4\n",
            "\u001b[2K    Uninstalling Farama-Notifications-0.0.4:\n",
            "\u001b[2K      Successfully uninstalled Farama-Notifications-0.0.4\n",
            "\u001b[2K  Attempting uninstall: typing-extensions\n",
            "\u001b[2K    Found existing installation: typing_extensions 4.14.1\n",
            "\u001b[2K    Uninstalling typing_extensions-4.14.1:\n",
            "\u001b[2K   \u001b[91m━━━━━━━━\u001b[0m\u001b[90m╺\u001b[0m\u001b[90m━━━━━━━━━━━━━━━━━━━━━━━━━━━━━━━\u001b[0m \u001b[32m1/5\u001b[0m [typing-extensions]\u001b[31mERROR: Operation cancelled by user\u001b[0m\u001b[31m\n",
            "\u001b[0m^C\n"
          ]
        }
      ]
    },
    {
      "cell_type": "code",
      "source": [
        "\n",
        "#@title Imports & Versions\n",
        "import os, sys, math, time, pathlib, random\n",
        "import numpy as np\n",
        "\n",
        "import gymnasium as gym\n",
        "from gymnasium.wrappers import RecordVideo, RecordEpisodeStatistics\n",
        "\n",
        "from stable_baselines3 import PPO\n",
        "from stable_baselines3.common.vec_env import VecMonitor, DummyVecEnv, SubprocVecEnv\n",
        "from stable_baselines3.common.env_util import make_vec_env\n",
        "from stable_baselines3.common.evaluation import evaluate_policy\n",
        "from stable_baselines3.common.callbacks import EvalCallback, StopTrainingOnRewardThreshold\n",
        "\n",
        "import matplotlib.pyplot as plt\n",
        "from IPython.display import HTML, clear_output\n",
        "\n",
        "print(\"Python:\", sys.version)\n",
        "import gymnasium\n",
        "import stable_baselines3 as sb3\n",
        "print(\"Gymnasium:\", gymnasium.__version__)\n",
        "print(\"Stable-Baselines3:\", sb3.__version__)\n"
      ],
      "metadata": {
        "colab": {
          "base_uri": "https://localhost:8080/"
        },
        "id": "5_YAe9gcMfab",
        "outputId": "4227b879-94e5-4ffb-d6cd-c948432cedb2"
      },
      "execution_count": 2,
      "outputs": [
        {
          "output_type": "stream",
          "name": "stdout",
          "text": [
            "Python: 3.12.11 (main, Jun  4 2025, 08:56:18) [GCC 11.4.0]\n",
            "Gymnasium: 1.2.0\n",
            "Stable-Baselines3: 2.7.0\n"
          ]
        },
        {
          "output_type": "stream",
          "name": "stderr",
          "text": [
            "Gym has been unmaintained since 2022 and does not support NumPy 2.0 amongst other critical functionality.\n",
            "Please upgrade to Gymnasium, the maintained drop-in replacement of Gym, or contact the authors of your software and request that they upgrade.\n",
            "See the migration guide at https://gymnasium.farama.org/introduction/migration_guide/ for additional information.\n",
            "/usr/local/lib/python3.12/dist-packages/jupyter_client/session.py:151: DeprecationWarning: datetime.datetime.utcnow() is deprecated and scheduled for removal in a future version. Use timezone-aware objects to represent datetimes in UTC: datetime.datetime.now(datetime.UTC).\n",
            "  return datetime.utcnow().replace(tzinfo=utc)\n"
          ]
        }
      ]
    },
    {
      "cell_type": "code",
      "source": [
        "\n",
        "#@title Training Config\n",
        "ENV_ID = \"LunarLander-v3\"  #Gymnasium's latest version\n",
        "TOTAL_TIMESTEPS = 1_500_000\n",
        "\n",
        "N_ENVS = 8                 # parallel envs for faster PPO training\n",
        "SEED = 42\n",
        "\n",
        "LOG_DIR = \"./lander_logs\"\n",
        "VIDEO_DIR = \"./lander_videos\"\n",
        "os.makedirs(LOG_DIR, exist_ok=True)\n",
        "os.makedirs(VIDEO_DIR, exist_ok=True)\n",
        "\n",
        "np.random.seed(SEED)\n",
        "random.seed(SEED)\n"
      ],
      "metadata": {
        "id": "IAkrtqzaMfW8"
      },
      "execution_count": 4,
      "outputs": []
    },
    {
      "cell_type": "code",
      "source": [
        "\n",
        "#@title Make Environments (train & eval)\n",
        "\n",
        "def make_single_env(seed_offset=0, render_mode=None):\n",
        "    # For training, render_mode=None; for video, use \"rgb_array\"\n",
        "    env = gym.make(ENV_ID, render_mode=render_mode)\n",
        "    env.reset(seed=SEED + seed_offset)\n",
        "    env = RecordEpisodeStatistics(env)\n",
        "    return env\n",
        "\n",
        "# Vectorized training envs\n",
        "train_env = make_vec_env(\n",
        "    lambda: make_single_env(render_mode=None),  # no rendering during training\n",
        "    n_envs=N_ENVS,\n",
        "    seed=SEED,\n",
        ")\n",
        "train_env = VecMonitor(train_env, filename=os.path.join(LOG_DIR, \"monitor.csv\"))\n",
        "\n",
        "# Separate eval env (no vectorization required)\n",
        "eval_env = make_single_env(render_mode=None)\n",
        "\n"
      ],
      "metadata": {
        "colab": {
          "base_uri": "https://localhost:8080/"
        },
        "id": "YtJ6Yl40MfUh",
        "outputId": "dd817dad-745e-49bc-d24e-15d1db5e8539"
      },
      "execution_count": 5,
      "outputs": [
        {
          "output_type": "stream",
          "name": "stderr",
          "text": [
            "/usr/local/lib/python3.12/dist-packages/pygame/pkgdata.py:25: DeprecationWarning: pkg_resources is deprecated as an API. See https://setuptools.pypa.io/en/latest/pkg_resources.html\n",
            "  from pkg_resources import resource_stream, resource_exists\n",
            "/usr/local/lib/python3.12/dist-packages/pkg_resources/__init__.py:3154: DeprecationWarning: Deprecated call to `pkg_resources.declare_namespace('google')`.\n",
            "Implementing implicit namespace packages (as specified in PEP 420) is preferred to `pkg_resources.declare_namespace`. See https://setuptools.pypa.io/en/latest/references/keywords.html#keyword-namespace-packages\n",
            "  declare_namespace(pkg)\n",
            "/usr/local/lib/python3.12/dist-packages/pkg_resources/__init__.py:3154: DeprecationWarning: Deprecated call to `pkg_resources.declare_namespace('google.cloud')`.\n",
            "Implementing implicit namespace packages (as specified in PEP 420) is preferred to `pkg_resources.declare_namespace`. See https://setuptools.pypa.io/en/latest/references/keywords.html#keyword-namespace-packages\n",
            "  declare_namespace(pkg)\n",
            "/usr/local/lib/python3.12/dist-packages/pkg_resources/__init__.py:3154: DeprecationWarning: Deprecated call to `pkg_resources.declare_namespace('sphinxcontrib')`.\n",
            "Implementing implicit namespace packages (as specified in PEP 420) is preferred to `pkg_resources.declare_namespace`. See https://setuptools.pypa.io/en/latest/references/keywords.html#keyword-namespace-packages\n",
            "  declare_namespace(pkg)\n",
            "/usr/local/lib/python3.12/dist-packages/stable_baselines3/common/vec_env/vec_monitor.py:44: UserWarning: The environment is already wrapped with a `Monitor` wrapperbut you are wrapping it with a `VecMonitor` wrapper, the `Monitor` statistics will beoverwritten by the `VecMonitor` ones.\n",
            "  warnings.warn(\n",
            "/usr/local/lib/python3.12/dist-packages/jupyter_client/session.py:151: DeprecationWarning: datetime.datetime.utcnow() is deprecated and scheduled for removal in a future version. Use timezone-aware objects to represent datetimes in UTC: datetime.datetime.now(datetime.UTC).\n",
            "  return datetime.utcnow().replace(tzinfo=utc)\n"
          ]
        }
      ]
    },
    {
      "cell_type": "code",
      "source": [
        "\n",
        "#@title 🧠 Create PPO model + callbacks\n",
        "\n",
        "#stop early once reached a decent score\n",
        "reward_threshold_callback = StopTrainingOnRewardThreshold(reward_threshold=300.0, verbose=1)\n",
        "\n",
        "eval_callback = EvalCallback(\n",
        "    eval_env,\n",
        "    best_model_save_path=LOG_DIR,\n",
        "    log_path=LOG_DIR,\n",
        "    eval_freq=max(10_000 // N_ENVS, 1),  # evaluate periodically\n",
        "    n_eval_episodes=10,\n",
        "    deterministic=True,\n",
        "    render=False,\n",
        "    callback_after_eval=reward_threshold_callback,\n",
        ")\n",
        "\n",
        "policy_kwargs = dict(net_arch=[256, 256])  # decent MLP for LunarLander\n",
        "\n",
        "model = PPO(\n",
        "    \"MlpPolicy\",\n",
        "    train_env,\n",
        "    verbose=1,\n",
        "    tensorboard_log=LOG_DIR,\n",
        "    seed=SEED,\n",
        "    n_steps=2048,          # rollout length per env\n",
        "    batch_size=256,        # minibatch size\n",
        "    gae_lambda=0.95,\n",
        "    gamma=0.999,\n",
        "    n_epochs=10,\n",
        "    learning_rate=3e-4,\n",
        "    clip_range=0.2,\n",
        "    policy_kwargs=policy_kwargs,\n",
        ")\n",
        "model\n"
      ],
      "metadata": {
        "colab": {
          "base_uri": "https://localhost:8080/"
        },
        "id": "0FxBUcGPMfSM",
        "outputId": "ce3528a1-c92b-4a34-ed1c-09b5f01e1dd9"
      },
      "execution_count": 6,
      "outputs": [
        {
          "output_type": "stream",
          "name": "stdout",
          "text": [
            "Using cuda device\n"
          ]
        },
        {
          "output_type": "stream",
          "name": "stderr",
          "text": [
            "/usr/local/lib/python3.12/dist-packages/stable_baselines3/common/on_policy_algorithm.py:150: UserWarning: You are trying to run PPO on the GPU, but it is primarily intended to run on the CPU when not using a CNN policy (you are using ActorCriticPolicy which should be a MlpPolicy). See https://github.com/DLR-RM/stable-baselines3/issues/1245 for more info. You can pass `device='cpu'` or `export CUDA_VISIBLE_DEVICES=` to force using the CPU.Note: The model will train, but the GPU utilization will be poor and the training might take longer than on CPU.\n",
            "  warnings.warn(\n",
            "/usr/local/lib/python3.12/dist-packages/jupyter_client/session.py:151: DeprecationWarning: datetime.datetime.utcnow() is deprecated and scheduled for removal in a future version. Use timezone-aware objects to represent datetimes in UTC: datetime.datetime.now(datetime.UTC).\n",
            "  return datetime.utcnow().replace(tzinfo=utc)\n"
          ]
        },
        {
          "output_type": "execute_result",
          "data": {
            "text/plain": [
              "<stable_baselines3.ppo.ppo.PPO at 0x7e1a83ea56d0>"
            ]
          },
          "metadata": {},
          "execution_count": 6
        }
      ]
    },
    {
      "cell_type": "code",
      "source": [
        "\n",
        "#@title Train PPO (this will take a while)\n",
        "start = time.time()\n",
        "model.learn(total_timesteps=TOTAL_TIMESTEPS, callback=eval_callback, progress_bar=True)\n",
        "wall = time.time() - start\n",
        "print(f\"Training finished in {wall/60:.1f} minutes.\")\n",
        "\n",
        "# Load best model (if saved), otherwise keep current\n",
        "best_path = os.path.join(LOG_DIR, \"best_model.zip\")\n",
        "if os.path.exists(best_path):\n",
        "    print(\"Loading best model from\", best_path)\n",
        "    model = PPO.load(best_path, env=train_env, device=\"auto\")\n"
      ],
      "metadata": {
        "colab": {
          "base_uri": "https://localhost:8080/",
          "height": 1000,
          "referenced_widgets": [
            "5f7008acfd3944fe8de3da34cb29819e",
            "f3d96864df2d4bd9966dc03aac34c9b2"
          ]
        },
        "id": "iuKopIfIMfPq",
        "outputId": "86e97435-145f-47c4-e6d4-6ebaaf51c1d9"
      },
      "execution_count": 7,
      "outputs": [
        {
          "output_type": "stream",
          "name": "stdout",
          "text": [
            "Logging to ./lander_logs/PPO_1\n"
          ]
        },
        {
          "output_type": "display_data",
          "data": {
            "text/plain": [
              "Output()"
            ],
            "application/vnd.jupyter.widget-view+json": {
              "version_major": 2,
              "version_minor": 0,
              "model_id": "5f7008acfd3944fe8de3da34cb29819e"
            }
          },
          "metadata": {}
        },
        {
          "output_type": "display_data",
          "data": {
            "text/plain": [
              "/usr/local/lib/python3.12/dist-packages/ipywidgets/widgets/widget_output.py:111: DeprecationWarning: \n",
              "Kernel._parent_header is deprecated in ipykernel 6. Use .get_parent()\n",
              "  if ip and hasattr(ip, 'kernel') and hasattr(ip.kernel, '_parent_header'):\n"
            ],
            "text/html": [
              "<pre style=\"white-space:pre;overflow-x:auto;line-height:normal;font-family:Menlo,'DejaVu Sans Mono',consolas,'Courier New',monospace\">/usr/local/lib/python3.12/dist-packages/ipywidgets/widgets/widget_output.py:111: DeprecationWarning: \n",
              "Kernel._parent_header is deprecated in ipykernel 6. Use .get_parent()\n",
              "  if ip and hasattr(ip, 'kernel') and hasattr(ip.kernel, '_parent_header'):\n",
              "</pre>\n"
            ]
          },
          "metadata": {}
        },
        {
          "output_type": "stream",
          "name": "stderr",
          "text": [
            "/usr/local/lib/python3.12/dist-packages/stable_baselines3/common/callbacks.py:418: UserWarning: Training and eval env are not of the same type<stable_baselines3.common.vec_env.vec_monitor.VecMonitor object at 0x7e1a699bb6b0> != <stable_baselines3.common.vec_env.dummy_vec_env.DummyVecEnv object at 0x7e1a69932480>\n",
            "  warnings.warn(\"Training and eval env are not of the same type\" f\"{self.training_env} != {self.eval_env}\")\n"
          ]
        },
        {
          "output_type": "display_data",
          "data": {
            "text/plain": [
              "/usr/local/lib/python3.12/dist-packages/stable_baselines3/common/evaluation.py:70: UserWarning: Evaluation \n",
              "environment is not wrapped with a ``Monitor`` wrapper. This may result in reporting modified episode lengths and \n",
              "rewards, if other wrappers happen to modify these. Consider wrapping environment first with ``Monitor`` wrapper.\n",
              "  warnings.warn(\n"
            ],
            "text/html": [
              "<pre style=\"white-space:pre;overflow-x:auto;line-height:normal;font-family:Menlo,'DejaVu Sans Mono',consolas,'Courier New',monospace\">/usr/local/lib/python3.12/dist-packages/stable_baselines3/common/evaluation.py:70: UserWarning: Evaluation \n",
              "environment is not wrapped with a ``Monitor`` wrapper. This may result in reporting modified episode lengths and \n",
              "rewards, if other wrappers happen to modify these. Consider wrapping environment first with ``Monitor`` wrapper.\n",
              "  warnings.warn(\n",
              "</pre>\n"
            ]
          },
          "metadata": {}
        },
        {
          "output_type": "display_data",
          "data": {
            "text/plain": [
              "Eval num_timesteps=10000, episode_reward=-162.80 +/- 34.88\n"
            ],
            "text/html": [
              "<pre style=\"white-space:pre;overflow-x:auto;line-height:normal;font-family:Menlo,'DejaVu Sans Mono',consolas,'Courier New',monospace\">Eval num_timesteps=10000, episode_reward=-162.80 +/- 34.88\n",
              "</pre>\n"
            ]
          },
          "metadata": {}
        },
        {
          "output_type": "display_data",
          "data": {
            "text/plain": [
              "Episode length: 75.30 +/- 7.63\n"
            ],
            "text/html": [
              "<pre style=\"white-space:pre;overflow-x:auto;line-height:normal;font-family:Menlo,'DejaVu Sans Mono',consolas,'Courier New',monospace\">Episode length: 75.30 +/- 7.63\n",
              "</pre>\n"
            ]
          },
          "metadata": {}
        },
        {
          "output_type": "stream",
          "name": "stdout",
          "text": [
            "---------------------------------\n",
            "| eval/              |          |\n",
            "|    mean_ep_length  | 75.3     |\n",
            "|    mean_reward     | -163     |\n",
            "| time/              |          |\n",
            "|    total_timesteps | 10000    |\n",
            "---------------------------------\n"
          ]
        },
        {
          "output_type": "display_data",
          "data": {
            "text/plain": [
              "New best mean reward!\n"
            ],
            "text/html": [
              "<pre style=\"white-space:pre;overflow-x:auto;line-height:normal;font-family:Menlo,'DejaVu Sans Mono',consolas,'Courier New',monospace\">New best mean reward!\n",
              "</pre>\n"
            ]
          },
          "metadata": {}
        },
        {
          "output_type": "stream",
          "name": "stdout",
          "text": [
            "---------------------------------\n",
            "| rollout/           |          |\n",
            "|    ep_len_mean     | 91.7     |\n",
            "|    ep_rew_mean     | -206     |\n",
            "| time/              |          |\n",
            "|    fps             | 2620     |\n",
            "|    iterations      | 1        |\n",
            "|    time_elapsed    | 6        |\n",
            "|    total_timesteps | 16384    |\n",
            "---------------------------------\n"
          ]
        },
        {
          "output_type": "display_data",
          "data": {
            "text/plain": [
              "Eval num_timesteps=20000, episode_reward=-1050.79 +/- 710.18\n"
            ],
            "text/html": [
              "<pre style=\"white-space:pre;overflow-x:auto;line-height:normal;font-family:Menlo,'DejaVu Sans Mono',consolas,'Courier New',monospace\">Eval num_timesteps=20000, episode_reward=-1050.79 +/- 710.18\n",
              "</pre>\n"
            ]
          },
          "metadata": {}
        },
        {
          "output_type": "display_data",
          "data": {
            "text/plain": [
              "Episode length: 179.40 +/- 74.92\n"
            ],
            "text/html": [
              "<pre style=\"white-space:pre;overflow-x:auto;line-height:normal;font-family:Menlo,'DejaVu Sans Mono',consolas,'Courier New',monospace\">Episode length: 179.40 +/- 74.92\n",
              "</pre>\n"
            ]
          },
          "metadata": {}
        },
        {
          "output_type": "stream",
          "name": "stdout",
          "text": [
            "-----------------------------------------\n",
            "| eval/                   |             |\n",
            "|    mean_ep_length       | 179         |\n",
            "|    mean_reward          | -1.05e+03   |\n",
            "| time/                   |             |\n",
            "|    total_timesteps      | 20000       |\n",
            "| train/                  |             |\n",
            "|    approx_kl            | 0.011275461 |\n",
            "|    clip_fraction        | 0.085       |\n",
            "|    clip_range           | 0.2         |\n",
            "|    entropy_loss         | -1.38       |\n",
            "|    explained_variance   | -0.000329   |\n",
            "|    learning_rate        | 0.0003      |\n",
            "|    loss                 | 464         |\n",
            "|    n_updates            | 10          |\n",
            "|    policy_gradient_loss | -0.0085     |\n",
            "|    value_loss           | 1.18e+03    |\n",
            "-----------------------------------------\n"
          ]
        },
        {
          "output_type": "display_data",
          "data": {
            "text/plain": [
              "Eval num_timesteps=30000, episode_reward=-919.10 +/- 384.70\n"
            ],
            "text/html": [
              "<pre style=\"white-space:pre;overflow-x:auto;line-height:normal;font-family:Menlo,'DejaVu Sans Mono',consolas,'Courier New',monospace\">Eval num_timesteps=30000, episode_reward=-919.10 +/- 384.70\n",
              "</pre>\n"
            ]
          },
          "metadata": {}
        },
        {
          "output_type": "display_data",
          "data": {
            "text/plain": [
              "Episode length: 178.20 +/- 81.97\n"
            ],
            "text/html": [
              "<pre style=\"white-space:pre;overflow-x:auto;line-height:normal;font-family:Menlo,'DejaVu Sans Mono',consolas,'Courier New',monospace\">Episode length: 178.20 +/- 81.97\n",
              "</pre>\n"
            ]
          },
          "metadata": {}
        },
        {
          "output_type": "stream",
          "name": "stdout",
          "text": [
            "---------------------------------\n",
            "| eval/              |          |\n",
            "|    mean_ep_length  | 178      |\n",
            "|    mean_reward     | -919     |\n",
            "| time/              |          |\n",
            "|    total_timesteps | 30000    |\n",
            "---------------------------------\n",
            "---------------------------------\n",
            "| rollout/           |          |\n",
            "|    ep_len_mean     | 95.7     |\n",
            "|    ep_rew_mean     | -162     |\n",
            "| time/              |          |\n",
            "|    fps             | 1896     |\n",
            "|    iterations      | 2        |\n",
            "|    time_elapsed    | 17       |\n",
            "|    total_timesteps | 32768    |\n",
            "---------------------------------\n"
          ]
        },
        {
          "output_type": "display_data",
          "data": {
            "text/plain": [
              "Eval num_timesteps=40000, episode_reward=-863.52 +/- 567.31\n"
            ],
            "text/html": [
              "<pre style=\"white-space:pre;overflow-x:auto;line-height:normal;font-family:Menlo,'DejaVu Sans Mono',consolas,'Courier New',monospace\">Eval num_timesteps=40000, episode_reward=-863.52 +/- 567.31\n",
              "</pre>\n"
            ]
          },
          "metadata": {}
        },
        {
          "output_type": "display_data",
          "data": {
            "text/plain": [
              "Episode length: 199.20 +/- 59.40\n"
            ],
            "text/html": [
              "<pre style=\"white-space:pre;overflow-x:auto;line-height:normal;font-family:Menlo,'DejaVu Sans Mono',consolas,'Courier New',monospace\">Episode length: 199.20 +/- 59.40\n",
              "</pre>\n"
            ]
          },
          "metadata": {}
        },
        {
          "output_type": "stream",
          "name": "stdout",
          "text": [
            "-----------------------------------------\n",
            "| eval/                   |             |\n",
            "|    mean_ep_length       | 199         |\n",
            "|    mean_reward          | -864        |\n",
            "| time/                   |             |\n",
            "|    total_timesteps      | 40000       |\n",
            "| train/                  |             |\n",
            "|    approx_kl            | 0.009978928 |\n",
            "|    clip_fraction        | 0.0618      |\n",
            "|    clip_range           | 0.2         |\n",
            "|    entropy_loss         | -1.36       |\n",
            "|    explained_variance   | 0.29        |\n",
            "|    learning_rate        | 0.0003      |\n",
            "|    loss                 | 180         |\n",
            "|    n_updates            | 20          |\n",
            "|    policy_gradient_loss | -0.00642    |\n",
            "|    value_loss           | 473         |\n",
            "-----------------------------------------\n",
            "---------------------------------\n",
            "| rollout/           |          |\n",
            "|    ep_len_mean     | 106      |\n",
            "|    ep_rew_mean     | -155     |\n",
            "| time/              |          |\n",
            "|    fps             | 1839     |\n",
            "|    iterations      | 3        |\n",
            "|    time_elapsed    | 26       |\n",
            "|    total_timesteps | 49152    |\n",
            "---------------------------------\n"
          ]
        },
        {
          "output_type": "display_data",
          "data": {
            "text/plain": [
              "Eval num_timesteps=50000, episode_reward=-1200.21 +/- 546.07\n"
            ],
            "text/html": [
              "<pre style=\"white-space:pre;overflow-x:auto;line-height:normal;font-family:Menlo,'DejaVu Sans Mono',consolas,'Courier New',monospace\">Eval num_timesteps=50000, episode_reward=-1200.21 +/- 546.07\n",
              "</pre>\n"
            ]
          },
          "metadata": {}
        },
        {
          "output_type": "display_data",
          "data": {
            "text/plain": [
              "Episode length: 238.00 +/- 41.20\n"
            ],
            "text/html": [
              "<pre style=\"white-space:pre;overflow-x:auto;line-height:normal;font-family:Menlo,'DejaVu Sans Mono',consolas,'Courier New',monospace\">Episode length: 238.00 +/- 41.20\n",
              "</pre>\n"
            ]
          },
          "metadata": {}
        },
        {
          "output_type": "stream",
          "name": "stdout",
          "text": [
            "-----------------------------------------\n",
            "| eval/                   |             |\n",
            "|    mean_ep_length       | 238         |\n",
            "|    mean_reward          | -1.2e+03    |\n",
            "| time/                   |             |\n",
            "|    total_timesteps      | 50000       |\n",
            "| train/                  |             |\n",
            "|    approx_kl            | 0.009384636 |\n",
            "|    clip_fraction        | 0.082       |\n",
            "|    clip_range           | 0.2         |\n",
            "|    entropy_loss         | -1.33       |\n",
            "|    explained_variance   | 0.32        |\n",
            "|    learning_rate        | 0.0003      |\n",
            "|    loss                 | 210         |\n",
            "|    n_updates            | 30          |\n",
            "|    policy_gradient_loss | -0.00748    |\n",
            "|    value_loss           | 404         |\n",
            "-----------------------------------------\n"
          ]
        },
        {
          "output_type": "display_data",
          "data": {
            "text/plain": [
              "Eval num_timesteps=60000, episode_reward=-1111.56 +/- 740.20\n"
            ],
            "text/html": [
              "<pre style=\"white-space:pre;overflow-x:auto;line-height:normal;font-family:Menlo,'DejaVu Sans Mono',consolas,'Courier New',monospace\">Eval num_timesteps=60000, episode_reward=-1111.56 +/- 740.20\n",
              "</pre>\n"
            ]
          },
          "metadata": {}
        },
        {
          "output_type": "display_data",
          "data": {
            "text/plain": [
              "Episode length: 272.10 +/- 62.24\n"
            ],
            "text/html": [
              "<pre style=\"white-space:pre;overflow-x:auto;line-height:normal;font-family:Menlo,'DejaVu Sans Mono',consolas,'Courier New',monospace\">Episode length: 272.10 +/- 62.24\n",
              "</pre>\n"
            ]
          },
          "metadata": {}
        },
        {
          "output_type": "stream",
          "name": "stdout",
          "text": [
            "----------------------------------\n",
            "| eval/              |           |\n",
            "|    mean_ep_length  | 272       |\n",
            "|    mean_reward     | -1.11e+03 |\n",
            "| time/              |           |\n",
            "|    total_timesteps | 60000     |\n",
            "----------------------------------\n",
            "---------------------------------\n",
            "| rollout/           |          |\n",
            "|    ep_len_mean     | 125      |\n",
            "|    ep_rew_mean     | -128     |\n",
            "| time/              |          |\n",
            "|    fps             | 1695     |\n",
            "|    iterations      | 4        |\n",
            "|    time_elapsed    | 38       |\n",
            "|    total_timesteps | 65536    |\n",
            "---------------------------------\n"
          ]
        },
        {
          "output_type": "display_data",
          "data": {
            "text/plain": [
              "Eval num_timesteps=70000, episode_reward=-1205.56 +/- 497.82\n"
            ],
            "text/html": [
              "<pre style=\"white-space:pre;overflow-x:auto;line-height:normal;font-family:Menlo,'DejaVu Sans Mono',consolas,'Courier New',monospace\">Eval num_timesteps=70000, episode_reward=-1205.56 +/- 497.82\n",
              "</pre>\n"
            ]
          },
          "metadata": {}
        },
        {
          "output_type": "display_data",
          "data": {
            "text/plain": [
              "Episode length: 217.50 +/- 22.66\n"
            ],
            "text/html": [
              "<pre style=\"white-space:pre;overflow-x:auto;line-height:normal;font-family:Menlo,'DejaVu Sans Mono',consolas,'Courier New',monospace\">Episode length: 217.50 +/- 22.66\n",
              "</pre>\n"
            ]
          },
          "metadata": {}
        },
        {
          "output_type": "stream",
          "name": "stdout",
          "text": [
            "-----------------------------------------\n",
            "| eval/                   |             |\n",
            "|    mean_ep_length       | 218         |\n",
            "|    mean_reward          | -1.21e+03   |\n",
            "| time/                   |             |\n",
            "|    total_timesteps      | 70000       |\n",
            "| train/                  |             |\n",
            "|    approx_kl            | 0.009745672 |\n",
            "|    clip_fraction        | 0.0847      |\n",
            "|    clip_range           | 0.2         |\n",
            "|    entropy_loss         | -1.29       |\n",
            "|    explained_variance   | 0.193       |\n",
            "|    learning_rate        | 0.0003      |\n",
            "|    loss                 | 145         |\n",
            "|    n_updates            | 40          |\n",
            "|    policy_gradient_loss | -0.00675    |\n",
            "|    value_loss           | 319         |\n",
            "-----------------------------------------\n"
          ]
        },
        {
          "output_type": "display_data",
          "data": {
            "text/plain": [
              "Eval num_timesteps=80000, episode_reward=-1659.85 +/- 631.70\n"
            ],
            "text/html": [
              "<pre style=\"white-space:pre;overflow-x:auto;line-height:normal;font-family:Menlo,'DejaVu Sans Mono',consolas,'Courier New',monospace\">Eval num_timesteps=80000, episode_reward=-1659.85 +/- 631.70\n",
              "</pre>\n"
            ]
          },
          "metadata": {}
        },
        {
          "output_type": "display_data",
          "data": {
            "text/plain": [
              "Episode length: 247.00 +/- 38.96\n"
            ],
            "text/html": [
              "<pre style=\"white-space:pre;overflow-x:auto;line-height:normal;font-family:Menlo,'DejaVu Sans Mono',consolas,'Courier New',monospace\">Episode length: 247.00 +/- 38.96\n",
              "</pre>\n"
            ]
          },
          "metadata": {}
        },
        {
          "output_type": "stream",
          "name": "stdout",
          "text": [
            "----------------------------------\n",
            "| eval/              |           |\n",
            "|    mean_ep_length  | 247       |\n",
            "|    mean_reward     | -1.66e+03 |\n",
            "| time/              |           |\n",
            "|    total_timesteps | 80000     |\n",
            "----------------------------------\n",
            "---------------------------------\n",
            "| rollout/           |          |\n",
            "|    ep_len_mean     | 125      |\n",
            "|    ep_rew_mean     | -123     |\n",
            "| time/              |          |\n",
            "|    fps             | 1632     |\n",
            "|    iterations      | 5        |\n",
            "|    time_elapsed    | 50       |\n",
            "|    total_timesteps | 81920    |\n",
            "---------------------------------\n"
          ]
        },
        {
          "output_type": "display_data",
          "data": {
            "text/plain": [
              "Eval num_timesteps=90000, episode_reward=-1596.10 +/- 1134.42\n"
            ],
            "text/html": [
              "<pre style=\"white-space:pre;overflow-x:auto;line-height:normal;font-family:Menlo,'DejaVu Sans Mono',consolas,'Courier New',monospace\">Eval num_timesteps=90000, episode_reward=-1596.10 +/- 1134.42\n",
              "</pre>\n"
            ]
          },
          "metadata": {}
        },
        {
          "output_type": "display_data",
          "data": {
            "text/plain": [
              "Episode length: 261.40 +/- 112.29\n"
            ],
            "text/html": [
              "<pre style=\"white-space:pre;overflow-x:auto;line-height:normal;font-family:Menlo,'DejaVu Sans Mono',consolas,'Courier New',monospace\">Episode length: 261.40 +/- 112.29\n",
              "</pre>\n"
            ]
          },
          "metadata": {}
        },
        {
          "output_type": "stream",
          "name": "stdout",
          "text": [
            "-----------------------------------------\n",
            "| eval/                   |             |\n",
            "|    mean_ep_length       | 261         |\n",
            "|    mean_reward          | -1.6e+03    |\n",
            "| time/                   |             |\n",
            "|    total_timesteps      | 90000       |\n",
            "| train/                  |             |\n",
            "|    approx_kl            | 0.010347059 |\n",
            "|    clip_fraction        | 0.0905      |\n",
            "|    clip_range           | 0.2         |\n",
            "|    entropy_loss         | -1.24       |\n",
            "|    explained_variance   | 0.256       |\n",
            "|    learning_rate        | 0.0003      |\n",
            "|    loss                 | 246         |\n",
            "|    n_updates            | 50          |\n",
            "|    policy_gradient_loss | -0.00747    |\n",
            "|    value_loss           | 350         |\n",
            "-----------------------------------------\n"
          ]
        },
        {
          "output_type": "display_data",
          "data": {
            "text/plain": [
              "Eval num_timesteps=100000, episode_reward=-960.39 +/- 983.24\n"
            ],
            "text/html": [
              "<pre style=\"white-space:pre;overflow-x:auto;line-height:normal;font-family:Menlo,'DejaVu Sans Mono',consolas,'Courier New',monospace\">Eval num_timesteps=100000, episode_reward=-960.39 +/- 983.24\n",
              "</pre>\n"
            ]
          },
          "metadata": {}
        },
        {
          "output_type": "display_data",
          "data": {
            "text/plain": [
              "Episode length: 362.50 +/- 217.33\n"
            ],
            "text/html": [
              "<pre style=\"white-space:pre;overflow-x:auto;line-height:normal;font-family:Menlo,'DejaVu Sans Mono',consolas,'Courier New',monospace\">Episode length: 362.50 +/- 217.33\n",
              "</pre>\n"
            ]
          },
          "metadata": {}
        },
        {
          "output_type": "stream",
          "name": "stdout",
          "text": [
            "-----------------------------------------\n",
            "| eval/                   |             |\n",
            "|    mean_ep_length       | 362         |\n",
            "|    mean_reward          | -960        |\n",
            "| time/                   |             |\n",
            "|    total_timesteps      | 100000      |\n",
            "| train/                  |             |\n",
            "|    approx_kl            | 0.009844506 |\n",
            "|    clip_fraction        | 0.102       |\n",
            "|    clip_range           | 0.2         |\n",
            "|    entropy_loss         | -1.23       |\n",
            "|    explained_variance   | 0.31        |\n",
            "|    learning_rate        | 0.0003      |\n",
            "|    loss                 | 157         |\n",
            "|    n_updates            | 60          |\n",
            "|    policy_gradient_loss | -0.00854    |\n",
            "|    value_loss           | 272         |\n",
            "-----------------------------------------\n"
          ]
        },
        {
          "output_type": "display_data",
          "data": {
            "text/plain": [
              "Eval num_timesteps=110000, episode_reward=-688.04 +/- 210.28\n"
            ],
            "text/html": [
              "<pre style=\"white-space:pre;overflow-x:auto;line-height:normal;font-family:Menlo,'DejaVu Sans Mono',consolas,'Courier New',monospace\">Eval num_timesteps=110000, episode_reward=-688.04 +/- 210.28\n",
              "</pre>\n"
            ]
          },
          "metadata": {}
        },
        {
          "output_type": "display_data",
          "data": {
            "text/plain": [
              "Episode length: 342.90 +/- 81.07\n"
            ],
            "text/html": [
              "<pre style=\"white-space:pre;overflow-x:auto;line-height:normal;font-family:Menlo,'DejaVu Sans Mono',consolas,'Courier New',monospace\">Episode length: 342.90 +/- 81.07\n",
              "</pre>\n"
            ]
          },
          "metadata": {}
        },
        {
          "output_type": "stream",
          "name": "stdout",
          "text": [
            "---------------------------------\n",
            "| eval/              |          |\n",
            "|    mean_ep_length  | 343      |\n",
            "|    mean_reward     | -688     |\n",
            "| time/              |          |\n",
            "|    total_timesteps | 110000   |\n",
            "---------------------------------\n",
            "---------------------------------\n",
            "| rollout/           |          |\n",
            "|    ep_len_mean     | 137      |\n",
            "|    ep_rew_mean     | -61.5    |\n",
            "| time/              |          |\n",
            "|    fps             | 1549     |\n",
            "|    iterations      | 7        |\n",
            "|    time_elapsed    | 74       |\n",
            "|    total_timesteps | 114688   |\n",
            "---------------------------------\n"
          ]
        },
        {
          "output_type": "display_data",
          "data": {
            "text/plain": [
              "Eval num_timesteps=120000, episode_reward=-252.48 +/- 38.82\n"
            ],
            "text/html": [
              "<pre style=\"white-space:pre;overflow-x:auto;line-height:normal;font-family:Menlo,'DejaVu Sans Mono',consolas,'Courier New',monospace\">Eval num_timesteps=120000, episode_reward=-252.48 +/- 38.82\n",
              "</pre>\n"
            ]
          },
          "metadata": {}
        },
        {
          "output_type": "display_data",
          "data": {
            "text/plain": [
              "Episode length: 301.30 +/- 57.43\n"
            ],
            "text/html": [
              "<pre style=\"white-space:pre;overflow-x:auto;line-height:normal;font-family:Menlo,'DejaVu Sans Mono',consolas,'Courier New',monospace\">Episode length: 301.30 +/- 57.43\n",
              "</pre>\n"
            ]
          },
          "metadata": {}
        },
        {
          "output_type": "stream",
          "name": "stdout",
          "text": [
            "----------------------------------------\n",
            "| eval/                   |            |\n",
            "|    mean_ep_length       | 301        |\n",
            "|    mean_reward          | -252       |\n",
            "| time/                   |            |\n",
            "|    total_timesteps      | 120000     |\n",
            "| train/                  |            |\n",
            "|    approx_kl            | 0.00846018 |\n",
            "|    clip_fraction        | 0.0908     |\n",
            "|    clip_range           | 0.2        |\n",
            "|    entropy_loss         | -1.18      |\n",
            "|    explained_variance   | 0.448      |\n",
            "|    learning_rate        | 0.0003     |\n",
            "|    loss                 | 71.5       |\n",
            "|    n_updates            | 70         |\n",
            "|    policy_gradient_loss | -0.00802   |\n",
            "|    value_loss           | 164        |\n",
            "----------------------------------------\n"
          ]
        },
        {
          "output_type": "display_data",
          "data": {
            "text/plain": [
              "Eval num_timesteps=130000, episode_reward=-323.11 +/- 81.47\n"
            ],
            "text/html": [
              "<pre style=\"white-space:pre;overflow-x:auto;line-height:normal;font-family:Menlo,'DejaVu Sans Mono',consolas,'Courier New',monospace\">Eval num_timesteps=130000, episode_reward=-323.11 +/- 81.47\n",
              "</pre>\n"
            ]
          },
          "metadata": {}
        },
        {
          "output_type": "display_data",
          "data": {
            "text/plain": [
              "Episode length: 415.60 +/- 112.18\n"
            ],
            "text/html": [
              "<pre style=\"white-space:pre;overflow-x:auto;line-height:normal;font-family:Menlo,'DejaVu Sans Mono',consolas,'Courier New',monospace\">Episode length: 415.60 +/- 112.18\n",
              "</pre>\n"
            ]
          },
          "metadata": {}
        },
        {
          "output_type": "stream",
          "name": "stdout",
          "text": [
            "---------------------------------\n",
            "| eval/              |          |\n",
            "|    mean_ep_length  | 416      |\n",
            "|    mean_reward     | -323     |\n",
            "| time/              |          |\n",
            "|    total_timesteps | 130000   |\n",
            "---------------------------------\n",
            "---------------------------------\n",
            "| rollout/           |          |\n",
            "|    ep_len_mean     | 143      |\n",
            "|    ep_rew_mean     | -38.3    |\n",
            "| time/              |          |\n",
            "|    fps             | 1489     |\n",
            "|    iterations      | 8        |\n",
            "|    time_elapsed    | 87       |\n",
            "|    total_timesteps | 131072   |\n",
            "---------------------------------\n"
          ]
        },
        {
          "output_type": "display_data",
          "data": {
            "text/plain": [
              "Eval num_timesteps=140000, episode_reward=-207.93 +/- 71.95\n"
            ],
            "text/html": [
              "<pre style=\"white-space:pre;overflow-x:auto;line-height:normal;font-family:Menlo,'DejaVu Sans Mono',consolas,'Courier New',monospace\">Eval num_timesteps=140000, episode_reward=-207.93 +/- 71.95\n",
              "</pre>\n"
            ]
          },
          "metadata": {}
        },
        {
          "output_type": "display_data",
          "data": {
            "text/plain": [
              "Episode length: 388.80 +/- 117.51\n"
            ],
            "text/html": [
              "<pre style=\"white-space:pre;overflow-x:auto;line-height:normal;font-family:Menlo,'DejaVu Sans Mono',consolas,'Courier New',monospace\">Episode length: 388.80 +/- 117.51\n",
              "</pre>\n"
            ]
          },
          "metadata": {}
        },
        {
          "output_type": "stream",
          "name": "stdout",
          "text": [
            "-----------------------------------------\n",
            "| eval/                   |             |\n",
            "|    mean_ep_length       | 389         |\n",
            "|    mean_reward          | -208        |\n",
            "| time/                   |             |\n",
            "|    total_timesteps      | 140000      |\n",
            "| train/                  |             |\n",
            "|    approx_kl            | 0.008902278 |\n",
            "|    clip_fraction        | 0.104       |\n",
            "|    clip_range           | 0.2         |\n",
            "|    entropy_loss         | -1.17       |\n",
            "|    explained_variance   | 0.601       |\n",
            "|    learning_rate        | 0.0003      |\n",
            "|    loss                 | 46.1        |\n",
            "|    n_updates            | 80          |\n",
            "|    policy_gradient_loss | -0.0115     |\n",
            "|    value_loss           | 110         |\n",
            "-----------------------------------------\n",
            "---------------------------------\n",
            "| rollout/           |          |\n",
            "|    ep_len_mean     | 146      |\n",
            "|    ep_rew_mean     | -37.9    |\n",
            "| time/              |          |\n",
            "|    fps             | 1490     |\n",
            "|    iterations      | 9        |\n",
            "|    time_elapsed    | 98       |\n",
            "|    total_timesteps | 147456   |\n",
            "---------------------------------\n"
          ]
        },
        {
          "output_type": "display_data",
          "data": {
            "text/plain": [
              "Eval num_timesteps=150000, episode_reward=-156.12 +/- 50.67\n"
            ],
            "text/html": [
              "<pre style=\"white-space:pre;overflow-x:auto;line-height:normal;font-family:Menlo,'DejaVu Sans Mono',consolas,'Courier New',monospace\">Eval num_timesteps=150000, episode_reward=-156.12 +/- 50.67\n",
              "</pre>\n"
            ]
          },
          "metadata": {}
        },
        {
          "output_type": "display_data",
          "data": {
            "text/plain": [
              "Episode length: 429.10 +/- 175.49\n"
            ],
            "text/html": [
              "<pre style=\"white-space:pre;overflow-x:auto;line-height:normal;font-family:Menlo,'DejaVu Sans Mono',consolas,'Courier New',monospace\">Episode length: 429.10 +/- 175.49\n",
              "</pre>\n"
            ]
          },
          "metadata": {}
        },
        {
          "output_type": "stream",
          "name": "stdout",
          "text": [
            "------------------------------------------\n",
            "| eval/                   |              |\n",
            "|    mean_ep_length       | 429          |\n",
            "|    mean_reward          | -156         |\n",
            "| time/                   |              |\n",
            "|    total_timesteps      | 150000       |\n",
            "| train/                  |              |\n",
            "|    approx_kl            | 0.0081785135 |\n",
            "|    clip_fraction        | 0.0896       |\n",
            "|    clip_range           | 0.2          |\n",
            "|    entropy_loss         | -1.15        |\n",
            "|    explained_variance   | 0.642        |\n",
            "|    learning_rate        | 0.0003       |\n",
            "|    loss                 | 37.5         |\n",
            "|    n_updates            | 90           |\n",
            "|    policy_gradient_loss | -0.00773     |\n",
            "|    value_loss           | 75.3         |\n",
            "------------------------------------------\n"
          ]
        },
        {
          "output_type": "display_data",
          "data": {
            "text/plain": [
              "New best mean reward!\n"
            ],
            "text/html": [
              "<pre style=\"white-space:pre;overflow-x:auto;line-height:normal;font-family:Menlo,'DejaVu Sans Mono',consolas,'Courier New',monospace\">New best mean reward!\n",
              "</pre>\n"
            ]
          },
          "metadata": {}
        },
        {
          "output_type": "display_data",
          "data": {
            "text/plain": [
              "Eval num_timesteps=160000, episode_reward=-183.01 +/- 33.95\n"
            ],
            "text/html": [
              "<pre style=\"white-space:pre;overflow-x:auto;line-height:normal;font-family:Menlo,'DejaVu Sans Mono',consolas,'Courier New',monospace\">Eval num_timesteps=160000, episode_reward=-183.01 +/- 33.95\n",
              "</pre>\n"
            ]
          },
          "metadata": {}
        },
        {
          "output_type": "display_data",
          "data": {
            "text/plain": [
              "Episode length: 515.20 +/- 249.59\n"
            ],
            "text/html": [
              "<pre style=\"white-space:pre;overflow-x:auto;line-height:normal;font-family:Menlo,'DejaVu Sans Mono',consolas,'Courier New',monospace\">Episode length: 515.20 +/- 249.59\n",
              "</pre>\n"
            ]
          },
          "metadata": {}
        },
        {
          "output_type": "stream",
          "name": "stdout",
          "text": [
            "---------------------------------\n",
            "| eval/              |          |\n",
            "|    mean_ep_length  | 515      |\n",
            "|    mean_reward     | -183     |\n",
            "| time/              |          |\n",
            "|    total_timesteps | 160000   |\n",
            "---------------------------------\n",
            "---------------------------------\n",
            "| rollout/           |          |\n",
            "|    ep_len_mean     | 162      |\n",
            "|    ep_rew_mean     | -12.8    |\n",
            "| time/              |          |\n",
            "|    fps             | 1419     |\n",
            "|    iterations      | 10       |\n",
            "|    time_elapsed    | 115      |\n",
            "|    total_timesteps | 163840   |\n",
            "---------------------------------\n"
          ]
        },
        {
          "output_type": "display_data",
          "data": {
            "text/plain": [
              "Eval num_timesteps=170000, episode_reward=44.43 +/- 145.97\n"
            ],
            "text/html": [
              "<pre style=\"white-space:pre;overflow-x:auto;line-height:normal;font-family:Menlo,'DejaVu Sans Mono',consolas,'Courier New',monospace\">Eval num_timesteps=170000, episode_reward=44.43 +/- 145.97\n",
              "</pre>\n"
            ]
          },
          "metadata": {}
        },
        {
          "output_type": "display_data",
          "data": {
            "text/plain": [
              "Episode length: 338.90 +/- 83.30\n"
            ],
            "text/html": [
              "<pre style=\"white-space:pre;overflow-x:auto;line-height:normal;font-family:Menlo,'DejaVu Sans Mono',consolas,'Courier New',monospace\">Episode length: 338.90 +/- 83.30\n",
              "</pre>\n"
            ]
          },
          "metadata": {}
        },
        {
          "output_type": "stream",
          "name": "stdout",
          "text": [
            "-----------------------------------------\n",
            "| eval/                   |             |\n",
            "|    mean_ep_length       | 339         |\n",
            "|    mean_reward          | 44.4        |\n",
            "| time/                   |             |\n",
            "|    total_timesteps      | 170000      |\n",
            "| train/                  |             |\n",
            "|    approx_kl            | 0.011602558 |\n",
            "|    clip_fraction        | 0.0983      |\n",
            "|    clip_range           | 0.2         |\n",
            "|    entropy_loss         | -1.13       |\n",
            "|    explained_variance   | 0.826       |\n",
            "|    learning_rate        | 0.0003      |\n",
            "|    loss                 | 20.6        |\n",
            "|    n_updates            | 100         |\n",
            "|    policy_gradient_loss | -0.00829    |\n",
            "|    value_loss           | 52.9        |\n",
            "-----------------------------------------\n"
          ]
        },
        {
          "output_type": "display_data",
          "data": {
            "text/plain": [
              "New best mean reward!\n"
            ],
            "text/html": [
              "<pre style=\"white-space:pre;overflow-x:auto;line-height:normal;font-family:Menlo,'DejaVu Sans Mono',consolas,'Courier New',monospace\">New best mean reward!\n",
              "</pre>\n"
            ]
          },
          "metadata": {}
        },
        {
          "output_type": "display_data",
          "data": {
            "text/plain": [
              "Eval num_timesteps=180000, episode_reward=4.93 +/- 140.52\n"
            ],
            "text/html": [
              "<pre style=\"white-space:pre;overflow-x:auto;line-height:normal;font-family:Menlo,'DejaVu Sans Mono',consolas,'Courier New',monospace\">Eval num_timesteps=180000, episode_reward=4.93 +/- 140.52\n",
              "</pre>\n"
            ]
          },
          "metadata": {}
        },
        {
          "output_type": "display_data",
          "data": {
            "text/plain": [
              "Episode length: 336.50 +/- 96.06\n"
            ],
            "text/html": [
              "<pre style=\"white-space:pre;overflow-x:auto;line-height:normal;font-family:Menlo,'DejaVu Sans Mono',consolas,'Courier New',monospace\">Episode length: 336.50 +/- 96.06\n",
              "</pre>\n"
            ]
          },
          "metadata": {}
        },
        {
          "output_type": "stream",
          "name": "stdout",
          "text": [
            "---------------------------------\n",
            "| eval/              |          |\n",
            "|    mean_ep_length  | 336      |\n",
            "|    mean_reward     | 4.93     |\n",
            "| time/              |          |\n",
            "|    total_timesteps | 180000   |\n",
            "---------------------------------\n",
            "---------------------------------\n",
            "| rollout/           |          |\n",
            "|    ep_len_mean     | 169      |\n",
            "|    ep_rew_mean     | -7.17    |\n",
            "| time/              |          |\n",
            "|    fps             | 1396     |\n",
            "|    iterations      | 11       |\n",
            "|    time_elapsed    | 129      |\n",
            "|    total_timesteps | 180224   |\n",
            "---------------------------------\n"
          ]
        },
        {
          "output_type": "display_data",
          "data": {
            "text/plain": [
              "Eval num_timesteps=190000, episode_reward=30.64 +/- 118.09\n"
            ],
            "text/html": [
              "<pre style=\"white-space:pre;overflow-x:auto;line-height:normal;font-family:Menlo,'DejaVu Sans Mono',consolas,'Courier New',monospace\">Eval num_timesteps=190000, episode_reward=30.64 +/- 118.09\n",
              "</pre>\n"
            ]
          },
          "metadata": {}
        },
        {
          "output_type": "display_data",
          "data": {
            "text/plain": [
              "Episode length: 362.20 +/- 228.05\n"
            ],
            "text/html": [
              "<pre style=\"white-space:pre;overflow-x:auto;line-height:normal;font-family:Menlo,'DejaVu Sans Mono',consolas,'Courier New',monospace\">Episode length: 362.20 +/- 228.05\n",
              "</pre>\n"
            ]
          },
          "metadata": {}
        },
        {
          "output_type": "stream",
          "name": "stdout",
          "text": [
            "-----------------------------------------\n",
            "| eval/                   |             |\n",
            "|    mean_ep_length       | 362         |\n",
            "|    mean_reward          | 30.6        |\n",
            "| time/                   |             |\n",
            "|    total_timesteps      | 190000      |\n",
            "| train/                  |             |\n",
            "|    approx_kl            | 0.009788295 |\n",
            "|    clip_fraction        | 0.0974      |\n",
            "|    clip_range           | 0.2         |\n",
            "|    entropy_loss         | -1.1        |\n",
            "|    explained_variance   | 0.919       |\n",
            "|    learning_rate        | 0.0003      |\n",
            "|    loss                 | 25.2        |\n",
            "|    n_updates            | 110         |\n",
            "|    policy_gradient_loss | -0.00537    |\n",
            "|    value_loss           | 44.2        |\n",
            "-----------------------------------------\n",
            "---------------------------------\n",
            "| rollout/           |          |\n",
            "|    ep_len_mean     | 162      |\n",
            "|    ep_rew_mean     | -0.685   |\n",
            "| time/              |          |\n",
            "|    fps             | 1406     |\n",
            "|    iterations      | 12       |\n",
            "|    time_elapsed    | 139      |\n",
            "|    total_timesteps | 196608   |\n",
            "---------------------------------\n"
          ]
        },
        {
          "output_type": "display_data",
          "data": {
            "text/plain": [
              "Eval num_timesteps=200000, episode_reward=154.22 +/- 112.24\n"
            ],
            "text/html": [
              "<pre style=\"white-space:pre;overflow-x:auto;line-height:normal;font-family:Menlo,'DejaVu Sans Mono',consolas,'Courier New',monospace\">Eval num_timesteps=200000, episode_reward=154.22 +/- 112.24\n",
              "</pre>\n"
            ]
          },
          "metadata": {}
        },
        {
          "output_type": "display_data",
          "data": {
            "text/plain": [
              "Episode length: 286.80 +/- 54.91\n"
            ],
            "text/html": [
              "<pre style=\"white-space:pre;overflow-x:auto;line-height:normal;font-family:Menlo,'DejaVu Sans Mono',consolas,'Courier New',monospace\">Episode length: 286.80 +/- 54.91\n",
              "</pre>\n"
            ]
          },
          "metadata": {}
        },
        {
          "output_type": "stream",
          "name": "stdout",
          "text": [
            "------------------------------------------\n",
            "| eval/                   |              |\n",
            "|    mean_ep_length       | 287          |\n",
            "|    mean_reward          | 154          |\n",
            "| time/                   |              |\n",
            "|    total_timesteps      | 200000       |\n",
            "| train/                  |              |\n",
            "|    approx_kl            | 0.0072095413 |\n",
            "|    clip_fraction        | 0.0648       |\n",
            "|    clip_range           | 0.2          |\n",
            "|    entropy_loss         | -1.06        |\n",
            "|    explained_variance   | 0.928        |\n",
            "|    learning_rate        | 0.0003       |\n",
            "|    loss                 | 28.9         |\n",
            "|    n_updates            | 120          |\n",
            "|    policy_gradient_loss | -0.00526     |\n",
            "|    value_loss           | 49.6         |\n",
            "------------------------------------------\n"
          ]
        },
        {
          "output_type": "display_data",
          "data": {
            "text/plain": [
              "New best mean reward!\n"
            ],
            "text/html": [
              "<pre style=\"white-space:pre;overflow-x:auto;line-height:normal;font-family:Menlo,'DejaVu Sans Mono',consolas,'Courier New',monospace\">New best mean reward!\n",
              "</pre>\n"
            ]
          },
          "metadata": {}
        },
        {
          "output_type": "display_data",
          "data": {
            "text/plain": [
              "Eval num_timesteps=210000, episode_reward=143.57 +/- 87.32\n"
            ],
            "text/html": [
              "<pre style=\"white-space:pre;overflow-x:auto;line-height:normal;font-family:Menlo,'DejaVu Sans Mono',consolas,'Courier New',monospace\">Eval num_timesteps=210000, episode_reward=143.57 +/- 87.32\n",
              "</pre>\n"
            ]
          },
          "metadata": {}
        },
        {
          "output_type": "display_data",
          "data": {
            "text/plain": [
              "Episode length: 460.50 +/- 292.62\n"
            ],
            "text/html": [
              "<pre style=\"white-space:pre;overflow-x:auto;line-height:normal;font-family:Menlo,'DejaVu Sans Mono',consolas,'Courier New',monospace\">Episode length: 460.50 +/- 292.62\n",
              "</pre>\n"
            ]
          },
          "metadata": {}
        },
        {
          "output_type": "stream",
          "name": "stdout",
          "text": [
            "---------------------------------\n",
            "| eval/              |          |\n",
            "|    mean_ep_length  | 460      |\n",
            "|    mean_reward     | 144      |\n",
            "| time/              |          |\n",
            "|    total_timesteps | 210000   |\n",
            "---------------------------------\n",
            "---------------------------------\n",
            "| rollout/           |          |\n",
            "|    ep_len_mean     | 196      |\n",
            "|    ep_rew_mean     | 9.23     |\n",
            "| time/              |          |\n",
            "|    fps             | 1381     |\n",
            "|    iterations      | 13       |\n",
            "|    time_elapsed    | 154      |\n",
            "|    total_timesteps | 212992   |\n",
            "---------------------------------\n"
          ]
        },
        {
          "output_type": "display_data",
          "data": {
            "text/plain": [
              "Eval num_timesteps=220000, episode_reward=131.57 +/- 116.01\n"
            ],
            "text/html": [
              "<pre style=\"white-space:pre;overflow-x:auto;line-height:normal;font-family:Menlo,'DejaVu Sans Mono',consolas,'Courier New',monospace\">Eval num_timesteps=220000, episode_reward=131.57 +/- 116.01\n",
              "</pre>\n"
            ]
          },
          "metadata": {}
        },
        {
          "output_type": "display_data",
          "data": {
            "text/plain": [
              "Episode length: 266.10 +/- 48.69\n"
            ],
            "text/html": [
              "<pre style=\"white-space:pre;overflow-x:auto;line-height:normal;font-family:Menlo,'DejaVu Sans Mono',consolas,'Courier New',monospace\">Episode length: 266.10 +/- 48.69\n",
              "</pre>\n"
            ]
          },
          "metadata": {}
        },
        {
          "output_type": "stream",
          "name": "stdout",
          "text": [
            "-----------------------------------------\n",
            "| eval/                   |             |\n",
            "|    mean_ep_length       | 266         |\n",
            "|    mean_reward          | 132         |\n",
            "| time/                   |             |\n",
            "|    total_timesteps      | 220000      |\n",
            "| train/                  |             |\n",
            "|    approx_kl            | 0.009081734 |\n",
            "|    clip_fraction        | 0.0847      |\n",
            "|    clip_range           | 0.2         |\n",
            "|    entropy_loss         | -1.08       |\n",
            "|    explained_variance   | 0.97        |\n",
            "|    learning_rate        | 0.0003      |\n",
            "|    loss                 | 17.6        |\n",
            "|    n_updates            | 130         |\n",
            "|    policy_gradient_loss | -0.00456    |\n",
            "|    value_loss           | 33.1        |\n",
            "-----------------------------------------\n",
            "---------------------------------\n",
            "| rollout/           |          |\n",
            "|    ep_len_mean     | 290      |\n",
            "|    ep_rew_mean     | 27.7     |\n",
            "| time/              |          |\n",
            "|    fps             | 1396     |\n",
            "|    iterations      | 14       |\n",
            "|    time_elapsed    | 164      |\n",
            "|    total_timesteps | 229376   |\n",
            "---------------------------------\n"
          ]
        },
        {
          "output_type": "display_data",
          "data": {
            "text/plain": [
              "Eval num_timesteps=230000, episode_reward=142.15 +/- 131.69\n"
            ],
            "text/html": [
              "<pre style=\"white-space:pre;overflow-x:auto;line-height:normal;font-family:Menlo,'DejaVu Sans Mono',consolas,'Courier New',monospace\">Eval num_timesteps=230000, episode_reward=142.15 +/- 131.69\n",
              "</pre>\n"
            ]
          },
          "metadata": {}
        },
        {
          "output_type": "display_data",
          "data": {
            "text/plain": [
              "Episode length: 412.50 +/- 294.78\n"
            ],
            "text/html": [
              "<pre style=\"white-space:pre;overflow-x:auto;line-height:normal;font-family:Menlo,'DejaVu Sans Mono',consolas,'Courier New',monospace\">Episode length: 412.50 +/- 294.78\n",
              "</pre>\n"
            ]
          },
          "metadata": {}
        },
        {
          "output_type": "stream",
          "name": "stdout",
          "text": [
            "-----------------------------------------\n",
            "| eval/                   |             |\n",
            "|    mean_ep_length       | 412         |\n",
            "|    mean_reward          | 142         |\n",
            "| time/                   |             |\n",
            "|    total_timesteps      | 230000      |\n",
            "| train/                  |             |\n",
            "|    approx_kl            | 0.007767087 |\n",
            "|    clip_fraction        | 0.0727      |\n",
            "|    clip_range           | 0.2         |\n",
            "|    entropy_loss         | -1.1        |\n",
            "|    explained_variance   | 0.984       |\n",
            "|    learning_rate        | 0.0003      |\n",
            "|    loss                 | 4.5         |\n",
            "|    n_updates            | 140         |\n",
            "|    policy_gradient_loss | -0.00371    |\n",
            "|    value_loss           | 15.5        |\n",
            "-----------------------------------------\n"
          ]
        },
        {
          "output_type": "display_data",
          "data": {
            "text/plain": [
              "Eval num_timesteps=240000, episode_reward=175.20 +/- 78.06\n"
            ],
            "text/html": [
              "<pre style=\"white-space:pre;overflow-x:auto;line-height:normal;font-family:Menlo,'DejaVu Sans Mono',consolas,'Courier New',monospace\">Eval num_timesteps=240000, episode_reward=175.20 +/- 78.06\n",
              "</pre>\n"
            ]
          },
          "metadata": {}
        },
        {
          "output_type": "display_data",
          "data": {
            "text/plain": [
              "Episode length: 323.80 +/- 43.74\n"
            ],
            "text/html": [
              "<pre style=\"white-space:pre;overflow-x:auto;line-height:normal;font-family:Menlo,'DejaVu Sans Mono',consolas,'Courier New',monospace\">Episode length: 323.80 +/- 43.74\n",
              "</pre>\n"
            ]
          },
          "metadata": {}
        },
        {
          "output_type": "stream",
          "name": "stdout",
          "text": [
            "---------------------------------\n",
            "| eval/              |          |\n",
            "|    mean_ep_length  | 324      |\n",
            "|    mean_reward     | 175      |\n",
            "| time/              |          |\n",
            "|    total_timesteps | 240000   |\n",
            "---------------------------------\n"
          ]
        },
        {
          "output_type": "display_data",
          "data": {
            "text/plain": [
              "New best mean reward!\n"
            ],
            "text/html": [
              "<pre style=\"white-space:pre;overflow-x:auto;line-height:normal;font-family:Menlo,'DejaVu Sans Mono',consolas,'Courier New',monospace\">New best mean reward!\n",
              "</pre>\n"
            ]
          },
          "metadata": {}
        },
        {
          "output_type": "stream",
          "name": "stdout",
          "text": [
            "---------------------------------\n",
            "| rollout/           |          |\n",
            "|    ep_len_mean     | 389      |\n",
            "|    ep_rew_mean     | 40.3     |\n",
            "| time/              |          |\n",
            "|    fps             | 1375     |\n",
            "|    iterations      | 15       |\n",
            "|    time_elapsed    | 178      |\n",
            "|    total_timesteps | 245760   |\n",
            "---------------------------------\n"
          ]
        },
        {
          "output_type": "display_data",
          "data": {
            "text/plain": [
              "Eval num_timesteps=250000, episode_reward=190.79 +/- 92.52\n"
            ],
            "text/html": [
              "<pre style=\"white-space:pre;overflow-x:auto;line-height:normal;font-family:Menlo,'DejaVu Sans Mono',consolas,'Courier New',monospace\">Eval num_timesteps=250000, episode_reward=190.79 +/- 92.52\n",
              "</pre>\n"
            ]
          },
          "metadata": {}
        },
        {
          "output_type": "display_data",
          "data": {
            "text/plain": [
              "Episode length: 375.80 +/- 215.82\n"
            ],
            "text/html": [
              "<pre style=\"white-space:pre;overflow-x:auto;line-height:normal;font-family:Menlo,'DejaVu Sans Mono',consolas,'Courier New',monospace\">Episode length: 375.80 +/- 215.82\n",
              "</pre>\n"
            ]
          },
          "metadata": {}
        },
        {
          "output_type": "stream",
          "name": "stdout",
          "text": [
            "-----------------------------------------\n",
            "| eval/                   |             |\n",
            "|    mean_ep_length       | 376         |\n",
            "|    mean_reward          | 191         |\n",
            "| time/                   |             |\n",
            "|    total_timesteps      | 250000      |\n",
            "| train/                  |             |\n",
            "|    approx_kl            | 0.008202991 |\n",
            "|    clip_fraction        | 0.0865      |\n",
            "|    clip_range           | 0.2         |\n",
            "|    entropy_loss         | -1.12       |\n",
            "|    explained_variance   | 0.977       |\n",
            "|    learning_rate        | 0.0003      |\n",
            "|    loss                 | 7.41        |\n",
            "|    n_updates            | 150         |\n",
            "|    policy_gradient_loss | -0.00597    |\n",
            "|    value_loss           | 15.7        |\n",
            "-----------------------------------------\n"
          ]
        },
        {
          "output_type": "display_data",
          "data": {
            "text/plain": [
              "New best mean reward!\n"
            ],
            "text/html": [
              "<pre style=\"white-space:pre;overflow-x:auto;line-height:normal;font-family:Menlo,'DejaVu Sans Mono',consolas,'Courier New',monospace\">New best mean reward!\n",
              "</pre>\n"
            ]
          },
          "metadata": {}
        },
        {
          "output_type": "display_data",
          "data": {
            "text/plain": [
              "Eval num_timesteps=260000, episode_reward=209.75 +/- 50.14\n"
            ],
            "text/html": [
              "<pre style=\"white-space:pre;overflow-x:auto;line-height:normal;font-family:Menlo,'DejaVu Sans Mono',consolas,'Courier New',monospace\">Eval num_timesteps=260000, episode_reward=209.75 +/- 50.14\n",
              "</pre>\n"
            ]
          },
          "metadata": {}
        },
        {
          "output_type": "display_data",
          "data": {
            "text/plain": [
              "Episode length: 418.40 +/- 207.71\n"
            ],
            "text/html": [
              "<pre style=\"white-space:pre;overflow-x:auto;line-height:normal;font-family:Menlo,'DejaVu Sans Mono',consolas,'Courier New',monospace\">Episode length: 418.40 +/- 207.71\n",
              "</pre>\n"
            ]
          },
          "metadata": {}
        },
        {
          "output_type": "stream",
          "name": "stdout",
          "text": [
            "---------------------------------\n",
            "| eval/              |          |\n",
            "|    mean_ep_length  | 418      |\n",
            "|    mean_reward     | 210      |\n",
            "| time/              |          |\n",
            "|    total_timesteps | 260000   |\n",
            "---------------------------------\n"
          ]
        },
        {
          "output_type": "display_data",
          "data": {
            "text/plain": [
              "New best mean reward!\n"
            ],
            "text/html": [
              "<pre style=\"white-space:pre;overflow-x:auto;line-height:normal;font-family:Menlo,'DejaVu Sans Mono',consolas,'Courier New',monospace\">New best mean reward!\n",
              "</pre>\n"
            ]
          },
          "metadata": {}
        },
        {
          "output_type": "stream",
          "name": "stdout",
          "text": [
            "---------------------------------\n",
            "| rollout/           |          |\n",
            "|    ep_len_mean     | 487      |\n",
            "|    ep_rew_mean     | 54.6     |\n",
            "| time/              |          |\n",
            "|    fps             | 1354     |\n",
            "|    iterations      | 16       |\n",
            "|    time_elapsed    | 193      |\n",
            "|    total_timesteps | 262144   |\n",
            "---------------------------------\n"
          ]
        },
        {
          "output_type": "display_data",
          "data": {
            "text/plain": [
              "Eval num_timesteps=270000, episode_reward=129.10 +/- 108.53\n"
            ],
            "text/html": [
              "<pre style=\"white-space:pre;overflow-x:auto;line-height:normal;font-family:Menlo,'DejaVu Sans Mono',consolas,'Courier New',monospace\">Eval num_timesteps=270000, episode_reward=129.10 +/- 108.53\n",
              "</pre>\n"
            ]
          },
          "metadata": {}
        },
        {
          "output_type": "display_data",
          "data": {
            "text/plain": [
              "Episode length: 328.60 +/- 225.39\n"
            ],
            "text/html": [
              "<pre style=\"white-space:pre;overflow-x:auto;line-height:normal;font-family:Menlo,'DejaVu Sans Mono',consolas,'Courier New',monospace\">Episode length: 328.60 +/- 225.39\n",
              "</pre>\n"
            ]
          },
          "metadata": {}
        },
        {
          "output_type": "stream",
          "name": "stdout",
          "text": [
            "------------------------------------------\n",
            "| eval/                   |              |\n",
            "|    mean_ep_length       | 329          |\n",
            "|    mean_reward          | 129          |\n",
            "| time/                   |              |\n",
            "|    total_timesteps      | 270000       |\n",
            "| train/                  |              |\n",
            "|    approx_kl            | 0.0077492963 |\n",
            "|    clip_fraction        | 0.0628       |\n",
            "|    clip_range           | 0.2          |\n",
            "|    entropy_loss         | -1.11        |\n",
            "|    explained_variance   | 0.988        |\n",
            "|    learning_rate        | 0.0003       |\n",
            "|    loss                 | 4.97         |\n",
            "|    n_updates            | 160          |\n",
            "|    policy_gradient_loss | -0.00309     |\n",
            "|    value_loss           | 10.8         |\n",
            "------------------------------------------\n",
            "---------------------------------\n",
            "| rollout/           |          |\n",
            "|    ep_len_mean     | 593      |\n",
            "|    ep_rew_mean     | 68.7     |\n",
            "| time/              |          |\n",
            "|    fps             | 1364     |\n",
            "|    iterations      | 17       |\n",
            "|    time_elapsed    | 204      |\n",
            "|    total_timesteps | 278528   |\n",
            "---------------------------------\n"
          ]
        },
        {
          "output_type": "display_data",
          "data": {
            "text/plain": [
              "Eval num_timesteps=280000, episode_reward=245.52 +/- 37.74\n"
            ],
            "text/html": [
              "<pre style=\"white-space:pre;overflow-x:auto;line-height:normal;font-family:Menlo,'DejaVu Sans Mono',consolas,'Courier New',monospace\">Eval num_timesteps=280000, episode_reward=245.52 +/- 37.74\n",
              "</pre>\n"
            ]
          },
          "metadata": {}
        },
        {
          "output_type": "display_data",
          "data": {
            "text/plain": [
              "Episode length: 343.10 +/- 219.78\n"
            ],
            "text/html": [
              "<pre style=\"white-space:pre;overflow-x:auto;line-height:normal;font-family:Menlo,'DejaVu Sans Mono',consolas,'Courier New',monospace\">Episode length: 343.10 +/- 219.78\n",
              "</pre>\n"
            ]
          },
          "metadata": {}
        },
        {
          "output_type": "stream",
          "name": "stdout",
          "text": [
            "-----------------------------------------\n",
            "| eval/                   |             |\n",
            "|    mean_ep_length       | 343         |\n",
            "|    mean_reward          | 246         |\n",
            "| time/                   |             |\n",
            "|    total_timesteps      | 280000      |\n",
            "| train/                  |             |\n",
            "|    approx_kl            | 0.008136395 |\n",
            "|    clip_fraction        | 0.072       |\n",
            "|    clip_range           | 0.2         |\n",
            "|    entropy_loss         | -1.08       |\n",
            "|    explained_variance   | 0.988       |\n",
            "|    learning_rate        | 0.0003      |\n",
            "|    loss                 | 6.09        |\n",
            "|    n_updates            | 170         |\n",
            "|    policy_gradient_loss | -0.00578    |\n",
            "|    value_loss           | 10.1        |\n",
            "-----------------------------------------\n"
          ]
        },
        {
          "output_type": "display_data",
          "data": {
            "text/plain": [
              "New best mean reward!\n"
            ],
            "text/html": [
              "<pre style=\"white-space:pre;overflow-x:auto;line-height:normal;font-family:Menlo,'DejaVu Sans Mono',consolas,'Courier New',monospace\">New best mean reward!\n",
              "</pre>\n"
            ]
          },
          "metadata": {}
        },
        {
          "output_type": "display_data",
          "data": {
            "text/plain": [
              "Eval num_timesteps=290000, episode_reward=156.30 +/- 124.84\n"
            ],
            "text/html": [
              "<pre style=\"white-space:pre;overflow-x:auto;line-height:normal;font-family:Menlo,'DejaVu Sans Mono',consolas,'Courier New',monospace\">Eval num_timesteps=290000, episode_reward=156.30 +/- 124.84\n",
              "</pre>\n"
            ]
          },
          "metadata": {}
        },
        {
          "output_type": "display_data",
          "data": {
            "text/plain": [
              "Episode length: 258.90 +/- 20.71\n"
            ],
            "text/html": [
              "<pre style=\"white-space:pre;overflow-x:auto;line-height:normal;font-family:Menlo,'DejaVu Sans Mono',consolas,'Courier New',monospace\">Episode length: 258.90 +/- 20.71\n",
              "</pre>\n"
            ]
          },
          "metadata": {}
        },
        {
          "output_type": "stream",
          "name": "stdout",
          "text": [
            "---------------------------------\n",
            "| eval/              |          |\n",
            "|    mean_ep_length  | 259      |\n",
            "|    mean_reward     | 156      |\n",
            "| time/              |          |\n",
            "|    total_timesteps | 290000   |\n",
            "---------------------------------\n",
            "---------------------------------\n",
            "| rollout/           |          |\n",
            "|    ep_len_mean     | 655      |\n",
            "|    ep_rew_mean     | 79.9     |\n",
            "| time/              |          |\n",
            "|    fps             | 1357     |\n",
            "|    iterations      | 18       |\n",
            "|    time_elapsed    | 217      |\n",
            "|    total_timesteps | 294912   |\n",
            "---------------------------------\n"
          ]
        },
        {
          "output_type": "display_data",
          "data": {
            "text/plain": [
              "Eval num_timesteps=300000, episode_reward=235.72 +/- 43.29\n"
            ],
            "text/html": [
              "<pre style=\"white-space:pre;overflow-x:auto;line-height:normal;font-family:Menlo,'DejaVu Sans Mono',consolas,'Courier New',monospace\">Eval num_timesteps=300000, episode_reward=235.72 +/- 43.29\n",
              "</pre>\n"
            ]
          },
          "metadata": {}
        },
        {
          "output_type": "display_data",
          "data": {
            "text/plain": [
              "Episode length: 359.10 +/- 214.69\n"
            ],
            "text/html": [
              "<pre style=\"white-space:pre;overflow-x:auto;line-height:normal;font-family:Menlo,'DejaVu Sans Mono',consolas,'Courier New',monospace\">Episode length: 359.10 +/- 214.69\n",
              "</pre>\n"
            ]
          },
          "metadata": {}
        },
        {
          "output_type": "stream",
          "name": "stdout",
          "text": [
            "------------------------------------------\n",
            "| eval/                   |              |\n",
            "|    mean_ep_length       | 359          |\n",
            "|    mean_reward          | 236          |\n",
            "| time/                   |              |\n",
            "|    total_timesteps      | 300000       |\n",
            "| train/                  |              |\n",
            "|    approx_kl            | 0.0070780213 |\n",
            "|    clip_fraction        | 0.0645       |\n",
            "|    clip_range           | 0.2          |\n",
            "|    entropy_loss         | -1.02        |\n",
            "|    explained_variance   | 0.99         |\n",
            "|    learning_rate        | 0.0003       |\n",
            "|    loss                 | 4.11         |\n",
            "|    n_updates            | 180          |\n",
            "|    policy_gradient_loss | -0.00358     |\n",
            "|    value_loss           | 8.49         |\n",
            "------------------------------------------\n"
          ]
        },
        {
          "output_type": "display_data",
          "data": {
            "text/plain": [
              "Eval num_timesteps=310000, episode_reward=233.14 +/- 72.05\n"
            ],
            "text/html": [
              "<pre style=\"white-space:pre;overflow-x:auto;line-height:normal;font-family:Menlo,'DejaVu Sans Mono',consolas,'Courier New',monospace\">Eval num_timesteps=310000, episode_reward=233.14 +/- 72.05\n",
              "</pre>\n"
            ]
          },
          "metadata": {}
        },
        {
          "output_type": "display_data",
          "data": {
            "text/plain": [
              "Episode length: 273.50 +/- 19.99\n"
            ],
            "text/html": [
              "<pre style=\"white-space:pre;overflow-x:auto;line-height:normal;font-family:Menlo,'DejaVu Sans Mono',consolas,'Courier New',monospace\">Episode length: 273.50 +/- 19.99\n",
              "</pre>\n"
            ]
          },
          "metadata": {}
        },
        {
          "output_type": "stream",
          "name": "stdout",
          "text": [
            "---------------------------------\n",
            "| eval/              |          |\n",
            "|    mean_ep_length  | 274      |\n",
            "|    mean_reward     | 233      |\n",
            "| time/              |          |\n",
            "|    total_timesteps | 310000   |\n",
            "---------------------------------\n",
            "---------------------------------\n",
            "| rollout/           |          |\n",
            "|    ep_len_mean     | 657      |\n",
            "|    ep_rew_mean     | 89.2     |\n",
            "| time/              |          |\n",
            "|    fps             | 1350     |\n",
            "|    iterations      | 19       |\n",
            "|    time_elapsed    | 230      |\n",
            "|    total_timesteps | 311296   |\n",
            "---------------------------------\n"
          ]
        },
        {
          "output_type": "display_data",
          "data": {
            "text/plain": [
              "Eval num_timesteps=320000, episode_reward=253.83 +/- 21.44\n"
            ],
            "text/html": [
              "<pre style=\"white-space:pre;overflow-x:auto;line-height:normal;font-family:Menlo,'DejaVu Sans Mono',consolas,'Courier New',monospace\">Eval num_timesteps=320000, episode_reward=253.83 +/- 21.44\n",
              "</pre>\n"
            ]
          },
          "metadata": {}
        },
        {
          "output_type": "display_data",
          "data": {
            "text/plain": [
              "Episode length: 293.10 +/- 31.34\n"
            ],
            "text/html": [
              "<pre style=\"white-space:pre;overflow-x:auto;line-height:normal;font-family:Menlo,'DejaVu Sans Mono',consolas,'Courier New',monospace\">Episode length: 293.10 +/- 31.34\n",
              "</pre>\n"
            ]
          },
          "metadata": {}
        },
        {
          "output_type": "stream",
          "name": "stdout",
          "text": [
            "------------------------------------------\n",
            "| eval/                   |              |\n",
            "|    mean_ep_length       | 293          |\n",
            "|    mean_reward          | 254          |\n",
            "| time/                   |              |\n",
            "|    total_timesteps      | 320000       |\n",
            "| train/                  |              |\n",
            "|    approx_kl            | 0.0075296564 |\n",
            "|    clip_fraction        | 0.0766       |\n",
            "|    clip_range           | 0.2          |\n",
            "|    entropy_loss         | -0.997       |\n",
            "|    explained_variance   | 0.995        |\n",
            "|    learning_rate        | 0.0003       |\n",
            "|    loss                 | 1.89         |\n",
            "|    n_updates            | 190          |\n",
            "|    policy_gradient_loss | -0.00412     |\n",
            "|    value_loss           | 4.27         |\n",
            "------------------------------------------\n"
          ]
        },
        {
          "output_type": "display_data",
          "data": {
            "text/plain": [
              "New best mean reward!\n"
            ],
            "text/html": [
              "<pre style=\"white-space:pre;overflow-x:auto;line-height:normal;font-family:Menlo,'DejaVu Sans Mono',consolas,'Courier New',monospace\">New best mean reward!\n",
              "</pre>\n"
            ]
          },
          "metadata": {}
        },
        {
          "output_type": "stream",
          "name": "stdout",
          "text": [
            "---------------------------------\n",
            "| rollout/           |          |\n",
            "|    ep_len_mean     | 676      |\n",
            "|    ep_rew_mean     | 95.1     |\n",
            "| time/              |          |\n",
            "|    fps             | 1360     |\n",
            "|    iterations      | 20       |\n",
            "|    time_elapsed    | 240      |\n",
            "|    total_timesteps | 327680   |\n",
            "---------------------------------\n"
          ]
        },
        {
          "output_type": "display_data",
          "data": {
            "text/plain": [
              "Eval num_timesteps=330000, episode_reward=224.67 +/- 76.28\n"
            ],
            "text/html": [
              "<pre style=\"white-space:pre;overflow-x:auto;line-height:normal;font-family:Menlo,'DejaVu Sans Mono',consolas,'Courier New',monospace\">Eval num_timesteps=330000, episode_reward=224.67 +/- 76.28\n",
              "</pre>\n"
            ]
          },
          "metadata": {}
        },
        {
          "output_type": "display_data",
          "data": {
            "text/plain": [
              "Episode length: 282.70 +/- 40.67\n"
            ],
            "text/html": [
              "<pre style=\"white-space:pre;overflow-x:auto;line-height:normal;font-family:Menlo,'DejaVu Sans Mono',consolas,'Courier New',monospace\">Episode length: 282.70 +/- 40.67\n",
              "</pre>\n"
            ]
          },
          "metadata": {}
        },
        {
          "output_type": "stream",
          "name": "stdout",
          "text": [
            "-----------------------------------------\n",
            "| eval/                   |             |\n",
            "|    mean_ep_length       | 283         |\n",
            "|    mean_reward          | 225         |\n",
            "| time/                   |             |\n",
            "|    total_timesteps      | 330000      |\n",
            "| train/                  |             |\n",
            "|    approx_kl            | 0.006001628 |\n",
            "|    clip_fraction        | 0.0366      |\n",
            "|    clip_range           | 0.2         |\n",
            "|    entropy_loss         | -0.937      |\n",
            "|    explained_variance   | 0.994       |\n",
            "|    learning_rate        | 0.0003      |\n",
            "|    loss                 | 2.66        |\n",
            "|    n_updates            | 200         |\n",
            "|    policy_gradient_loss | -0.00231    |\n",
            "|    value_loss           | 5.38        |\n",
            "-----------------------------------------\n"
          ]
        },
        {
          "output_type": "display_data",
          "data": {
            "text/plain": [
              "Eval num_timesteps=340000, episode_reward=211.22 +/- 78.19\n"
            ],
            "text/html": [
              "<pre style=\"white-space:pre;overflow-x:auto;line-height:normal;font-family:Menlo,'DejaVu Sans Mono',consolas,'Courier New',monospace\">Eval num_timesteps=340000, episode_reward=211.22 +/- 78.19\n",
              "</pre>\n"
            ]
          },
          "metadata": {}
        },
        {
          "output_type": "display_data",
          "data": {
            "text/plain": [
              "Episode length: 428.40 +/- 287.96\n"
            ],
            "text/html": [
              "<pre style=\"white-space:pre;overflow-x:auto;line-height:normal;font-family:Menlo,'DejaVu Sans Mono',consolas,'Courier New',monospace\">Episode length: 428.40 +/- 287.96\n",
              "</pre>\n"
            ]
          },
          "metadata": {}
        },
        {
          "output_type": "stream",
          "name": "stdout",
          "text": [
            "---------------------------------\n",
            "| eval/              |          |\n",
            "|    mean_ep_length  | 428      |\n",
            "|    mean_reward     | 211      |\n",
            "| time/              |          |\n",
            "|    total_timesteps | 340000   |\n",
            "---------------------------------\n",
            "---------------------------------\n",
            "| rollout/           |          |\n",
            "|    ep_len_mean     | 716      |\n",
            "|    ep_rew_mean     | 105      |\n",
            "| time/              |          |\n",
            "|    fps             | 1349     |\n",
            "|    iterations      | 21       |\n",
            "|    time_elapsed    | 254      |\n",
            "|    total_timesteps | 344064   |\n",
            "---------------------------------\n"
          ]
        },
        {
          "output_type": "display_data",
          "data": {
            "text/plain": [
              "Eval num_timesteps=350000, episode_reward=236.45 +/- 45.36\n"
            ],
            "text/html": [
              "<pre style=\"white-space:pre;overflow-x:auto;line-height:normal;font-family:Menlo,'DejaVu Sans Mono',consolas,'Courier New',monospace\">Eval num_timesteps=350000, episode_reward=236.45 +/- 45.36\n",
              "</pre>\n"
            ]
          },
          "metadata": {}
        },
        {
          "output_type": "display_data",
          "data": {
            "text/plain": [
              "Episode length: 352.00 +/- 217.87\n"
            ],
            "text/html": [
              "<pre style=\"white-space:pre;overflow-x:auto;line-height:normal;font-family:Menlo,'DejaVu Sans Mono',consolas,'Courier New',monospace\">Episode length: 352.00 +/- 217.87\n",
              "</pre>\n"
            ]
          },
          "metadata": {}
        },
        {
          "output_type": "stream",
          "name": "stdout",
          "text": [
            "------------------------------------------\n",
            "| eval/                   |              |\n",
            "|    mean_ep_length       | 352          |\n",
            "|    mean_reward          | 236          |\n",
            "| time/                   |              |\n",
            "|    total_timesteps      | 350000       |\n",
            "| train/                  |              |\n",
            "|    approx_kl            | 0.0058236234 |\n",
            "|    clip_fraction        | 0.0633       |\n",
            "|    clip_range           | 0.2          |\n",
            "|    entropy_loss         | -0.884       |\n",
            "|    explained_variance   | 0.982        |\n",
            "|    learning_rate        | 0.0003       |\n",
            "|    loss                 | 0.814        |\n",
            "|    n_updates            | 210          |\n",
            "|    policy_gradient_loss | -0.00309     |\n",
            "|    value_loss           | 25.1         |\n",
            "------------------------------------------\n"
          ]
        },
        {
          "output_type": "display_data",
          "data": {
            "text/plain": [
              "Eval num_timesteps=360000, episode_reward=259.73 +/- 15.77\n"
            ],
            "text/html": [
              "<pre style=\"white-space:pre;overflow-x:auto;line-height:normal;font-family:Menlo,'DejaVu Sans Mono',consolas,'Courier New',monospace\">Eval num_timesteps=360000, episode_reward=259.73 +/- 15.77\n",
              "</pre>\n"
            ]
          },
          "metadata": {}
        },
        {
          "output_type": "display_data",
          "data": {
            "text/plain": [
              "Episode length: 279.40 +/- 47.74\n"
            ],
            "text/html": [
              "<pre style=\"white-space:pre;overflow-x:auto;line-height:normal;font-family:Menlo,'DejaVu Sans Mono',consolas,'Courier New',monospace\">Episode length: 279.40 +/- 47.74\n",
              "</pre>\n"
            ]
          },
          "metadata": {}
        },
        {
          "output_type": "stream",
          "name": "stdout",
          "text": [
            "---------------------------------\n",
            "| eval/              |          |\n",
            "|    mean_ep_length  | 279      |\n",
            "|    mean_reward     | 260      |\n",
            "| time/              |          |\n",
            "|    total_timesteps | 360000   |\n",
            "---------------------------------\n"
          ]
        },
        {
          "output_type": "display_data",
          "data": {
            "text/plain": [
              "New best mean reward!\n"
            ],
            "text/html": [
              "<pre style=\"white-space:pre;overflow-x:auto;line-height:normal;font-family:Menlo,'DejaVu Sans Mono',consolas,'Courier New',monospace\">New best mean reward!\n",
              "</pre>\n"
            ]
          },
          "metadata": {}
        },
        {
          "output_type": "stream",
          "name": "stdout",
          "text": [
            "---------------------------------\n",
            "| rollout/           |          |\n",
            "|    ep_len_mean     | 756      |\n",
            "|    ep_rew_mean     | 118      |\n",
            "| time/              |          |\n",
            "|    fps             | 1343     |\n",
            "|    iterations      | 22       |\n",
            "|    time_elapsed    | 268      |\n",
            "|    total_timesteps | 360448   |\n",
            "---------------------------------\n"
          ]
        },
        {
          "output_type": "display_data",
          "data": {
            "text/plain": [
              "Eval num_timesteps=370000, episode_reward=228.73 +/- 62.05\n"
            ],
            "text/html": [
              "<pre style=\"white-space:pre;overflow-x:auto;line-height:normal;font-family:Menlo,'DejaVu Sans Mono',consolas,'Courier New',monospace\">Eval num_timesteps=370000, episode_reward=228.73 +/- 62.05\n",
              "</pre>\n"
            ]
          },
          "metadata": {}
        },
        {
          "output_type": "display_data",
          "data": {
            "text/plain": [
              "Episode length: 424.90 +/- 287.73\n"
            ],
            "text/html": [
              "<pre style=\"white-space:pre;overflow-x:auto;line-height:normal;font-family:Menlo,'DejaVu Sans Mono',consolas,'Courier New',monospace\">Episode length: 424.90 +/- 287.73\n",
              "</pre>\n"
            ]
          },
          "metadata": {}
        },
        {
          "output_type": "stream",
          "name": "stdout",
          "text": [
            "-----------------------------------------\n",
            "| eval/                   |             |\n",
            "|    mean_ep_length       | 425         |\n",
            "|    mean_reward          | 229         |\n",
            "| time/                   |             |\n",
            "|    total_timesteps      | 370000      |\n",
            "| train/                  |             |\n",
            "|    approx_kl            | 0.004222365 |\n",
            "|    clip_fraction        | 0.0421      |\n",
            "|    clip_range           | 0.2         |\n",
            "|    entropy_loss         | -0.821      |\n",
            "|    explained_variance   | 0.985       |\n",
            "|    learning_rate        | 0.0003      |\n",
            "|    loss                 | 14.6        |\n",
            "|    n_updates            | 220         |\n",
            "|    policy_gradient_loss | -0.00157    |\n",
            "|    value_loss           | 20.5        |\n",
            "-----------------------------------------\n",
            "---------------------------------\n",
            "| rollout/           |          |\n",
            "|    ep_len_mean     | 790      |\n",
            "|    ep_rew_mean     | 125      |\n",
            "| time/              |          |\n",
            "|    fps             | 1346     |\n",
            "|    iterations      | 23       |\n",
            "|    time_elapsed    | 279      |\n",
            "|    total_timesteps | 376832   |\n",
            "---------------------------------\n"
          ]
        },
        {
          "output_type": "display_data",
          "data": {
            "text/plain": [
              "Eval num_timesteps=380000, episode_reward=243.43 +/- 78.08\n"
            ],
            "text/html": [
              "<pre style=\"white-space:pre;overflow-x:auto;line-height:normal;font-family:Menlo,'DejaVu Sans Mono',consolas,'Courier New',monospace\">Eval num_timesteps=380000, episode_reward=243.43 +/- 78.08\n",
              "</pre>\n"
            ]
          },
          "metadata": {}
        },
        {
          "output_type": "display_data",
          "data": {
            "text/plain": [
              "Episode length: 261.20 +/- 18.73\n"
            ],
            "text/html": [
              "<pre style=\"white-space:pre;overflow-x:auto;line-height:normal;font-family:Menlo,'DejaVu Sans Mono',consolas,'Courier New',monospace\">Episode length: 261.20 +/- 18.73\n",
              "</pre>\n"
            ]
          },
          "metadata": {}
        },
        {
          "output_type": "stream",
          "name": "stdout",
          "text": [
            "-----------------------------------------\n",
            "| eval/                   |             |\n",
            "|    mean_ep_length       | 261         |\n",
            "|    mean_reward          | 243         |\n",
            "| time/                   |             |\n",
            "|    total_timesteps      | 380000      |\n",
            "| train/                  |             |\n",
            "|    approx_kl            | 0.005181499 |\n",
            "|    clip_fraction        | 0.0442      |\n",
            "|    clip_range           | 0.2         |\n",
            "|    entropy_loss         | -0.824      |\n",
            "|    explained_variance   | 0.997       |\n",
            "|    learning_rate        | 0.0003      |\n",
            "|    loss                 | 0.759       |\n",
            "|    n_updates            | 230         |\n",
            "|    policy_gradient_loss | -0.00159    |\n",
            "|    value_loss           | 2.63        |\n",
            "-----------------------------------------\n"
          ]
        },
        {
          "output_type": "display_data",
          "data": {
            "text/plain": [
              "Eval num_timesteps=390000, episode_reward=262.75 +/- 11.23\n"
            ],
            "text/html": [
              "<pre style=\"white-space:pre;overflow-x:auto;line-height:normal;font-family:Menlo,'DejaVu Sans Mono',consolas,'Courier New',monospace\">Eval num_timesteps=390000, episode_reward=262.75 +/- 11.23\n",
              "</pre>\n"
            ]
          },
          "metadata": {}
        },
        {
          "output_type": "display_data",
          "data": {
            "text/plain": [
              "Episode length: 264.90 +/- 14.09\n"
            ],
            "text/html": [
              "<pre style=\"white-space:pre;overflow-x:auto;line-height:normal;font-family:Menlo,'DejaVu Sans Mono',consolas,'Courier New',monospace\">Episode length: 264.90 +/- 14.09\n",
              "</pre>\n"
            ]
          },
          "metadata": {}
        },
        {
          "output_type": "stream",
          "name": "stdout",
          "text": [
            "---------------------------------\n",
            "| eval/              |          |\n",
            "|    mean_ep_length  | 265      |\n",
            "|    mean_reward     | 263      |\n",
            "| time/              |          |\n",
            "|    total_timesteps | 390000   |\n",
            "---------------------------------\n"
          ]
        },
        {
          "output_type": "display_data",
          "data": {
            "text/plain": [
              "New best mean reward!\n"
            ],
            "text/html": [
              "<pre style=\"white-space:pre;overflow-x:auto;line-height:normal;font-family:Menlo,'DejaVu Sans Mono',consolas,'Courier New',monospace\">New best mean reward!\n",
              "</pre>\n"
            ]
          },
          "metadata": {}
        },
        {
          "output_type": "stream",
          "name": "stdout",
          "text": [
            "---------------------------------\n",
            "| rollout/           |          |\n",
            "|    ep_len_mean     | 823      |\n",
            "|    ep_rew_mean     | 135      |\n",
            "| time/              |          |\n",
            "|    fps             | 1345     |\n",
            "|    iterations      | 24       |\n",
            "|    time_elapsed    | 292      |\n",
            "|    total_timesteps | 393216   |\n",
            "---------------------------------\n"
          ]
        },
        {
          "output_type": "display_data",
          "data": {
            "text/plain": [
              "Eval num_timesteps=400000, episode_reward=266.39 +/- 17.95\n"
            ],
            "text/html": [
              "<pre style=\"white-space:pre;overflow-x:auto;line-height:normal;font-family:Menlo,'DejaVu Sans Mono',consolas,'Courier New',monospace\">Eval num_timesteps=400000, episode_reward=266.39 +/- 17.95\n",
              "</pre>\n"
            ]
          },
          "metadata": {}
        },
        {
          "output_type": "display_data",
          "data": {
            "text/plain": [
              "Episode length: 268.60 +/- 9.32\n"
            ],
            "text/html": [
              "<pre style=\"white-space:pre;overflow-x:auto;line-height:normal;font-family:Menlo,'DejaVu Sans Mono',consolas,'Courier New',monospace\">Episode length: 268.60 +/- 9.32\n",
              "</pre>\n"
            ]
          },
          "metadata": {}
        },
        {
          "output_type": "stream",
          "name": "stdout",
          "text": [
            "------------------------------------------\n",
            "| eval/                   |              |\n",
            "|    mean_ep_length       | 269          |\n",
            "|    mean_reward          | 266          |\n",
            "| time/                   |              |\n",
            "|    total_timesteps      | 400000       |\n",
            "| train/                  |              |\n",
            "|    approx_kl            | 0.0071440623 |\n",
            "|    clip_fraction        | 0.0754       |\n",
            "|    clip_range           | 0.2          |\n",
            "|    entropy_loss         | -0.739       |\n",
            "|    explained_variance   | 0.967        |\n",
            "|    learning_rate        | 0.0003       |\n",
            "|    loss                 | 0.637        |\n",
            "|    n_updates            | 240          |\n",
            "|    policy_gradient_loss | -0.00229     |\n",
            "|    value_loss           | 45.3         |\n",
            "------------------------------------------\n"
          ]
        },
        {
          "output_type": "display_data",
          "data": {
            "text/plain": [
              "New best mean reward!\n"
            ],
            "text/html": [
              "<pre style=\"white-space:pre;overflow-x:auto;line-height:normal;font-family:Menlo,'DejaVu Sans Mono',consolas,'Courier New',monospace\">New best mean reward!\n",
              "</pre>\n"
            ]
          },
          "metadata": {}
        },
        {
          "output_type": "stream",
          "name": "stdout",
          "text": [
            "---------------------------------\n",
            "| rollout/           |          |\n",
            "|    ep_len_mean     | 868      |\n",
            "|    ep_rew_mean     | 154      |\n",
            "| time/              |          |\n",
            "|    fps             | 1354     |\n",
            "|    iterations      | 25       |\n",
            "|    time_elapsed    | 302      |\n",
            "|    total_timesteps | 409600   |\n",
            "---------------------------------\n"
          ]
        },
        {
          "output_type": "display_data",
          "data": {
            "text/plain": [
              "Eval num_timesteps=410000, episode_reward=275.90 +/- 12.92\n"
            ],
            "text/html": [
              "<pre style=\"white-space:pre;overflow-x:auto;line-height:normal;font-family:Menlo,'DejaVu Sans Mono',consolas,'Courier New',monospace\">Eval num_timesteps=410000, episode_reward=275.90 +/- 12.92\n",
              "</pre>\n"
            ]
          },
          "metadata": {}
        },
        {
          "output_type": "display_data",
          "data": {
            "text/plain": [
              "Episode length: 264.80 +/- 11.55\n"
            ],
            "text/html": [
              "<pre style=\"white-space:pre;overflow-x:auto;line-height:normal;font-family:Menlo,'DejaVu Sans Mono',consolas,'Courier New',monospace\">Episode length: 264.80 +/- 11.55\n",
              "</pre>\n"
            ]
          },
          "metadata": {}
        },
        {
          "output_type": "stream",
          "name": "stdout",
          "text": [
            "------------------------------------------\n",
            "| eval/                   |              |\n",
            "|    mean_ep_length       | 265          |\n",
            "|    mean_reward          | 276          |\n",
            "| time/                   |              |\n",
            "|    total_timesteps      | 410000       |\n",
            "| train/                  |              |\n",
            "|    approx_kl            | 0.0053623137 |\n",
            "|    clip_fraction        | 0.107        |\n",
            "|    clip_range           | 0.2          |\n",
            "|    entropy_loss         | -0.648       |\n",
            "|    explained_variance   | 0.932        |\n",
            "|    learning_rate        | 0.0003       |\n",
            "|    loss                 | 128          |\n",
            "|    n_updates            | 250          |\n",
            "|    policy_gradient_loss | -0.00373     |\n",
            "|    value_loss           | 125          |\n",
            "------------------------------------------\n"
          ]
        },
        {
          "output_type": "display_data",
          "data": {
            "text/plain": [
              "New best mean reward!\n"
            ],
            "text/html": [
              "<pre style=\"white-space:pre;overflow-x:auto;line-height:normal;font-family:Menlo,'DejaVu Sans Mono',consolas,'Courier New',monospace\">New best mean reward!\n",
              "</pre>\n"
            ]
          },
          "metadata": {}
        },
        {
          "output_type": "display_data",
          "data": {
            "text/plain": [
              "Eval num_timesteps=420000, episode_reward=262.81 +/- 18.83\n"
            ],
            "text/html": [
              "<pre style=\"white-space:pre;overflow-x:auto;line-height:normal;font-family:Menlo,'DejaVu Sans Mono',consolas,'Courier New',monospace\">Eval num_timesteps=420000, episode_reward=262.81 +/- 18.83\n",
              "</pre>\n"
            ]
          },
          "metadata": {}
        },
        {
          "output_type": "display_data",
          "data": {
            "text/plain": [
              "Episode length: 274.30 +/- 22.90\n"
            ],
            "text/html": [
              "<pre style=\"white-space:pre;overflow-x:auto;line-height:normal;font-family:Menlo,'DejaVu Sans Mono',consolas,'Courier New',monospace\">Episode length: 274.30 +/- 22.90\n",
              "</pre>\n"
            ]
          },
          "metadata": {}
        },
        {
          "output_type": "stream",
          "name": "stdout",
          "text": [
            "---------------------------------\n",
            "| eval/              |          |\n",
            "|    mean_ep_length  | 274      |\n",
            "|    mean_reward     | 263      |\n",
            "| time/              |          |\n",
            "|    total_timesteps | 420000   |\n",
            "---------------------------------\n",
            "---------------------------------\n",
            "| rollout/           |          |\n",
            "|    ep_len_mean     | 826      |\n",
            "|    ep_rew_mean     | 173      |\n",
            "| time/              |          |\n",
            "|    fps             | 1352     |\n",
            "|    iterations      | 26       |\n",
            "|    time_elapsed    | 315      |\n",
            "|    total_timesteps | 425984   |\n",
            "---------------------------------\n"
          ]
        },
        {
          "output_type": "display_data",
          "data": {
            "text/plain": [
              "Eval num_timesteps=430000, episode_reward=259.78 +/- 17.09\n"
            ],
            "text/html": [
              "<pre style=\"white-space:pre;overflow-x:auto;line-height:normal;font-family:Menlo,'DejaVu Sans Mono',consolas,'Courier New',monospace\">Eval num_timesteps=430000, episode_reward=259.78 +/- 17.09\n",
              "</pre>\n"
            ]
          },
          "metadata": {}
        },
        {
          "output_type": "display_data",
          "data": {
            "text/plain": [
              "Episode length: 253.90 +/- 5.07\n"
            ],
            "text/html": [
              "<pre style=\"white-space:pre;overflow-x:auto;line-height:normal;font-family:Menlo,'DejaVu Sans Mono',consolas,'Courier New',monospace\">Episode length: 253.90 +/- 5.07\n",
              "</pre>\n"
            ]
          },
          "metadata": {}
        },
        {
          "output_type": "stream",
          "name": "stdout",
          "text": [
            "-----------------------------------------\n",
            "| eval/                   |             |\n",
            "|    mean_ep_length       | 254         |\n",
            "|    mean_reward          | 260         |\n",
            "| time/                   |             |\n",
            "|    total_timesteps      | 430000      |\n",
            "| train/                  |             |\n",
            "|    approx_kl            | 0.011434095 |\n",
            "|    clip_fraction        | 0.088       |\n",
            "|    clip_range           | 0.2         |\n",
            "|    entropy_loss         | -0.634      |\n",
            "|    explained_variance   | 0.883       |\n",
            "|    learning_rate        | 0.0003      |\n",
            "|    loss                 | 96.3        |\n",
            "|    n_updates            | 260         |\n",
            "|    policy_gradient_loss | -0.00436    |\n",
            "|    value_loss           | 266         |\n",
            "-----------------------------------------\n"
          ]
        },
        {
          "output_type": "display_data",
          "data": {
            "text/plain": [
              "Eval num_timesteps=440000, episode_reward=267.70 +/- 20.14\n"
            ],
            "text/html": [
              "<pre style=\"white-space:pre;overflow-x:auto;line-height:normal;font-family:Menlo,'DejaVu Sans Mono',consolas,'Courier New',monospace\">Eval num_timesteps=440000, episode_reward=267.70 +/- 20.14\n",
              "</pre>\n"
            ]
          },
          "metadata": {}
        },
        {
          "output_type": "display_data",
          "data": {
            "text/plain": [
              "Episode length: 264.30 +/- 17.94\n"
            ],
            "text/html": [
              "<pre style=\"white-space:pre;overflow-x:auto;line-height:normal;font-family:Menlo,'DejaVu Sans Mono',consolas,'Courier New',monospace\">Episode length: 264.30 +/- 17.94\n",
              "</pre>\n"
            ]
          },
          "metadata": {}
        },
        {
          "output_type": "stream",
          "name": "stdout",
          "text": [
            "---------------------------------\n",
            "| eval/              |          |\n",
            "|    mean_ep_length  | 264      |\n",
            "|    mean_reward     | 268      |\n",
            "| time/              |          |\n",
            "|    total_timesteps | 440000   |\n",
            "---------------------------------\n",
            "---------------------------------\n",
            "| rollout/           |          |\n",
            "|    ep_len_mean     | 671      |\n",
            "|    ep_rew_mean     | 219      |\n",
            "| time/              |          |\n",
            "|    fps             | 1352     |\n",
            "|    iterations      | 27       |\n",
            "|    time_elapsed    | 327      |\n",
            "|    total_timesteps | 442368   |\n",
            "---------------------------------\n"
          ]
        },
        {
          "output_type": "display_data",
          "data": {
            "text/plain": [
              "Eval num_timesteps=450000, episode_reward=272.40 +/- 11.11\n"
            ],
            "text/html": [
              "<pre style=\"white-space:pre;overflow-x:auto;line-height:normal;font-family:Menlo,'DejaVu Sans Mono',consolas,'Courier New',monospace\">Eval num_timesteps=450000, episode_reward=272.40 +/- 11.11\n",
              "</pre>\n"
            ]
          },
          "metadata": {}
        },
        {
          "output_type": "display_data",
          "data": {
            "text/plain": [
              "Episode length: 276.60 +/- 15.67\n"
            ],
            "text/html": [
              "<pre style=\"white-space:pre;overflow-x:auto;line-height:normal;font-family:Menlo,'DejaVu Sans Mono',consolas,'Courier New',monospace\">Episode length: 276.60 +/- 15.67\n",
              "</pre>\n"
            ]
          },
          "metadata": {}
        },
        {
          "output_type": "stream",
          "name": "stdout",
          "text": [
            "-----------------------------------------\n",
            "| eval/                   |             |\n",
            "|    mean_ep_length       | 277         |\n",
            "|    mean_reward          | 272         |\n",
            "| time/                   |             |\n",
            "|    total_timesteps      | 450000      |\n",
            "| train/                  |             |\n",
            "|    approx_kl            | 0.031232208 |\n",
            "|    clip_fraction        | 0.107       |\n",
            "|    clip_range           | 0.2         |\n",
            "|    entropy_loss         | -0.593      |\n",
            "|    explained_variance   | 0.775       |\n",
            "|    learning_rate        | 0.0003      |\n",
            "|    loss                 | 305         |\n",
            "|    n_updates            | 270         |\n",
            "|    policy_gradient_loss | -0.00717    |\n",
            "|    value_loss           | 530         |\n",
            "-----------------------------------------\n",
            "---------------------------------\n",
            "| rollout/           |          |\n",
            "|    ep_len_mean     | 406      |\n",
            "|    ep_rew_mean     | 253      |\n",
            "| time/              |          |\n",
            "|    fps             | 1361     |\n",
            "|    iterations      | 28       |\n",
            "|    time_elapsed    | 337      |\n",
            "|    total_timesteps | 458752   |\n",
            "---------------------------------\n"
          ]
        },
        {
          "output_type": "display_data",
          "data": {
            "text/plain": [
              "Eval num_timesteps=460000, episode_reward=249.91 +/- 45.28\n"
            ],
            "text/html": [
              "<pre style=\"white-space:pre;overflow-x:auto;line-height:normal;font-family:Menlo,'DejaVu Sans Mono',consolas,'Courier New',monospace\">Eval num_timesteps=460000, episode_reward=249.91 +/- 45.28\n",
              "</pre>\n"
            ]
          },
          "metadata": {}
        },
        {
          "output_type": "display_data",
          "data": {
            "text/plain": [
              "Episode length: 339.00 +/- 220.63\n"
            ],
            "text/html": [
              "<pre style=\"white-space:pre;overflow-x:auto;line-height:normal;font-family:Menlo,'DejaVu Sans Mono',consolas,'Courier New',monospace\">Episode length: 339.00 +/- 220.63\n",
              "</pre>\n"
            ]
          },
          "metadata": {}
        },
        {
          "output_type": "stream",
          "name": "stdout",
          "text": [
            "------------------------------------------\n",
            "| eval/                   |              |\n",
            "|    mean_ep_length       | 339          |\n",
            "|    mean_reward          | 250          |\n",
            "| time/                   |              |\n",
            "|    total_timesteps      | 460000       |\n",
            "| train/                  |              |\n",
            "|    approx_kl            | 0.0050369054 |\n",
            "|    clip_fraction        | 0.0271       |\n",
            "|    clip_range           | 0.2          |\n",
            "|    entropy_loss         | -0.646       |\n",
            "|    explained_variance   | 0.764        |\n",
            "|    learning_rate        | 0.0003       |\n",
            "|    loss                 | 137          |\n",
            "|    n_updates            | 280          |\n",
            "|    policy_gradient_loss | -0.0022      |\n",
            "|    value_loss           | 359          |\n",
            "------------------------------------------\n"
          ]
        },
        {
          "output_type": "display_data",
          "data": {
            "text/plain": [
              "Eval num_timesteps=470000, episode_reward=266.48 +/- 22.44\n"
            ],
            "text/html": [
              "<pre style=\"white-space:pre;overflow-x:auto;line-height:normal;font-family:Menlo,'DejaVu Sans Mono',consolas,'Courier New',monospace\">Eval num_timesteps=470000, episode_reward=266.48 +/- 22.44\n",
              "</pre>\n"
            ]
          },
          "metadata": {}
        },
        {
          "output_type": "display_data",
          "data": {
            "text/plain": [
              "Episode length: 264.80 +/- 16.90\n"
            ],
            "text/html": [
              "<pre style=\"white-space:pre;overflow-x:auto;line-height:normal;font-family:Menlo,'DejaVu Sans Mono',consolas,'Courier New',monospace\">Episode length: 264.80 +/- 16.90\n",
              "</pre>\n"
            ]
          },
          "metadata": {}
        },
        {
          "output_type": "stream",
          "name": "stdout",
          "text": [
            "---------------------------------\n",
            "| eval/              |          |\n",
            "|    mean_ep_length  | 265      |\n",
            "|    mean_reward     | 266      |\n",
            "| time/              |          |\n",
            "|    total_timesteps | 470000   |\n",
            "---------------------------------\n",
            "---------------------------------\n",
            "| rollout/           |          |\n",
            "|    ep_len_mean     | 291      |\n",
            "|    ep_rew_mean     | 262      |\n",
            "| time/              |          |\n",
            "|    fps             | 1357     |\n",
            "|    iterations      | 29       |\n",
            "|    time_elapsed    | 349      |\n",
            "|    total_timesteps | 475136   |\n",
            "---------------------------------\n"
          ]
        },
        {
          "output_type": "display_data",
          "data": {
            "text/plain": [
              "Eval num_timesteps=480000, episode_reward=270.93 +/- 16.12\n"
            ],
            "text/html": [
              "<pre style=\"white-space:pre;overflow-x:auto;line-height:normal;font-family:Menlo,'DejaVu Sans Mono',consolas,'Courier New',monospace\">Eval num_timesteps=480000, episode_reward=270.93 +/- 16.12\n",
              "</pre>\n"
            ]
          },
          "metadata": {}
        },
        {
          "output_type": "display_data",
          "data": {
            "text/plain": [
              "Episode length: 266.50 +/- 21.24\n"
            ],
            "text/html": [
              "<pre style=\"white-space:pre;overflow-x:auto;line-height:normal;font-family:Menlo,'DejaVu Sans Mono',consolas,'Courier New',monospace\">Episode length: 266.50 +/- 21.24\n",
              "</pre>\n"
            ]
          },
          "metadata": {}
        },
        {
          "output_type": "stream",
          "name": "stdout",
          "text": [
            "------------------------------------------\n",
            "| eval/                   |              |\n",
            "|    mean_ep_length       | 266          |\n",
            "|    mean_reward          | 271          |\n",
            "| time/                   |              |\n",
            "|    total_timesteps      | 480000       |\n",
            "| train/                  |              |\n",
            "|    approx_kl            | 0.0039041466 |\n",
            "|    clip_fraction        | 0.0217       |\n",
            "|    clip_range           | 0.2          |\n",
            "|    entropy_loss         | -0.666       |\n",
            "|    explained_variance   | 0.752        |\n",
            "|    learning_rate        | 0.0003       |\n",
            "|    loss                 | 95.8         |\n",
            "|    n_updates            | 290          |\n",
            "|    policy_gradient_loss | -0.00134     |\n",
            "|    value_loss           | 251          |\n",
            "------------------------------------------\n"
          ]
        },
        {
          "output_type": "display_data",
          "data": {
            "text/plain": [
              "Eval num_timesteps=490000, episode_reward=269.91 +/- 12.86\n"
            ],
            "text/html": [
              "<pre style=\"white-space:pre;overflow-x:auto;line-height:normal;font-family:Menlo,'DejaVu Sans Mono',consolas,'Courier New',monospace\">Eval num_timesteps=490000, episode_reward=269.91 +/- 12.86\n",
              "</pre>\n"
            ]
          },
          "metadata": {}
        },
        {
          "output_type": "display_data",
          "data": {
            "text/plain": [
              "Episode length: 264.10 +/- 14.52\n"
            ],
            "text/html": [
              "<pre style=\"white-space:pre;overflow-x:auto;line-height:normal;font-family:Menlo,'DejaVu Sans Mono',consolas,'Courier New',monospace\">Episode length: 264.10 +/- 14.52\n",
              "</pre>\n"
            ]
          },
          "metadata": {}
        },
        {
          "output_type": "stream",
          "name": "stdout",
          "text": [
            "---------------------------------\n",
            "| eval/              |          |\n",
            "|    mean_ep_length  | 264      |\n",
            "|    mean_reward     | 270      |\n",
            "| time/              |          |\n",
            "|    total_timesteps | 490000   |\n",
            "---------------------------------\n",
            "---------------------------------\n",
            "| rollout/           |          |\n",
            "|    ep_len_mean     | 265      |\n",
            "|    ep_rew_mean     | 270      |\n",
            "| time/              |          |\n",
            "|    fps             | 1357     |\n",
            "|    iterations      | 30       |\n",
            "|    time_elapsed    | 362      |\n",
            "|    total_timesteps | 491520   |\n",
            "---------------------------------\n"
          ]
        },
        {
          "output_type": "display_data",
          "data": {
            "text/plain": [
              "Eval num_timesteps=500000, episode_reward=281.22 +/- 13.75\n"
            ],
            "text/html": [
              "<pre style=\"white-space:pre;overflow-x:auto;line-height:normal;font-family:Menlo,'DejaVu Sans Mono',consolas,'Courier New',monospace\">Eval num_timesteps=500000, episode_reward=281.22 +/- 13.75\n",
              "</pre>\n"
            ]
          },
          "metadata": {}
        },
        {
          "output_type": "display_data",
          "data": {
            "text/plain": [
              "Episode length: 274.30 +/- 15.80\n"
            ],
            "text/html": [
              "<pre style=\"white-space:pre;overflow-x:auto;line-height:normal;font-family:Menlo,'DejaVu Sans Mono',consolas,'Courier New',monospace\">Episode length: 274.30 +/- 15.80\n",
              "</pre>\n"
            ]
          },
          "metadata": {}
        },
        {
          "output_type": "stream",
          "name": "stdout",
          "text": [
            "-----------------------------------------\n",
            "| eval/                   |             |\n",
            "|    mean_ep_length       | 274         |\n",
            "|    mean_reward          | 281         |\n",
            "| time/                   |             |\n",
            "|    total_timesteps      | 500000      |\n",
            "| train/                  |             |\n",
            "|    approx_kl            | 0.006920185 |\n",
            "|    clip_fraction        | 0.0547      |\n",
            "|    clip_range           | 0.2         |\n",
            "|    entropy_loss         | -0.682      |\n",
            "|    explained_variance   | 0.74        |\n",
            "|    learning_rate        | 0.0003      |\n",
            "|    loss                 | 42.3        |\n",
            "|    n_updates            | 300         |\n",
            "|    policy_gradient_loss | -0.00212    |\n",
            "|    value_loss           | 146         |\n",
            "-----------------------------------------\n"
          ]
        },
        {
          "output_type": "display_data",
          "data": {
            "text/plain": [
              "New best mean reward!\n"
            ],
            "text/html": [
              "<pre style=\"white-space:pre;overflow-x:auto;line-height:normal;font-family:Menlo,'DejaVu Sans Mono',consolas,'Courier New',monospace\">New best mean reward!\n",
              "</pre>\n"
            ]
          },
          "metadata": {}
        },
        {
          "output_type": "stream",
          "name": "stdout",
          "text": [
            "---------------------------------\n",
            "| rollout/           |          |\n",
            "|    ep_len_mean     | 268      |\n",
            "|    ep_rew_mean     | 272      |\n",
            "| time/              |          |\n",
            "|    fps             | 1365     |\n",
            "|    iterations      | 31       |\n",
            "|    time_elapsed    | 372      |\n",
            "|    total_timesteps | 507904   |\n",
            "---------------------------------\n"
          ]
        },
        {
          "output_type": "display_data",
          "data": {
            "text/plain": [
              "Eval num_timesteps=510000, episode_reward=266.15 +/- 11.96\n"
            ],
            "text/html": [
              "<pre style=\"white-space:pre;overflow-x:auto;line-height:normal;font-family:Menlo,'DejaVu Sans Mono',consolas,'Courier New',monospace\">Eval num_timesteps=510000, episode_reward=266.15 +/- 11.96\n",
              "</pre>\n"
            ]
          },
          "metadata": {}
        },
        {
          "output_type": "display_data",
          "data": {
            "text/plain": [
              "Episode length: 278.10 +/- 10.95\n"
            ],
            "text/html": [
              "<pre style=\"white-space:pre;overflow-x:auto;line-height:normal;font-family:Menlo,'DejaVu Sans Mono',consolas,'Courier New',monospace\">Episode length: 278.10 +/- 10.95\n",
              "</pre>\n"
            ]
          },
          "metadata": {}
        },
        {
          "output_type": "stream",
          "name": "stdout",
          "text": [
            "------------------------------------------\n",
            "| eval/                   |              |\n",
            "|    mean_ep_length       | 278          |\n",
            "|    mean_reward          | 266          |\n",
            "| time/                   |              |\n",
            "|    total_timesteps      | 510000       |\n",
            "| train/                  |              |\n",
            "|    approx_kl            | 0.0057841185 |\n",
            "|    clip_fraction        | 0.0523       |\n",
            "|    clip_range           | 0.2          |\n",
            "|    entropy_loss         | -0.694       |\n",
            "|    explained_variance   | 0.887        |\n",
            "|    learning_rate        | 0.0003       |\n",
            "|    loss                 | 27.9         |\n",
            "|    n_updates            | 310          |\n",
            "|    policy_gradient_loss | -0.00103     |\n",
            "|    value_loss           | 113          |\n",
            "------------------------------------------\n"
          ]
        },
        {
          "output_type": "display_data",
          "data": {
            "text/plain": [
              "Eval num_timesteps=520000, episode_reward=266.19 +/- 19.61\n"
            ],
            "text/html": [
              "<pre style=\"white-space:pre;overflow-x:auto;line-height:normal;font-family:Menlo,'DejaVu Sans Mono',consolas,'Courier New',monospace\">Eval num_timesteps=520000, episode_reward=266.19 +/- 19.61\n",
              "</pre>\n"
            ]
          },
          "metadata": {}
        },
        {
          "output_type": "display_data",
          "data": {
            "text/plain": [
              "Episode length: 267.80 +/- 13.48\n"
            ],
            "text/html": [
              "<pre style=\"white-space:pre;overflow-x:auto;line-height:normal;font-family:Menlo,'DejaVu Sans Mono',consolas,'Courier New',monospace\">Episode length: 267.80 +/- 13.48\n",
              "</pre>\n"
            ]
          },
          "metadata": {}
        },
        {
          "output_type": "stream",
          "name": "stdout",
          "text": [
            "---------------------------------\n",
            "| eval/              |          |\n",
            "|    mean_ep_length  | 268      |\n",
            "|    mean_reward     | 266      |\n",
            "| time/              |          |\n",
            "|    total_timesteps | 520000   |\n",
            "---------------------------------\n",
            "---------------------------------\n",
            "| rollout/           |          |\n",
            "|    ep_len_mean     | 288      |\n",
            "|    ep_rew_mean     | 272      |\n",
            "| time/              |          |\n",
            "|    fps             | 1363     |\n",
            "|    iterations      | 32       |\n",
            "|    time_elapsed    | 384      |\n",
            "|    total_timesteps | 524288   |\n",
            "---------------------------------\n"
          ]
        },
        {
          "output_type": "display_data",
          "data": {
            "text/plain": [
              "Eval num_timesteps=530000, episode_reward=278.28 +/- 16.51\n"
            ],
            "text/html": [
              "<pre style=\"white-space:pre;overflow-x:auto;line-height:normal;font-family:Menlo,'DejaVu Sans Mono',consolas,'Courier New',monospace\">Eval num_timesteps=530000, episode_reward=278.28 +/- 16.51\n",
              "</pre>\n"
            ]
          },
          "metadata": {}
        },
        {
          "output_type": "display_data",
          "data": {
            "text/plain": [
              "Episode length: 270.90 +/- 11.75\n"
            ],
            "text/html": [
              "<pre style=\"white-space:pre;overflow-x:auto;line-height:normal;font-family:Menlo,'DejaVu Sans Mono',consolas,'Courier New',monospace\">Episode length: 270.90 +/- 11.75\n",
              "</pre>\n"
            ]
          },
          "metadata": {}
        },
        {
          "output_type": "stream",
          "name": "stdout",
          "text": [
            "-----------------------------------------\n",
            "| eval/                   |             |\n",
            "|    mean_ep_length       | 271         |\n",
            "|    mean_reward          | 278         |\n",
            "| time/                   |             |\n",
            "|    total_timesteps      | 530000      |\n",
            "| train/                  |             |\n",
            "|    approx_kl            | 0.004295911 |\n",
            "|    clip_fraction        | 0.0331      |\n",
            "|    clip_range           | 0.2         |\n",
            "|    entropy_loss         | -0.695      |\n",
            "|    explained_variance   | 0.88        |\n",
            "|    learning_rate        | 0.0003      |\n",
            "|    loss                 | 23.3        |\n",
            "|    n_updates            | 320         |\n",
            "|    policy_gradient_loss | -0.00212    |\n",
            "|    value_loss           | 141         |\n",
            "-----------------------------------------\n"
          ]
        },
        {
          "output_type": "display_data",
          "data": {
            "text/plain": [
              "Eval num_timesteps=540000, episode_reward=280.72 +/- 18.22\n"
            ],
            "text/html": [
              "<pre style=\"white-space:pre;overflow-x:auto;line-height:normal;font-family:Menlo,'DejaVu Sans Mono',consolas,'Courier New',monospace\">Eval num_timesteps=540000, episode_reward=280.72 +/- 18.22\n",
              "</pre>\n"
            ]
          },
          "metadata": {}
        },
        {
          "output_type": "display_data",
          "data": {
            "text/plain": [
              "Episode length: 267.80 +/- 16.13\n"
            ],
            "text/html": [
              "<pre style=\"white-space:pre;overflow-x:auto;line-height:normal;font-family:Menlo,'DejaVu Sans Mono',consolas,'Courier New',monospace\">Episode length: 267.80 +/- 16.13\n",
              "</pre>\n"
            ]
          },
          "metadata": {}
        },
        {
          "output_type": "stream",
          "name": "stdout",
          "text": [
            "---------------------------------\n",
            "| eval/              |          |\n",
            "|    mean_ep_length  | 268      |\n",
            "|    mean_reward     | 281      |\n",
            "| time/              |          |\n",
            "|    total_timesteps | 540000   |\n",
            "---------------------------------\n",
            "---------------------------------\n",
            "| rollout/           |          |\n",
            "|    ep_len_mean     | 266      |\n",
            "|    ep_rew_mean     | 269      |\n",
            "| time/              |          |\n",
            "|    fps             | 1362     |\n",
            "|    iterations      | 33       |\n",
            "|    time_elapsed    | 396      |\n",
            "|    total_timesteps | 540672   |\n",
            "---------------------------------\n"
          ]
        },
        {
          "output_type": "display_data",
          "data": {
            "text/plain": [
              "Eval num_timesteps=550000, episode_reward=274.07 +/- 11.62\n"
            ],
            "text/html": [
              "<pre style=\"white-space:pre;overflow-x:auto;line-height:normal;font-family:Menlo,'DejaVu Sans Mono',consolas,'Courier New',monospace\">Eval num_timesteps=550000, episode_reward=274.07 +/- 11.62\n",
              "</pre>\n"
            ]
          },
          "metadata": {}
        },
        {
          "output_type": "display_data",
          "data": {
            "text/plain": [
              "Episode length: 265.80 +/- 18.18\n"
            ],
            "text/html": [
              "<pre style=\"white-space:pre;overflow-x:auto;line-height:normal;font-family:Menlo,'DejaVu Sans Mono',consolas,'Courier New',monospace\">Episode length: 265.80 +/- 18.18\n",
              "</pre>\n"
            ]
          },
          "metadata": {}
        },
        {
          "output_type": "stream",
          "name": "stdout",
          "text": [
            "-----------------------------------------\n",
            "| eval/                   |             |\n",
            "|    mean_ep_length       | 266         |\n",
            "|    mean_reward          | 274         |\n",
            "| time/                   |             |\n",
            "|    total_timesteps      | 550000      |\n",
            "| train/                  |             |\n",
            "|    approx_kl            | 0.003323461 |\n",
            "|    clip_fraction        | 0.0304      |\n",
            "|    clip_range           | 0.2         |\n",
            "|    entropy_loss         | -0.681      |\n",
            "|    explained_variance   | 0.866       |\n",
            "|    learning_rate        | 0.0003      |\n",
            "|    loss                 | 67.1        |\n",
            "|    n_updates            | 330         |\n",
            "|    policy_gradient_loss | -0.00212    |\n",
            "|    value_loss           | 173         |\n",
            "-----------------------------------------\n",
            "---------------------------------\n",
            "| rollout/           |          |\n",
            "|    ep_len_mean     | 253      |\n",
            "|    ep_rew_mean     | 261      |\n",
            "| time/              |          |\n",
            "|    fps             | 1370     |\n",
            "|    iterations      | 34       |\n",
            "|    time_elapsed    | 406      |\n",
            "|    total_timesteps | 557056   |\n",
            "---------------------------------\n"
          ]
        },
        {
          "output_type": "display_data",
          "data": {
            "text/plain": [
              "Eval num_timesteps=560000, episode_reward=273.88 +/- 16.53\n"
            ],
            "text/html": [
              "<pre style=\"white-space:pre;overflow-x:auto;line-height:normal;font-family:Menlo,'DejaVu Sans Mono',consolas,'Courier New',monospace\">Eval num_timesteps=560000, episode_reward=273.88 +/- 16.53\n",
              "</pre>\n"
            ]
          },
          "metadata": {}
        },
        {
          "output_type": "display_data",
          "data": {
            "text/plain": [
              "Episode length: 269.40 +/- 11.85\n"
            ],
            "text/html": [
              "<pre style=\"white-space:pre;overflow-x:auto;line-height:normal;font-family:Menlo,'DejaVu Sans Mono',consolas,'Courier New',monospace\">Episode length: 269.40 +/- 11.85\n",
              "</pre>\n"
            ]
          },
          "metadata": {}
        },
        {
          "output_type": "stream",
          "name": "stdout",
          "text": [
            "-----------------------------------------\n",
            "| eval/                   |             |\n",
            "|    mean_ep_length       | 269         |\n",
            "|    mean_reward          | 274         |\n",
            "| time/                   |             |\n",
            "|    total_timesteps      | 560000      |\n",
            "| train/                  |             |\n",
            "|    approx_kl            | 0.004553505 |\n",
            "|    clip_fraction        | 0.0397      |\n",
            "|    clip_range           | 0.2         |\n",
            "|    entropy_loss         | -0.687      |\n",
            "|    explained_variance   | 0.857       |\n",
            "|    learning_rate        | 0.0003      |\n",
            "|    loss                 | 72          |\n",
            "|    n_updates            | 340         |\n",
            "|    policy_gradient_loss | -0.000504   |\n",
            "|    value_loss           | 90.8        |\n",
            "-----------------------------------------\n"
          ]
        },
        {
          "output_type": "display_data",
          "data": {
            "text/plain": [
              "Eval num_timesteps=570000, episode_reward=271.69 +/- 17.30\n"
            ],
            "text/html": [
              "<pre style=\"white-space:pre;overflow-x:auto;line-height:normal;font-family:Menlo,'DejaVu Sans Mono',consolas,'Courier New',monospace\">Eval num_timesteps=570000, episode_reward=271.69 +/- 17.30\n",
              "</pre>\n"
            ]
          },
          "metadata": {}
        },
        {
          "output_type": "display_data",
          "data": {
            "text/plain": [
              "Episode length: 270.20 +/- 18.76\n"
            ],
            "text/html": [
              "<pre style=\"white-space:pre;overflow-x:auto;line-height:normal;font-family:Menlo,'DejaVu Sans Mono',consolas,'Courier New',monospace\">Episode length: 270.20 +/- 18.76\n",
              "</pre>\n"
            ]
          },
          "metadata": {}
        },
        {
          "output_type": "stream",
          "name": "stdout",
          "text": [
            "---------------------------------\n",
            "| eval/              |          |\n",
            "|    mean_ep_length  | 270      |\n",
            "|    mean_reward     | 272      |\n",
            "| time/              |          |\n",
            "|    total_timesteps | 570000   |\n",
            "---------------------------------\n",
            "---------------------------------\n",
            "| rollout/           |          |\n",
            "|    ep_len_mean     | 254      |\n",
            "|    ep_rew_mean     | 268      |\n",
            "| time/              |          |\n",
            "|    fps             | 1368     |\n",
            "|    iterations      | 35       |\n",
            "|    time_elapsed    | 418      |\n",
            "|    total_timesteps | 573440   |\n",
            "---------------------------------\n"
          ]
        },
        {
          "output_type": "display_data",
          "data": {
            "text/plain": [
              "Eval num_timesteps=580000, episode_reward=286.19 +/- 18.28\n"
            ],
            "text/html": [
              "<pre style=\"white-space:pre;overflow-x:auto;line-height:normal;font-family:Menlo,'DejaVu Sans Mono',consolas,'Courier New',monospace\">Eval num_timesteps=580000, episode_reward=286.19 +/- 18.28\n",
              "</pre>\n"
            ]
          },
          "metadata": {}
        },
        {
          "output_type": "display_data",
          "data": {
            "text/plain": [
              "Episode length: 262.20 +/- 15.39\n"
            ],
            "text/html": [
              "<pre style=\"white-space:pre;overflow-x:auto;line-height:normal;font-family:Menlo,'DejaVu Sans Mono',consolas,'Courier New',monospace\">Episode length: 262.20 +/- 15.39\n",
              "</pre>\n"
            ]
          },
          "metadata": {}
        },
        {
          "output_type": "stream",
          "name": "stdout",
          "text": [
            "------------------------------------------\n",
            "| eval/                   |              |\n",
            "|    mean_ep_length       | 262          |\n",
            "|    mean_reward          | 286          |\n",
            "| time/                   |              |\n",
            "|    total_timesteps      | 580000       |\n",
            "| train/                  |              |\n",
            "|    approx_kl            | 0.0037818186 |\n",
            "|    clip_fraction        | 0.0321       |\n",
            "|    clip_range           | 0.2          |\n",
            "|    entropy_loss         | -0.695       |\n",
            "|    explained_variance   | 0.809        |\n",
            "|    learning_rate        | 0.0003       |\n",
            "|    loss                 | 18           |\n",
            "|    n_updates            | 350          |\n",
            "|    policy_gradient_loss | -0.00131     |\n",
            "|    value_loss           | 98.7         |\n",
            "------------------------------------------\n"
          ]
        },
        {
          "output_type": "display_data",
          "data": {
            "text/plain": [
              "New best mean reward!\n"
            ],
            "text/html": [
              "<pre style=\"white-space:pre;overflow-x:auto;line-height:normal;font-family:Menlo,'DejaVu Sans Mono',consolas,'Courier New',monospace\">New best mean reward!\n",
              "</pre>\n"
            ]
          },
          "metadata": {}
        },
        {
          "output_type": "stream",
          "name": "stdout",
          "text": [
            "---------------------------------\n",
            "| rollout/           |          |\n",
            "|    ep_len_mean     | 255      |\n",
            "|    ep_rew_mean     | 272      |\n",
            "| time/              |          |\n",
            "|    fps             | 1377     |\n",
            "|    iterations      | 36       |\n",
            "|    time_elapsed    | 428      |\n",
            "|    total_timesteps | 589824   |\n",
            "---------------------------------\n"
          ]
        },
        {
          "output_type": "display_data",
          "data": {
            "text/plain": [
              "Eval num_timesteps=590000, episode_reward=272.93 +/- 19.87\n"
            ],
            "text/html": [
              "<pre style=\"white-space:pre;overflow-x:auto;line-height:normal;font-family:Menlo,'DejaVu Sans Mono',consolas,'Courier New',monospace\">Eval num_timesteps=590000, episode_reward=272.93 +/- 19.87\n",
              "</pre>\n"
            ]
          },
          "metadata": {}
        },
        {
          "output_type": "display_data",
          "data": {
            "text/plain": [
              "Episode length: 268.40 +/- 15.34\n"
            ],
            "text/html": [
              "<pre style=\"white-space:pre;overflow-x:auto;line-height:normal;font-family:Menlo,'DejaVu Sans Mono',consolas,'Courier New',monospace\">Episode length: 268.40 +/- 15.34\n",
              "</pre>\n"
            ]
          },
          "metadata": {}
        },
        {
          "output_type": "stream",
          "name": "stdout",
          "text": [
            "------------------------------------------\n",
            "| eval/                   |              |\n",
            "|    mean_ep_length       | 268          |\n",
            "|    mean_reward          | 273          |\n",
            "| time/                   |              |\n",
            "|    total_timesteps      | 590000       |\n",
            "| train/                  |              |\n",
            "|    approx_kl            | 0.0041118357 |\n",
            "|    clip_fraction        | 0.0422       |\n",
            "|    clip_range           | 0.2          |\n",
            "|    entropy_loss         | -0.691       |\n",
            "|    explained_variance   | 0.903        |\n",
            "|    learning_rate        | 0.0003       |\n",
            "|    loss                 | 15.8         |\n",
            "|    n_updates            | 360          |\n",
            "|    policy_gradient_loss | 1.92e-05     |\n",
            "|    value_loss           | 26.9         |\n",
            "------------------------------------------\n"
          ]
        },
        {
          "output_type": "display_data",
          "data": {
            "text/plain": [
              "Eval num_timesteps=600000, episode_reward=266.03 +/- 22.02\n"
            ],
            "text/html": [
              "<pre style=\"white-space:pre;overflow-x:auto;line-height:normal;font-family:Menlo,'DejaVu Sans Mono',consolas,'Courier New',monospace\">Eval num_timesteps=600000, episode_reward=266.03 +/- 22.02\n",
              "</pre>\n"
            ]
          },
          "metadata": {}
        },
        {
          "output_type": "display_data",
          "data": {
            "text/plain": [
              "Episode length: 268.40 +/- 9.52\n"
            ],
            "text/html": [
              "<pre style=\"white-space:pre;overflow-x:auto;line-height:normal;font-family:Menlo,'DejaVu Sans Mono',consolas,'Courier New',monospace\">Episode length: 268.40 +/- 9.52\n",
              "</pre>\n"
            ]
          },
          "metadata": {}
        },
        {
          "output_type": "stream",
          "name": "stdout",
          "text": [
            "---------------------------------\n",
            "| eval/              |          |\n",
            "|    mean_ep_length  | 268      |\n",
            "|    mean_reward     | 266      |\n",
            "| time/              |          |\n",
            "|    total_timesteps | 600000   |\n",
            "---------------------------------\n",
            "---------------------------------\n",
            "| rollout/           |          |\n",
            "|    ep_len_mean     | 258      |\n",
            "|    ep_rew_mean     | 271      |\n",
            "| time/              |          |\n",
            "|    fps             | 1376     |\n",
            "|    iterations      | 37       |\n",
            "|    time_elapsed    | 440      |\n",
            "|    total_timesteps | 606208   |\n",
            "---------------------------------\n"
          ]
        },
        {
          "output_type": "display_data",
          "data": {
            "text/plain": [
              "Eval num_timesteps=610000, episode_reward=261.91 +/- 18.83\n"
            ],
            "text/html": [
              "<pre style=\"white-space:pre;overflow-x:auto;line-height:normal;font-family:Menlo,'DejaVu Sans Mono',consolas,'Courier New',monospace\">Eval num_timesteps=610000, episode_reward=261.91 +/- 18.83\n",
              "</pre>\n"
            ]
          },
          "metadata": {}
        },
        {
          "output_type": "display_data",
          "data": {
            "text/plain": [
              "Episode length: 269.20 +/- 12.26\n"
            ],
            "text/html": [
              "<pre style=\"white-space:pre;overflow-x:auto;line-height:normal;font-family:Menlo,'DejaVu Sans Mono',consolas,'Courier New',monospace\">Episode length: 269.20 +/- 12.26\n",
              "</pre>\n"
            ]
          },
          "metadata": {}
        },
        {
          "output_type": "stream",
          "name": "stdout",
          "text": [
            "------------------------------------------\n",
            "| eval/                   |              |\n",
            "|    mean_ep_length       | 269          |\n",
            "|    mean_reward          | 262          |\n",
            "| time/                   |              |\n",
            "|    total_timesteps      | 610000       |\n",
            "| train/                  |              |\n",
            "|    approx_kl            | 0.0033273688 |\n",
            "|    clip_fraction        | 0.0344       |\n",
            "|    clip_range           | 0.2          |\n",
            "|    entropy_loss         | -0.709       |\n",
            "|    explained_variance   | 0.923        |\n",
            "|    learning_rate        | 0.0003       |\n",
            "|    loss                 | 18.2         |\n",
            "|    n_updates            | 370          |\n",
            "|    policy_gradient_loss | -0.0002      |\n",
            "|    value_loss           | 35.3         |\n",
            "------------------------------------------\n"
          ]
        },
        {
          "output_type": "display_data",
          "data": {
            "text/plain": [
              "Eval num_timesteps=620000, episode_reward=264.78 +/- 12.30\n"
            ],
            "text/html": [
              "<pre style=\"white-space:pre;overflow-x:auto;line-height:normal;font-family:Menlo,'DejaVu Sans Mono',consolas,'Courier New',monospace\">Eval num_timesteps=620000, episode_reward=264.78 +/- 12.30\n",
              "</pre>\n"
            ]
          },
          "metadata": {}
        },
        {
          "output_type": "display_data",
          "data": {
            "text/plain": [
              "Episode length: 258.00 +/- 9.57\n"
            ],
            "text/html": [
              "<pre style=\"white-space:pre;overflow-x:auto;line-height:normal;font-family:Menlo,'DejaVu Sans Mono',consolas,'Courier New',monospace\">Episode length: 258.00 +/- 9.57\n",
              "</pre>\n"
            ]
          },
          "metadata": {}
        },
        {
          "output_type": "stream",
          "name": "stdout",
          "text": [
            "---------------------------------\n",
            "| eval/              |          |\n",
            "|    mean_ep_length  | 258      |\n",
            "|    mean_reward     | 265      |\n",
            "| time/              |          |\n",
            "|    total_timesteps | 620000   |\n",
            "---------------------------------\n",
            "---------------------------------\n",
            "| rollout/           |          |\n",
            "|    ep_len_mean     | 258      |\n",
            "|    ep_rew_mean     | 274      |\n",
            "| time/              |          |\n",
            "|    fps             | 1375     |\n",
            "|    iterations      | 38       |\n",
            "|    time_elapsed    | 452      |\n",
            "|    total_timesteps | 622592   |\n",
            "---------------------------------\n"
          ]
        },
        {
          "output_type": "display_data",
          "data": {
            "text/plain": [
              "Eval num_timesteps=630000, episode_reward=272.78 +/- 19.75\n"
            ],
            "text/html": [
              "<pre style=\"white-space:pre;overflow-x:auto;line-height:normal;font-family:Menlo,'DejaVu Sans Mono',consolas,'Courier New',monospace\">Eval num_timesteps=630000, episode_reward=272.78 +/- 19.75\n",
              "</pre>\n"
            ]
          },
          "metadata": {}
        },
        {
          "output_type": "display_data",
          "data": {
            "text/plain": [
              "Episode length: 260.80 +/- 20.40\n"
            ],
            "text/html": [
              "<pre style=\"white-space:pre;overflow-x:auto;line-height:normal;font-family:Menlo,'DejaVu Sans Mono',consolas,'Courier New',monospace\">Episode length: 260.80 +/- 20.40\n",
              "</pre>\n"
            ]
          },
          "metadata": {}
        },
        {
          "output_type": "stream",
          "name": "stdout",
          "text": [
            "------------------------------------------\n",
            "| eval/                   |              |\n",
            "|    mean_ep_length       | 261          |\n",
            "|    mean_reward          | 273          |\n",
            "| time/                   |              |\n",
            "|    total_timesteps      | 630000       |\n",
            "| train/                  |              |\n",
            "|    approx_kl            | 0.0039877174 |\n",
            "|    clip_fraction        | 0.0388       |\n",
            "|    clip_range           | 0.2          |\n",
            "|    entropy_loss         | -0.708       |\n",
            "|    explained_variance   | 0.932        |\n",
            "|    learning_rate        | 0.0003       |\n",
            "|    loss                 | 5.19         |\n",
            "|    n_updates            | 380          |\n",
            "|    policy_gradient_loss | 0.000345     |\n",
            "|    value_loss           | 16.2         |\n",
            "------------------------------------------\n",
            "---------------------------------\n",
            "| rollout/           |          |\n",
            "|    ep_len_mean     | 245      |\n",
            "|    ep_rew_mean     | 274      |\n",
            "| time/              |          |\n",
            "|    fps             | 1382     |\n",
            "|    iterations      | 39       |\n",
            "|    time_elapsed    | 462      |\n",
            "|    total_timesteps | 638976   |\n",
            "---------------------------------\n"
          ]
        },
        {
          "output_type": "display_data",
          "data": {
            "text/plain": [
              "Eval num_timesteps=640000, episode_reward=264.75 +/- 10.69\n"
            ],
            "text/html": [
              "<pre style=\"white-space:pre;overflow-x:auto;line-height:normal;font-family:Menlo,'DejaVu Sans Mono',consolas,'Courier New',monospace\">Eval num_timesteps=640000, episode_reward=264.75 +/- 10.69\n",
              "</pre>\n"
            ]
          },
          "metadata": {}
        },
        {
          "output_type": "display_data",
          "data": {
            "text/plain": [
              "Episode length: 264.90 +/- 16.10\n"
            ],
            "text/html": [
              "<pre style=\"white-space:pre;overflow-x:auto;line-height:normal;font-family:Menlo,'DejaVu Sans Mono',consolas,'Courier New',monospace\">Episode length: 264.90 +/- 16.10\n",
              "</pre>\n"
            ]
          },
          "metadata": {}
        },
        {
          "output_type": "stream",
          "name": "stdout",
          "text": [
            "---------------------------------------\n",
            "| eval/                   |           |\n",
            "|    mean_ep_length       | 265       |\n",
            "|    mean_reward          | 265       |\n",
            "| time/                   |           |\n",
            "|    total_timesteps      | 640000    |\n",
            "| train/                  |           |\n",
            "|    approx_kl            | 0.0041736 |\n",
            "|    clip_fraction        | 0.0443    |\n",
            "|    clip_range           | 0.2       |\n",
            "|    entropy_loss         | -0.68     |\n",
            "|    explained_variance   | 0.957     |\n",
            "|    learning_rate        | 0.0003    |\n",
            "|    loss                 | 2.58      |\n",
            "|    n_updates            | 390       |\n",
            "|    policy_gradient_loss | 0.000157  |\n",
            "|    value_loss           | 9.09      |\n",
            "---------------------------------------\n"
          ]
        },
        {
          "output_type": "display_data",
          "data": {
            "text/plain": [
              "Eval num_timesteps=650000, episode_reward=270.23 +/- 24.47\n"
            ],
            "text/html": [
              "<pre style=\"white-space:pre;overflow-x:auto;line-height:normal;font-family:Menlo,'DejaVu Sans Mono',consolas,'Courier New',monospace\">Eval num_timesteps=650000, episode_reward=270.23 +/- 24.47\n",
              "</pre>\n"
            ]
          },
          "metadata": {}
        },
        {
          "output_type": "display_data",
          "data": {
            "text/plain": [
              "Episode length: 257.30 +/- 15.15\n"
            ],
            "text/html": [
              "<pre style=\"white-space:pre;overflow-x:auto;line-height:normal;font-family:Menlo,'DejaVu Sans Mono',consolas,'Courier New',monospace\">Episode length: 257.30 +/- 15.15\n",
              "</pre>\n"
            ]
          },
          "metadata": {}
        },
        {
          "output_type": "stream",
          "name": "stdout",
          "text": [
            "---------------------------------\n",
            "| rollout/           |          |\n",
            "|    ep_len_mean     | 242      |\n",
            "|    ep_rew_mean     | 274      |\n",
            "| time/              |          |\n",
            "|    fps             | 1381     |\n",
            "|    iterations      | 40       |\n",
            "|    time_elapsed    | 474      |\n",
            "|    total_timesteps | 655360   |\n",
            "---------------------------------\n"
          ]
        },
        {
          "output_type": "display_data",
          "data": {
            "text/plain": [
              "Eval num_timesteps=660000, episode_reward=266.26 +/- 20.75\n"
            ],
            "text/html": [
              "<pre style=\"white-space:pre;overflow-x:auto;line-height:normal;font-family:Menlo,'DejaVu Sans Mono',consolas,'Courier New',monospace\">Eval num_timesteps=660000, episode_reward=266.26 +/- 20.75\n",
              "</pre>\n"
            ]
          },
          "metadata": {}
        },
        {
          "output_type": "display_data",
          "data": {
            "text/plain": [
              "Episode length: 247.20 +/- 13.42\n"
            ],
            "text/html": [
              "<pre style=\"white-space:pre;overflow-x:auto;line-height:normal;font-family:Menlo,'DejaVu Sans Mono',consolas,'Courier New',monospace\">Episode length: 247.20 +/- 13.42\n",
              "</pre>\n"
            ]
          },
          "metadata": {}
        },
        {
          "output_type": "stream",
          "name": "stdout",
          "text": [
            "---------------------------------------\n",
            "| eval/                   |           |\n",
            "|    mean_ep_length       | 247       |\n",
            "|    mean_reward          | 266       |\n",
            "| time/                   |           |\n",
            "|    total_timesteps      | 660000    |\n",
            "| train/                  |           |\n",
            "|    approx_kl            | 0.0048936 |\n",
            "|    clip_fraction        | 0.0541    |\n",
            "|    clip_range           | 0.2       |\n",
            "|    entropy_loss         | -0.718    |\n",
            "|    explained_variance   | 0.974     |\n",
            "|    learning_rate        | 0.0003    |\n",
            "|    loss                 | 1.89      |\n",
            "|    n_updates            | 400       |\n",
            "|    policy_gradient_loss | -3e-05    |\n",
            "|    value_loss           | 6.8       |\n",
            "---------------------------------------\n"
          ]
        },
        {
          "output_type": "display_data",
          "data": {
            "text/plain": [
              "Eval num_timesteps=670000, episode_reward=279.31 +/- 23.44\n"
            ],
            "text/html": [
              "<pre style=\"white-space:pre;overflow-x:auto;line-height:normal;font-family:Menlo,'DejaVu Sans Mono',consolas,'Courier New',monospace\">Eval num_timesteps=670000, episode_reward=279.31 +/- 23.44\n",
              "</pre>\n"
            ]
          },
          "metadata": {}
        },
        {
          "output_type": "display_data",
          "data": {
            "text/plain": [
              "Episode length: 260.90 +/- 13.00\n"
            ],
            "text/html": [
              "<pre style=\"white-space:pre;overflow-x:auto;line-height:normal;font-family:Menlo,'DejaVu Sans Mono',consolas,'Courier New',monospace\">Episode length: 260.90 +/- 13.00\n",
              "</pre>\n"
            ]
          },
          "metadata": {}
        },
        {
          "output_type": "stream",
          "name": "stdout",
          "text": [
            "---------------------------------\n",
            "| eval/              |          |\n",
            "|    mean_ep_length  | 261      |\n",
            "|    mean_reward     | 279      |\n",
            "| time/              |          |\n",
            "|    total_timesteps | 670000   |\n",
            "---------------------------------\n",
            "---------------------------------\n",
            "| rollout/           |          |\n",
            "|    ep_len_mean     | 249      |\n",
            "|    ep_rew_mean     | 274      |\n",
            "| time/              |          |\n",
            "|    fps             | 1380     |\n",
            "|    iterations      | 41       |\n",
            "|    time_elapsed    | 486      |\n",
            "|    total_timesteps | 671744   |\n",
            "---------------------------------\n"
          ]
        },
        {
          "output_type": "display_data",
          "data": {
            "text/plain": [
              "Eval num_timesteps=680000, episode_reward=265.37 +/- 47.60\n"
            ],
            "text/html": [
              "<pre style=\"white-space:pre;overflow-x:auto;line-height:normal;font-family:Menlo,'DejaVu Sans Mono',consolas,'Courier New',monospace\">Eval num_timesteps=680000, episode_reward=265.37 +/- 47.60\n",
              "</pre>\n"
            ]
          },
          "metadata": {}
        },
        {
          "output_type": "display_data",
          "data": {
            "text/plain": [
              "Episode length: 332.20 +/- 223.26\n"
            ],
            "text/html": [
              "<pre style=\"white-space:pre;overflow-x:auto;line-height:normal;font-family:Menlo,'DejaVu Sans Mono',consolas,'Courier New',monospace\">Episode length: 332.20 +/- 223.26\n",
              "</pre>\n"
            ]
          },
          "metadata": {}
        },
        {
          "output_type": "stream",
          "name": "stdout",
          "text": [
            "-----------------------------------------\n",
            "| eval/                   |             |\n",
            "|    mean_ep_length       | 332         |\n",
            "|    mean_reward          | 265         |\n",
            "| time/                   |             |\n",
            "|    total_timesteps      | 680000      |\n",
            "| train/                  |             |\n",
            "|    approx_kl            | 0.008563949 |\n",
            "|    clip_fraction        | 0.0536      |\n",
            "|    clip_range           | 0.2         |\n",
            "|    entropy_loss         | -0.717      |\n",
            "|    explained_variance   | 0.979       |\n",
            "|    learning_rate        | 0.0003      |\n",
            "|    loss                 | 2.32        |\n",
            "|    n_updates            | 410         |\n",
            "|    policy_gradient_loss | -0.000768   |\n",
            "|    value_loss           | 6.8         |\n",
            "-----------------------------------------\n",
            "---------------------------------\n",
            "| rollout/           |          |\n",
            "|    ep_len_mean     | 276      |\n",
            "|    ep_rew_mean     | 274      |\n",
            "| time/              |          |\n",
            "|    fps             | 1384     |\n",
            "|    iterations      | 42       |\n",
            "|    time_elapsed    | 496      |\n",
            "|    total_timesteps | 688128   |\n",
            "---------------------------------\n"
          ]
        },
        {
          "output_type": "display_data",
          "data": {
            "text/plain": [
              "Eval num_timesteps=690000, episode_reward=269.21 +/- 20.53\n"
            ],
            "text/html": [
              "<pre style=\"white-space:pre;overflow-x:auto;line-height:normal;font-family:Menlo,'DejaVu Sans Mono',consolas,'Courier New',monospace\">Eval num_timesteps=690000, episode_reward=269.21 +/- 20.53\n",
              "</pre>\n"
            ]
          },
          "metadata": {}
        },
        {
          "output_type": "display_data",
          "data": {
            "text/plain": [
              "Episode length: 254.80 +/- 14.61\n"
            ],
            "text/html": [
              "<pre style=\"white-space:pre;overflow-x:auto;line-height:normal;font-family:Menlo,'DejaVu Sans Mono',consolas,'Courier New',monospace\">Episode length: 254.80 +/- 14.61\n",
              "</pre>\n"
            ]
          },
          "metadata": {}
        },
        {
          "output_type": "stream",
          "name": "stdout",
          "text": [
            "------------------------------------------\n",
            "| eval/                   |              |\n",
            "|    mean_ep_length       | 255          |\n",
            "|    mean_reward          | 269          |\n",
            "| time/                   |              |\n",
            "|    total_timesteps      | 690000       |\n",
            "| train/                  |              |\n",
            "|    approx_kl            | 0.0074691293 |\n",
            "|    clip_fraction        | 0.0313       |\n",
            "|    clip_range           | 0.2          |\n",
            "|    entropy_loss         | -0.691       |\n",
            "|    explained_variance   | 0.988        |\n",
            "|    learning_rate        | 0.0003       |\n",
            "|    loss                 | 1.67         |\n",
            "|    n_updates            | 420          |\n",
            "|    policy_gradient_loss | -0.00136     |\n",
            "|    value_loss           | 6.41         |\n",
            "------------------------------------------\n"
          ]
        },
        {
          "output_type": "display_data",
          "data": {
            "text/plain": [
              "Eval num_timesteps=700000, episode_reward=281.62 +/- 15.57\n"
            ],
            "text/html": [
              "<pre style=\"white-space:pre;overflow-x:auto;line-height:normal;font-family:Menlo,'DejaVu Sans Mono',consolas,'Courier New',monospace\">Eval num_timesteps=700000, episode_reward=281.62 +/- 15.57\n",
              "</pre>\n"
            ]
          },
          "metadata": {}
        },
        {
          "output_type": "display_data",
          "data": {
            "text/plain": [
              "Episode length: 245.50 +/- 14.53\n"
            ],
            "text/html": [
              "<pre style=\"white-space:pre;overflow-x:auto;line-height:normal;font-family:Menlo,'DejaVu Sans Mono',consolas,'Courier New',monospace\">Episode length: 245.50 +/- 14.53\n",
              "</pre>\n"
            ]
          },
          "metadata": {}
        },
        {
          "output_type": "stream",
          "name": "stdout",
          "text": [
            "---------------------------------\n",
            "| eval/              |          |\n",
            "|    mean_ep_length  | 246      |\n",
            "|    mean_reward     | 282      |\n",
            "| time/              |          |\n",
            "|    total_timesteps | 700000   |\n",
            "---------------------------------\n",
            "---------------------------------\n",
            "| rollout/           |          |\n",
            "|    ep_len_mean     | 315      |\n",
            "|    ep_rew_mean     | 273      |\n",
            "| time/              |          |\n",
            "|    fps             | 1384     |\n",
            "|    iterations      | 43       |\n",
            "|    time_elapsed    | 508      |\n",
            "|    total_timesteps | 704512   |\n",
            "---------------------------------\n"
          ]
        },
        {
          "output_type": "display_data",
          "data": {
            "text/plain": [
              "Eval num_timesteps=710000, episode_reward=276.20 +/- 16.30\n"
            ],
            "text/html": [
              "<pre style=\"white-space:pre;overflow-x:auto;line-height:normal;font-family:Menlo,'DejaVu Sans Mono',consolas,'Courier New',monospace\">Eval num_timesteps=710000, episode_reward=276.20 +/- 16.30\n",
              "</pre>\n"
            ]
          },
          "metadata": {}
        },
        {
          "output_type": "display_data",
          "data": {
            "text/plain": [
              "Episode length: 237.80 +/- 14.76\n"
            ],
            "text/html": [
              "<pre style=\"white-space:pre;overflow-x:auto;line-height:normal;font-family:Menlo,'DejaVu Sans Mono',consolas,'Courier New',monospace\">Episode length: 237.80 +/- 14.76\n",
              "</pre>\n"
            ]
          },
          "metadata": {}
        },
        {
          "output_type": "stream",
          "name": "stdout",
          "text": [
            "------------------------------------------\n",
            "| eval/                   |              |\n",
            "|    mean_ep_length       | 238          |\n",
            "|    mean_reward          | 276          |\n",
            "| time/                   |              |\n",
            "|    total_timesteps      | 710000       |\n",
            "| train/                  |              |\n",
            "|    approx_kl            | 0.0044368617 |\n",
            "|    clip_fraction        | 0.0461       |\n",
            "|    clip_range           | 0.2          |\n",
            "|    entropy_loss         | -0.672       |\n",
            "|    explained_variance   | 0.994        |\n",
            "|    learning_rate        | 0.0003       |\n",
            "|    loss                 | 1.43         |\n",
            "|    n_updates            | 430          |\n",
            "|    policy_gradient_loss | -0.000624    |\n",
            "|    value_loss           | 3.66         |\n",
            "------------------------------------------\n"
          ]
        },
        {
          "output_type": "display_data",
          "data": {
            "text/plain": [
              "Eval num_timesteps=720000, episode_reward=270.95 +/- 14.33\n"
            ],
            "text/html": [
              "<pre style=\"white-space:pre;overflow-x:auto;line-height:normal;font-family:Menlo,'DejaVu Sans Mono',consolas,'Courier New',monospace\">Eval num_timesteps=720000, episode_reward=270.95 +/- 14.33\n",
              "</pre>\n"
            ]
          },
          "metadata": {}
        },
        {
          "output_type": "display_data",
          "data": {
            "text/plain": [
              "Episode length: 253.30 +/- 12.71\n"
            ],
            "text/html": [
              "<pre style=\"white-space:pre;overflow-x:auto;line-height:normal;font-family:Menlo,'DejaVu Sans Mono',consolas,'Courier New',monospace\">Episode length: 253.30 +/- 12.71\n",
              "</pre>\n"
            ]
          },
          "metadata": {}
        },
        {
          "output_type": "stream",
          "name": "stdout",
          "text": [
            "---------------------------------\n",
            "| eval/              |          |\n",
            "|    mean_ep_length  | 253      |\n",
            "|    mean_reward     | 271      |\n",
            "| time/              |          |\n",
            "|    total_timesteps | 720000   |\n",
            "---------------------------------\n",
            "---------------------------------\n",
            "| rollout/           |          |\n",
            "|    ep_len_mean     | 329      |\n",
            "|    ep_rew_mean     | 275      |\n",
            "| time/              |          |\n",
            "|    fps             | 1384     |\n",
            "|    iterations      | 44       |\n",
            "|    time_elapsed    | 520      |\n",
            "|    total_timesteps | 720896   |\n",
            "---------------------------------\n"
          ]
        },
        {
          "output_type": "display_data",
          "data": {
            "text/plain": [
              "Eval num_timesteps=730000, episode_reward=279.94 +/- 21.97\n"
            ],
            "text/html": [
              "<pre style=\"white-space:pre;overflow-x:auto;line-height:normal;font-family:Menlo,'DejaVu Sans Mono',consolas,'Courier New',monospace\">Eval num_timesteps=730000, episode_reward=279.94 +/- 21.97\n",
              "</pre>\n"
            ]
          },
          "metadata": {}
        },
        {
          "output_type": "display_data",
          "data": {
            "text/plain": [
              "Episode length: 247.80 +/- 16.80\n"
            ],
            "text/html": [
              "<pre style=\"white-space:pre;overflow-x:auto;line-height:normal;font-family:Menlo,'DejaVu Sans Mono',consolas,'Courier New',monospace\">Episode length: 247.80 +/- 16.80\n",
              "</pre>\n"
            ]
          },
          "metadata": {}
        },
        {
          "output_type": "stream",
          "name": "stdout",
          "text": [
            "------------------------------------------\n",
            "| eval/                   |              |\n",
            "|    mean_ep_length       | 248          |\n",
            "|    mean_reward          | 280          |\n",
            "| time/                   |              |\n",
            "|    total_timesteps      | 730000       |\n",
            "| train/                  |              |\n",
            "|    approx_kl            | 0.0047775614 |\n",
            "|    clip_fraction        | 0.0564       |\n",
            "|    clip_range           | 0.2          |\n",
            "|    entropy_loss         | -0.638       |\n",
            "|    explained_variance   | 0.995        |\n",
            "|    learning_rate        | 0.0003       |\n",
            "|    loss                 | 1.11         |\n",
            "|    n_updates            | 440          |\n",
            "|    policy_gradient_loss | -0.0018      |\n",
            "|    value_loss           | 3.19         |\n",
            "------------------------------------------\n",
            "---------------------------------\n",
            "| rollout/           |          |\n",
            "|    ep_len_mean     | 304      |\n",
            "|    ep_rew_mean     | 274      |\n",
            "| time/              |          |\n",
            "|    fps             | 1389     |\n",
            "|    iterations      | 45       |\n",
            "|    time_elapsed    | 530      |\n",
            "|    total_timesteps | 737280   |\n",
            "---------------------------------\n"
          ]
        },
        {
          "output_type": "display_data",
          "data": {
            "text/plain": [
              "Eval num_timesteps=740000, episode_reward=275.62 +/- 19.25\n"
            ],
            "text/html": [
              "<pre style=\"white-space:pre;overflow-x:auto;line-height:normal;font-family:Menlo,'DejaVu Sans Mono',consolas,'Courier New',monospace\">Eval num_timesteps=740000, episode_reward=275.62 +/- 19.25\n",
              "</pre>\n"
            ]
          },
          "metadata": {}
        },
        {
          "output_type": "display_data",
          "data": {
            "text/plain": [
              "Episode length: 244.50 +/- 17.70\n"
            ],
            "text/html": [
              "<pre style=\"white-space:pre;overflow-x:auto;line-height:normal;font-family:Menlo,'DejaVu Sans Mono',consolas,'Courier New',monospace\">Episode length: 244.50 +/- 17.70\n",
              "</pre>\n"
            ]
          },
          "metadata": {}
        },
        {
          "output_type": "stream",
          "name": "stdout",
          "text": [
            "------------------------------------------\n",
            "| eval/                   |              |\n",
            "|    mean_ep_length       | 244          |\n",
            "|    mean_reward          | 276          |\n",
            "| time/                   |              |\n",
            "|    total_timesteps      | 740000       |\n",
            "| train/                  |              |\n",
            "|    approx_kl            | 0.0049466444 |\n",
            "|    clip_fraction        | 0.0373       |\n",
            "|    clip_range           | 0.2          |\n",
            "|    entropy_loss         | -0.632       |\n",
            "|    explained_variance   | 0.987        |\n",
            "|    learning_rate        | 0.0003       |\n",
            "|    loss                 | 1.83         |\n",
            "|    n_updates            | 450          |\n",
            "|    policy_gradient_loss | -0.00128     |\n",
            "|    value_loss           | 26.9         |\n",
            "------------------------------------------\n"
          ]
        },
        {
          "output_type": "display_data",
          "data": {
            "text/plain": [
              "Eval num_timesteps=750000, episode_reward=286.93 +/- 15.95\n"
            ],
            "text/html": [
              "<pre style=\"white-space:pre;overflow-x:auto;line-height:normal;font-family:Menlo,'DejaVu Sans Mono',consolas,'Courier New',monospace\">Eval num_timesteps=750000, episode_reward=286.93 +/- 15.95\n",
              "</pre>\n"
            ]
          },
          "metadata": {}
        },
        {
          "output_type": "display_data",
          "data": {
            "text/plain": [
              "Episode length: 241.60 +/- 12.14\n"
            ],
            "text/html": [
              "<pre style=\"white-space:pre;overflow-x:auto;line-height:normal;font-family:Menlo,'DejaVu Sans Mono',consolas,'Courier New',monospace\">Episode length: 241.60 +/- 12.14\n",
              "</pre>\n"
            ]
          },
          "metadata": {}
        },
        {
          "output_type": "stream",
          "name": "stdout",
          "text": [
            "---------------------------------\n",
            "| eval/              |          |\n",
            "|    mean_ep_length  | 242      |\n",
            "|    mean_reward     | 287      |\n",
            "| time/              |          |\n",
            "|    total_timesteps | 750000   |\n",
            "---------------------------------\n"
          ]
        },
        {
          "output_type": "display_data",
          "data": {
            "text/plain": [
              "New best mean reward!\n"
            ],
            "text/html": [
              "<pre style=\"white-space:pre;overflow-x:auto;line-height:normal;font-family:Menlo,'DejaVu Sans Mono',consolas,'Courier New',monospace\">New best mean reward!\n",
              "</pre>\n"
            ]
          },
          "metadata": {}
        },
        {
          "output_type": "stream",
          "name": "stdout",
          "text": [
            "---------------------------------\n",
            "| rollout/           |          |\n",
            "|    ep_len_mean     | 283      |\n",
            "|    ep_rew_mean     | 275      |\n",
            "| time/              |          |\n",
            "|    fps             | 1389     |\n",
            "|    iterations      | 46       |\n",
            "|    time_elapsed    | 542      |\n",
            "|    total_timesteps | 753664   |\n",
            "---------------------------------\n"
          ]
        },
        {
          "output_type": "display_data",
          "data": {
            "text/plain": [
              "Eval num_timesteps=760000, episode_reward=271.96 +/- 20.00\n"
            ],
            "text/html": [
              "<pre style=\"white-space:pre;overflow-x:auto;line-height:normal;font-family:Menlo,'DejaVu Sans Mono',consolas,'Courier New',monospace\">Eval num_timesteps=760000, episode_reward=271.96 +/- 20.00\n",
              "</pre>\n"
            ]
          },
          "metadata": {}
        },
        {
          "output_type": "display_data",
          "data": {
            "text/plain": [
              "Episode length: 241.80 +/- 12.81\n"
            ],
            "text/html": [
              "<pre style=\"white-space:pre;overflow-x:auto;line-height:normal;font-family:Menlo,'DejaVu Sans Mono',consolas,'Courier New',monospace\">Episode length: 241.80 +/- 12.81\n",
              "</pre>\n"
            ]
          },
          "metadata": {}
        },
        {
          "output_type": "stream",
          "name": "stdout",
          "text": [
            "------------------------------------------\n",
            "| eval/                   |              |\n",
            "|    mean_ep_length       | 242          |\n",
            "|    mean_reward          | 272          |\n",
            "| time/                   |              |\n",
            "|    total_timesteps      | 760000       |\n",
            "| train/                  |              |\n",
            "|    approx_kl            | 0.0036866236 |\n",
            "|    clip_fraction        | 0.0416       |\n",
            "|    clip_range           | 0.2          |\n",
            "|    entropy_loss         | -0.679       |\n",
            "|    explained_variance   | 0.997        |\n",
            "|    learning_rate        | 0.0003       |\n",
            "|    loss                 | 1.43         |\n",
            "|    n_updates            | 460          |\n",
            "|    policy_gradient_loss | -0.000687    |\n",
            "|    value_loss           | 3.48         |\n",
            "------------------------------------------\n"
          ]
        },
        {
          "output_type": "display_data",
          "data": {
            "text/plain": [
              "Eval num_timesteps=770000, episode_reward=269.05 +/- 27.35\n"
            ],
            "text/html": [
              "<pre style=\"white-space:pre;overflow-x:auto;line-height:normal;font-family:Menlo,'DejaVu Sans Mono',consolas,'Courier New',monospace\">Eval num_timesteps=770000, episode_reward=269.05 +/- 27.35\n",
              "</pre>\n"
            ]
          },
          "metadata": {}
        },
        {
          "output_type": "display_data",
          "data": {
            "text/plain": [
              "Episode length: 273.40 +/- 99.69\n"
            ],
            "text/html": [
              "<pre style=\"white-space:pre;overflow-x:auto;line-height:normal;font-family:Menlo,'DejaVu Sans Mono',consolas,'Courier New',monospace\">Episode length: 273.40 +/- 99.69\n",
              "</pre>\n"
            ]
          },
          "metadata": {}
        },
        {
          "output_type": "stream",
          "name": "stdout",
          "text": [
            "---------------------------------\n",
            "| eval/              |          |\n",
            "|    mean_ep_length  | 273      |\n",
            "|    mean_reward     | 269      |\n",
            "| time/              |          |\n",
            "|    total_timesteps | 770000   |\n",
            "---------------------------------\n",
            "---------------------------------\n",
            "| rollout/           |          |\n",
            "|    ep_len_mean     | 294      |\n",
            "|    ep_rew_mean     | 277      |\n",
            "| time/              |          |\n",
            "|    fps             | 1388     |\n",
            "|    iterations      | 47       |\n",
            "|    time_elapsed    | 554      |\n",
            "|    total_timesteps | 770048   |\n",
            "---------------------------------\n"
          ]
        },
        {
          "output_type": "display_data",
          "data": {
            "text/plain": [
              "Eval num_timesteps=780000, episode_reward=271.36 +/- 17.88\n"
            ],
            "text/html": [
              "<pre style=\"white-space:pre;overflow-x:auto;line-height:normal;font-family:Menlo,'DejaVu Sans Mono',consolas,'Courier New',monospace\">Eval num_timesteps=780000, episode_reward=271.36 +/- 17.88\n",
              "</pre>\n"
            ]
          },
          "metadata": {}
        },
        {
          "output_type": "display_data",
          "data": {
            "text/plain": [
              "Episode length: 235.50 +/- 10.69\n"
            ],
            "text/html": [
              "<pre style=\"white-space:pre;overflow-x:auto;line-height:normal;font-family:Menlo,'DejaVu Sans Mono',consolas,'Courier New',monospace\">Episode length: 235.50 +/- 10.69\n",
              "</pre>\n"
            ]
          },
          "metadata": {}
        },
        {
          "output_type": "stream",
          "name": "stdout",
          "text": [
            "------------------------------------------\n",
            "| eval/                   |              |\n",
            "|    mean_ep_length       | 236          |\n",
            "|    mean_reward          | 271          |\n",
            "| time/                   |              |\n",
            "|    total_timesteps      | 780000       |\n",
            "| train/                  |              |\n",
            "|    approx_kl            | 0.0048207026 |\n",
            "|    clip_fraction        | 0.0412       |\n",
            "|    clip_range           | 0.2          |\n",
            "|    entropy_loss         | -0.661       |\n",
            "|    explained_variance   | 0.998        |\n",
            "|    learning_rate        | 0.0003       |\n",
            "|    loss                 | 1.07         |\n",
            "|    n_updates            | 470          |\n",
            "|    policy_gradient_loss | -5.66e-05    |\n",
            "|    value_loss           | 2.57         |\n",
            "------------------------------------------\n",
            "---------------------------------\n",
            "| rollout/           |          |\n",
            "|    ep_len_mean     | 292      |\n",
            "|    ep_rew_mean     | 273      |\n",
            "| time/              |          |\n",
            "|    fps             | 1393     |\n",
            "|    iterations      | 48       |\n",
            "|    time_elapsed    | 564      |\n",
            "|    total_timesteps | 786432   |\n",
            "---------------------------------\n"
          ]
        },
        {
          "output_type": "display_data",
          "data": {
            "text/plain": [
              "Eval num_timesteps=790000, episode_reward=277.83 +/- 20.88\n"
            ],
            "text/html": [
              "<pre style=\"white-space:pre;overflow-x:auto;line-height:normal;font-family:Menlo,'DejaVu Sans Mono',consolas,'Courier New',monospace\">Eval num_timesteps=790000, episode_reward=277.83 +/- 20.88\n",
              "</pre>\n"
            ]
          },
          "metadata": {}
        },
        {
          "output_type": "display_data",
          "data": {
            "text/plain": [
              "Episode length: 236.80 +/- 10.51\n"
            ],
            "text/html": [
              "<pre style=\"white-space:pre;overflow-x:auto;line-height:normal;font-family:Menlo,'DejaVu Sans Mono',consolas,'Courier New',monospace\">Episode length: 236.80 +/- 10.51\n",
              "</pre>\n"
            ]
          },
          "metadata": {}
        },
        {
          "output_type": "stream",
          "name": "stdout",
          "text": [
            "------------------------------------------\n",
            "| eval/                   |              |\n",
            "|    mean_ep_length       | 237          |\n",
            "|    mean_reward          | 278          |\n",
            "| time/                   |              |\n",
            "|    total_timesteps      | 790000       |\n",
            "| train/                  |              |\n",
            "|    approx_kl            | 0.0040619876 |\n",
            "|    clip_fraction        | 0.0388       |\n",
            "|    clip_range           | 0.2          |\n",
            "|    entropy_loss         | -0.647       |\n",
            "|    explained_variance   | 0.989        |\n",
            "|    learning_rate        | 0.0003       |\n",
            "|    loss                 | 4.61         |\n",
            "|    n_updates            | 480          |\n",
            "|    policy_gradient_loss | -0.00101     |\n",
            "|    value_loss           | 26.7         |\n",
            "------------------------------------------\n"
          ]
        },
        {
          "output_type": "display_data",
          "data": {
            "text/plain": [
              "Eval num_timesteps=800000, episode_reward=277.47 +/- 13.90\n"
            ],
            "text/html": [
              "<pre style=\"white-space:pre;overflow-x:auto;line-height:normal;font-family:Menlo,'DejaVu Sans Mono',consolas,'Courier New',monospace\">Eval num_timesteps=800000, episode_reward=277.47 +/- 13.90\n",
              "</pre>\n"
            ]
          },
          "metadata": {}
        },
        {
          "output_type": "display_data",
          "data": {
            "text/plain": [
              "Episode length: 245.50 +/- 17.04\n"
            ],
            "text/html": [
              "<pre style=\"white-space:pre;overflow-x:auto;line-height:normal;font-family:Menlo,'DejaVu Sans Mono',consolas,'Courier New',monospace\">Episode length: 245.50 +/- 17.04\n",
              "</pre>\n"
            ]
          },
          "metadata": {}
        },
        {
          "output_type": "stream",
          "name": "stdout",
          "text": [
            "---------------------------------\n",
            "| eval/              |          |\n",
            "|    mean_ep_length  | 246      |\n",
            "|    mean_reward     | 277      |\n",
            "| time/              |          |\n",
            "|    total_timesteps | 800000   |\n",
            "---------------------------------\n",
            "---------------------------------\n",
            "| rollout/           |          |\n",
            "|    ep_len_mean     | 269      |\n",
            "|    ep_rew_mean     | 274      |\n",
            "| time/              |          |\n",
            "|    fps             | 1393     |\n",
            "|    iterations      | 49       |\n",
            "|    time_elapsed    | 576      |\n",
            "|    total_timesteps | 802816   |\n",
            "---------------------------------\n"
          ]
        },
        {
          "output_type": "display_data",
          "data": {
            "text/plain": [
              "Eval num_timesteps=810000, episode_reward=286.10 +/- 14.80\n"
            ],
            "text/html": [
              "<pre style=\"white-space:pre;overflow-x:auto;line-height:normal;font-family:Menlo,'DejaVu Sans Mono',consolas,'Courier New',monospace\">Eval num_timesteps=810000, episode_reward=286.10 +/- 14.80\n",
              "</pre>\n"
            ]
          },
          "metadata": {}
        },
        {
          "output_type": "display_data",
          "data": {
            "text/plain": [
              "Episode length: 256.40 +/- 16.88\n"
            ],
            "text/html": [
              "<pre style=\"white-space:pre;overflow-x:auto;line-height:normal;font-family:Menlo,'DejaVu Sans Mono',consolas,'Courier New',monospace\">Episode length: 256.40 +/- 16.88\n",
              "</pre>\n"
            ]
          },
          "metadata": {}
        },
        {
          "output_type": "stream",
          "name": "stdout",
          "text": [
            "-----------------------------------------\n",
            "| eval/                   |             |\n",
            "|    mean_ep_length       | 256         |\n",
            "|    mean_reward          | 286         |\n",
            "| time/                   |             |\n",
            "|    total_timesteps      | 810000      |\n",
            "| train/                  |             |\n",
            "|    approx_kl            | 0.004217238 |\n",
            "|    clip_fraction        | 0.0414      |\n",
            "|    clip_range           | 0.2         |\n",
            "|    entropy_loss         | -0.677      |\n",
            "|    explained_variance   | 0.99        |\n",
            "|    learning_rate        | 0.0003      |\n",
            "|    loss                 | 30.2        |\n",
            "|    n_updates            | 490         |\n",
            "|    policy_gradient_loss | -0.00102    |\n",
            "|    value_loss           | 24.5        |\n",
            "-----------------------------------------\n",
            "---------------------------------\n",
            "| rollout/           |          |\n",
            "|    ep_len_mean     | 263      |\n",
            "|    ep_rew_mean     | 269      |\n",
            "| time/              |          |\n",
            "|    fps             | 1399     |\n",
            "|    iterations      | 50       |\n",
            "|    time_elapsed    | 585      |\n",
            "|    total_timesteps | 819200   |\n",
            "---------------------------------\n"
          ]
        },
        {
          "output_type": "display_data",
          "data": {
            "text/plain": [
              "Eval num_timesteps=820000, episode_reward=269.29 +/- 12.63\n"
            ],
            "text/html": [
              "<pre style=\"white-space:pre;overflow-x:auto;line-height:normal;font-family:Menlo,'DejaVu Sans Mono',consolas,'Courier New',monospace\">Eval num_timesteps=820000, episode_reward=269.29 +/- 12.63\n",
              "</pre>\n"
            ]
          },
          "metadata": {}
        },
        {
          "output_type": "display_data",
          "data": {
            "text/plain": [
              "Episode length: 247.00 +/- 12.79\n"
            ],
            "text/html": [
              "<pre style=\"white-space:pre;overflow-x:auto;line-height:normal;font-family:Menlo,'DejaVu Sans Mono',consolas,'Courier New',monospace\">Episode length: 247.00 +/- 12.79\n",
              "</pre>\n"
            ]
          },
          "metadata": {}
        },
        {
          "output_type": "stream",
          "name": "stdout",
          "text": [
            "-----------------------------------------\n",
            "| eval/                   |             |\n",
            "|    mean_ep_length       | 247         |\n",
            "|    mean_reward          | 269         |\n",
            "| time/                   |             |\n",
            "|    total_timesteps      | 820000      |\n",
            "| train/                  |             |\n",
            "|    approx_kl            | 0.005810476 |\n",
            "|    clip_fraction        | 0.0593      |\n",
            "|    clip_range           | 0.2         |\n",
            "|    entropy_loss         | -0.644      |\n",
            "|    explained_variance   | 0.989       |\n",
            "|    learning_rate        | 0.0003      |\n",
            "|    loss                 | 28.6        |\n",
            "|    n_updates            | 500         |\n",
            "|    policy_gradient_loss | -0.00119    |\n",
            "|    value_loss           | 23.6        |\n",
            "-----------------------------------------\n"
          ]
        },
        {
          "output_type": "display_data",
          "data": {
            "text/plain": [
              "Eval num_timesteps=830000, episode_reward=273.80 +/- 20.43\n"
            ],
            "text/html": [
              "<pre style=\"white-space:pre;overflow-x:auto;line-height:normal;font-family:Menlo,'DejaVu Sans Mono',consolas,'Courier New',monospace\">Eval num_timesteps=830000, episode_reward=273.80 +/- 20.43\n",
              "</pre>\n"
            ]
          },
          "metadata": {}
        },
        {
          "output_type": "display_data",
          "data": {
            "text/plain": [
              "Episode length: 248.00 +/- 18.60\n"
            ],
            "text/html": [
              "<pre style=\"white-space:pre;overflow-x:auto;line-height:normal;font-family:Menlo,'DejaVu Sans Mono',consolas,'Courier New',monospace\">Episode length: 248.00 +/- 18.60\n",
              "</pre>\n"
            ]
          },
          "metadata": {}
        },
        {
          "output_type": "stream",
          "name": "stdout",
          "text": [
            "---------------------------------\n",
            "| eval/              |          |\n",
            "|    mean_ep_length  | 248      |\n",
            "|    mean_reward     | 274      |\n",
            "| time/              |          |\n",
            "|    total_timesteps | 830000   |\n",
            "---------------------------------\n",
            "---------------------------------\n",
            "| rollout/           |          |\n",
            "|    ep_len_mean     | 246      |\n",
            "|    ep_rew_mean     | 270      |\n",
            "| time/              |          |\n",
            "|    fps             | 1399     |\n",
            "|    iterations      | 51       |\n",
            "|    time_elapsed    | 597      |\n",
            "|    total_timesteps | 835584   |\n",
            "---------------------------------\n"
          ]
        },
        {
          "output_type": "display_data",
          "data": {
            "text/plain": [
              "Eval num_timesteps=840000, episode_reward=265.70 +/- 18.93\n"
            ],
            "text/html": [
              "<pre style=\"white-space:pre;overflow-x:auto;line-height:normal;font-family:Menlo,'DejaVu Sans Mono',consolas,'Courier New',monospace\">Eval num_timesteps=840000, episode_reward=265.70 +/- 18.93\n",
              "</pre>\n"
            ]
          },
          "metadata": {}
        },
        {
          "output_type": "display_data",
          "data": {
            "text/plain": [
              "Episode length: 252.90 +/- 18.17\n"
            ],
            "text/html": [
              "<pre style=\"white-space:pre;overflow-x:auto;line-height:normal;font-family:Menlo,'DejaVu Sans Mono',consolas,'Courier New',monospace\">Episode length: 252.90 +/- 18.17\n",
              "</pre>\n"
            ]
          },
          "metadata": {}
        },
        {
          "output_type": "stream",
          "name": "stdout",
          "text": [
            "------------------------------------------\n",
            "| eval/                   |              |\n",
            "|    mean_ep_length       | 253          |\n",
            "|    mean_reward          | 266          |\n",
            "| time/                   |              |\n",
            "|    total_timesteps      | 840000       |\n",
            "| train/                  |              |\n",
            "|    approx_kl            | 0.0049107857 |\n",
            "|    clip_fraction        | 0.0478       |\n",
            "|    clip_range           | 0.2          |\n",
            "|    entropy_loss         | -0.638       |\n",
            "|    explained_variance   | 0.977        |\n",
            "|    learning_rate        | 0.0003       |\n",
            "|    loss                 | 10           |\n",
            "|    n_updates            | 510          |\n",
            "|    policy_gradient_loss | -0.000733    |\n",
            "|    value_loss           | 52           |\n",
            "------------------------------------------\n"
          ]
        },
        {
          "output_type": "display_data",
          "data": {
            "text/plain": [
              "Eval num_timesteps=850000, episode_reward=271.00 +/- 21.27\n"
            ],
            "text/html": [
              "<pre style=\"white-space:pre;overflow-x:auto;line-height:normal;font-family:Menlo,'DejaVu Sans Mono',consolas,'Courier New',monospace\">Eval num_timesteps=850000, episode_reward=271.00 +/- 21.27\n",
              "</pre>\n"
            ]
          },
          "metadata": {}
        },
        {
          "output_type": "display_data",
          "data": {
            "text/plain": [
              "Episode length: 249.80 +/- 15.06\n"
            ],
            "text/html": [
              "<pre style=\"white-space:pre;overflow-x:auto;line-height:normal;font-family:Menlo,'DejaVu Sans Mono',consolas,'Courier New',monospace\">Episode length: 249.80 +/- 15.06\n",
              "</pre>\n"
            ]
          },
          "metadata": {}
        },
        {
          "output_type": "stream",
          "name": "stdout",
          "text": [
            "---------------------------------\n",
            "| eval/              |          |\n",
            "|    mean_ep_length  | 250      |\n",
            "|    mean_reward     | 271      |\n",
            "| time/              |          |\n",
            "|    total_timesteps | 850000   |\n",
            "---------------------------------\n",
            "---------------------------------\n",
            "| rollout/           |          |\n",
            "|    ep_len_mean     | 246      |\n",
            "|    ep_rew_mean     | 275      |\n",
            "| time/              |          |\n",
            "|    fps             | 1398     |\n",
            "|    iterations      | 52       |\n",
            "|    time_elapsed    | 609      |\n",
            "|    total_timesteps | 851968   |\n",
            "---------------------------------\n"
          ]
        },
        {
          "output_type": "display_data",
          "data": {
            "text/plain": [
              "Eval num_timesteps=860000, episode_reward=261.17 +/- 37.26\n"
            ],
            "text/html": [
              "<pre style=\"white-space:pre;overflow-x:auto;line-height:normal;font-family:Menlo,'DejaVu Sans Mono',consolas,'Courier New',monospace\">Eval num_timesteps=860000, episode_reward=261.17 +/- 37.26\n",
              "</pre>\n"
            ]
          },
          "metadata": {}
        },
        {
          "output_type": "display_data",
          "data": {
            "text/plain": [
              "Episode length: 335.70 +/- 222.44\n"
            ],
            "text/html": [
              "<pre style=\"white-space:pre;overflow-x:auto;line-height:normal;font-family:Menlo,'DejaVu Sans Mono',consolas,'Courier New',monospace\">Episode length: 335.70 +/- 222.44\n",
              "</pre>\n"
            ]
          },
          "metadata": {}
        },
        {
          "output_type": "stream",
          "name": "stdout",
          "text": [
            "-----------------------------------------\n",
            "| eval/                   |             |\n",
            "|    mean_ep_length       | 336         |\n",
            "|    mean_reward          | 261         |\n",
            "| time/                   |             |\n",
            "|    total_timesteps      | 860000      |\n",
            "| train/                  |             |\n",
            "|    approx_kl            | 0.004800205 |\n",
            "|    clip_fraction        | 0.043       |\n",
            "|    clip_range           | 0.2         |\n",
            "|    entropy_loss         | -0.65       |\n",
            "|    explained_variance   | 0.983       |\n",
            "|    learning_rate        | 0.0003      |\n",
            "|    loss                 | 7.04        |\n",
            "|    n_updates            | 520         |\n",
            "|    policy_gradient_loss | -0.000508   |\n",
            "|    value_loss           | 23          |\n",
            "-----------------------------------------\n",
            "---------------------------------\n",
            "| rollout/           |          |\n",
            "|    ep_len_mean     | 247      |\n",
            "|    ep_rew_mean     | 271      |\n",
            "| time/              |          |\n",
            "|    fps             | 1401     |\n",
            "|    iterations      | 53       |\n",
            "|    time_elapsed    | 619      |\n",
            "|    total_timesteps | 868352   |\n",
            "---------------------------------\n"
          ]
        },
        {
          "output_type": "display_data",
          "data": {
            "text/plain": [
              "Eval num_timesteps=870000, episode_reward=267.60 +/- 19.98\n"
            ],
            "text/html": [
              "<pre style=\"white-space:pre;overflow-x:auto;line-height:normal;font-family:Menlo,'DejaVu Sans Mono',consolas,'Courier New',monospace\">Eval num_timesteps=870000, episode_reward=267.60 +/- 19.98\n",
              "</pre>\n"
            ]
          },
          "metadata": {}
        },
        {
          "output_type": "display_data",
          "data": {
            "text/plain": [
              "Episode length: 256.90 +/- 13.64\n"
            ],
            "text/html": [
              "<pre style=\"white-space:pre;overflow-x:auto;line-height:normal;font-family:Menlo,'DejaVu Sans Mono',consolas,'Courier New',monospace\">Episode length: 256.90 +/- 13.64\n",
              "</pre>\n"
            ]
          },
          "metadata": {}
        },
        {
          "output_type": "stream",
          "name": "stdout",
          "text": [
            "-----------------------------------------\n",
            "| eval/                   |             |\n",
            "|    mean_ep_length       | 257         |\n",
            "|    mean_reward          | 268         |\n",
            "| time/                   |             |\n",
            "|    total_timesteps      | 870000      |\n",
            "| train/                  |             |\n",
            "|    approx_kl            | 0.003337589 |\n",
            "|    clip_fraction        | 0.04        |\n",
            "|    clip_range           | 0.2         |\n",
            "|    entropy_loss         | -0.635      |\n",
            "|    explained_variance   | 0.982       |\n",
            "|    learning_rate        | 0.0003      |\n",
            "|    loss                 | 1.66        |\n",
            "|    n_updates            | 530         |\n",
            "|    policy_gradient_loss | -0.00196    |\n",
            "|    value_loss           | 43.4        |\n",
            "-----------------------------------------\n"
          ]
        },
        {
          "output_type": "display_data",
          "data": {
            "text/plain": [
              "Eval num_timesteps=880000, episode_reward=281.44 +/- 17.62\n"
            ],
            "text/html": [
              "<pre style=\"white-space:pre;overflow-x:auto;line-height:normal;font-family:Menlo,'DejaVu Sans Mono',consolas,'Courier New',monospace\">Eval num_timesteps=880000, episode_reward=281.44 +/- 17.62\n",
              "</pre>\n"
            ]
          },
          "metadata": {}
        },
        {
          "output_type": "display_data",
          "data": {
            "text/plain": [
              "Episode length: 251.90 +/- 16.23\n"
            ],
            "text/html": [
              "<pre style=\"white-space:pre;overflow-x:auto;line-height:normal;font-family:Menlo,'DejaVu Sans Mono',consolas,'Courier New',monospace\">Episode length: 251.90 +/- 16.23\n",
              "</pre>\n"
            ]
          },
          "metadata": {}
        },
        {
          "output_type": "stream",
          "name": "stdout",
          "text": [
            "---------------------------------\n",
            "| eval/              |          |\n",
            "|    mean_ep_length  | 252      |\n",
            "|    mean_reward     | 281      |\n",
            "| time/              |          |\n",
            "|    total_timesteps | 880000   |\n",
            "---------------------------------\n",
            "---------------------------------\n",
            "| rollout/           |          |\n",
            "|    ep_len_mean     | 266      |\n",
            "|    ep_rew_mean     | 271      |\n",
            "| time/              |          |\n",
            "|    fps             | 1400     |\n",
            "|    iterations      | 54       |\n",
            "|    time_elapsed    | 631      |\n",
            "|    total_timesteps | 884736   |\n",
            "---------------------------------\n"
          ]
        },
        {
          "output_type": "display_data",
          "data": {
            "text/plain": [
              "Eval num_timesteps=890000, episode_reward=272.86 +/- 23.55\n"
            ],
            "text/html": [
              "<pre style=\"white-space:pre;overflow-x:auto;line-height:normal;font-family:Menlo,'DejaVu Sans Mono',consolas,'Courier New',monospace\">Eval num_timesteps=890000, episode_reward=272.86 +/- 23.55\n",
              "</pre>\n"
            ]
          },
          "metadata": {}
        },
        {
          "output_type": "display_data",
          "data": {
            "text/plain": [
              "Episode length: 245.00 +/- 11.69\n"
            ],
            "text/html": [
              "<pre style=\"white-space:pre;overflow-x:auto;line-height:normal;font-family:Menlo,'DejaVu Sans Mono',consolas,'Courier New',monospace\">Episode length: 245.00 +/- 11.69\n",
              "</pre>\n"
            ]
          },
          "metadata": {}
        },
        {
          "output_type": "stream",
          "name": "stdout",
          "text": [
            "-----------------------------------------\n",
            "| eval/                   |             |\n",
            "|    mean_ep_length       | 245         |\n",
            "|    mean_reward          | 273         |\n",
            "| time/                   |             |\n",
            "|    total_timesteps      | 890000      |\n",
            "| train/                  |             |\n",
            "|    approx_kl            | 0.005043204 |\n",
            "|    clip_fraction        | 0.0558      |\n",
            "|    clip_range           | 0.2         |\n",
            "|    entropy_loss         | -0.64       |\n",
            "|    explained_variance   | 0.997       |\n",
            "|    learning_rate        | 0.0003      |\n",
            "|    loss                 | 1.18        |\n",
            "|    n_updates            | 540         |\n",
            "|    policy_gradient_loss | 0.000207    |\n",
            "|    value_loss           | 2.97        |\n",
            "-----------------------------------------\n"
          ]
        },
        {
          "output_type": "display_data",
          "data": {
            "text/plain": [
              "Eval num_timesteps=900000, episode_reward=284.22 +/- 15.37\n"
            ],
            "text/html": [
              "<pre style=\"white-space:pre;overflow-x:auto;line-height:normal;font-family:Menlo,'DejaVu Sans Mono',consolas,'Courier New',monospace\">Eval num_timesteps=900000, episode_reward=284.22 +/- 15.37\n",
              "</pre>\n"
            ]
          },
          "metadata": {}
        },
        {
          "output_type": "display_data",
          "data": {
            "text/plain": [
              "Episode length: 246.80 +/- 10.68\n"
            ],
            "text/html": [
              "<pre style=\"white-space:pre;overflow-x:auto;line-height:normal;font-family:Menlo,'DejaVu Sans Mono',consolas,'Courier New',monospace\">Episode length: 246.80 +/- 10.68\n",
              "</pre>\n"
            ]
          },
          "metadata": {}
        },
        {
          "output_type": "stream",
          "name": "stdout",
          "text": [
            "---------------------------------\n",
            "| eval/              |          |\n",
            "|    mean_ep_length  | 247      |\n",
            "|    mean_reward     | 284      |\n",
            "| time/              |          |\n",
            "|    total_timesteps | 900000   |\n",
            "---------------------------------\n",
            "---------------------------------\n",
            "| rollout/           |          |\n",
            "|    ep_len_mean     | 249      |\n",
            "|    ep_rew_mean     | 278      |\n",
            "| time/              |          |\n",
            "|    fps             | 1400     |\n",
            "|    iterations      | 55       |\n",
            "|    time_elapsed    | 643      |\n",
            "|    total_timesteps | 901120   |\n",
            "---------------------------------\n"
          ]
        },
        {
          "output_type": "display_data",
          "data": {
            "text/plain": [
              "Eval num_timesteps=910000, episode_reward=272.03 +/- 18.03\n"
            ],
            "text/html": [
              "<pre style=\"white-space:pre;overflow-x:auto;line-height:normal;font-family:Menlo,'DejaVu Sans Mono',consolas,'Courier New',monospace\">Eval num_timesteps=910000, episode_reward=272.03 +/- 18.03\n",
              "</pre>\n"
            ]
          },
          "metadata": {}
        },
        {
          "output_type": "display_data",
          "data": {
            "text/plain": [
              "Episode length: 245.80 +/- 8.52\n"
            ],
            "text/html": [
              "<pre style=\"white-space:pre;overflow-x:auto;line-height:normal;font-family:Menlo,'DejaVu Sans Mono',consolas,'Courier New',monospace\">Episode length: 245.80 +/- 8.52\n",
              "</pre>\n"
            ]
          },
          "metadata": {}
        },
        {
          "output_type": "stream",
          "name": "stdout",
          "text": [
            "------------------------------------------\n",
            "| eval/                   |              |\n",
            "|    mean_ep_length       | 246          |\n",
            "|    mean_reward          | 272          |\n",
            "| time/                   |              |\n",
            "|    total_timesteps      | 910000       |\n",
            "| train/                  |              |\n",
            "|    approx_kl            | 0.0043503307 |\n",
            "|    clip_fraction        | 0.0483       |\n",
            "|    clip_range           | 0.2          |\n",
            "|    entropy_loss         | -0.644       |\n",
            "|    explained_variance   | 0.997        |\n",
            "|    learning_rate        | 0.0003       |\n",
            "|    loss                 | 0.754        |\n",
            "|    n_updates            | 550          |\n",
            "|    policy_gradient_loss | -3.09e-05    |\n",
            "|    value_loss           | 2.6          |\n",
            "------------------------------------------\n",
            "---------------------------------\n",
            "| rollout/           |          |\n",
            "|    ep_len_mean     | 243      |\n",
            "|    ep_rew_mean     | 279      |\n",
            "| time/              |          |\n",
            "|    fps             | 1404     |\n",
            "|    iterations      | 56       |\n",
            "|    time_elapsed    | 653      |\n",
            "|    total_timesteps | 917504   |\n",
            "---------------------------------\n"
          ]
        },
        {
          "output_type": "display_data",
          "data": {
            "text/plain": [
              "Eval num_timesteps=920000, episode_reward=279.51 +/- 16.60\n"
            ],
            "text/html": [
              "<pre style=\"white-space:pre;overflow-x:auto;line-height:normal;font-family:Menlo,'DejaVu Sans Mono',consolas,'Courier New',monospace\">Eval num_timesteps=920000, episode_reward=279.51 +/- 16.60\n",
              "</pre>\n"
            ]
          },
          "metadata": {}
        },
        {
          "output_type": "display_data",
          "data": {
            "text/plain": [
              "Episode length: 245.90 +/- 11.82\n"
            ],
            "text/html": [
              "<pre style=\"white-space:pre;overflow-x:auto;line-height:normal;font-family:Menlo,'DejaVu Sans Mono',consolas,'Courier New',monospace\">Episode length: 245.90 +/- 11.82\n",
              "</pre>\n"
            ]
          },
          "metadata": {}
        },
        {
          "output_type": "stream",
          "name": "stdout",
          "text": [
            "-----------------------------------------\n",
            "| eval/                   |             |\n",
            "|    mean_ep_length       | 246         |\n",
            "|    mean_reward          | 280         |\n",
            "| time/                   |             |\n",
            "|    total_timesteps      | 920000      |\n",
            "| train/                  |             |\n",
            "|    approx_kl            | 0.004892539 |\n",
            "|    clip_fraction        | 0.0648      |\n",
            "|    clip_range           | 0.2         |\n",
            "|    entropy_loss         | -0.659      |\n",
            "|    explained_variance   | 0.999       |\n",
            "|    learning_rate        | 0.0003      |\n",
            "|    loss                 | 0.572       |\n",
            "|    n_updates            | 560         |\n",
            "|    policy_gradient_loss | -0.00148    |\n",
            "|    value_loss           | 1.49        |\n",
            "-----------------------------------------\n"
          ]
        },
        {
          "output_type": "display_data",
          "data": {
            "text/plain": [
              "Eval num_timesteps=930000, episode_reward=279.39 +/- 23.02\n"
            ],
            "text/html": [
              "<pre style=\"white-space:pre;overflow-x:auto;line-height:normal;font-family:Menlo,'DejaVu Sans Mono',consolas,'Courier New',monospace\">Eval num_timesteps=930000, episode_reward=279.39 +/- 23.02\n",
              "</pre>\n"
            ]
          },
          "metadata": {}
        },
        {
          "output_type": "display_data",
          "data": {
            "text/plain": [
              "Episode length: 240.80 +/- 12.32\n"
            ],
            "text/html": [
              "<pre style=\"white-space:pre;overflow-x:auto;line-height:normal;font-family:Menlo,'DejaVu Sans Mono',consolas,'Courier New',monospace\">Episode length: 240.80 +/- 12.32\n",
              "</pre>\n"
            ]
          },
          "metadata": {}
        },
        {
          "output_type": "stream",
          "name": "stdout",
          "text": [
            "---------------------------------\n",
            "| eval/              |          |\n",
            "|    mean_ep_length  | 241      |\n",
            "|    mean_reward     | 279      |\n",
            "| time/              |          |\n",
            "|    total_timesteps | 930000   |\n",
            "---------------------------------\n",
            "---------------------------------\n",
            "| rollout/           |          |\n",
            "|    ep_len_mean     | 239      |\n",
            "|    ep_rew_mean     | 278      |\n",
            "| time/              |          |\n",
            "|    fps             | 1404     |\n",
            "|    iterations      | 57       |\n",
            "|    time_elapsed    | 665      |\n",
            "|    total_timesteps | 933888   |\n",
            "---------------------------------\n"
          ]
        },
        {
          "output_type": "display_data",
          "data": {
            "text/plain": [
              "Eval num_timesteps=940000, episode_reward=276.97 +/- 21.14\n"
            ],
            "text/html": [
              "<pre style=\"white-space:pre;overflow-x:auto;line-height:normal;font-family:Menlo,'DejaVu Sans Mono',consolas,'Courier New',monospace\">Eval num_timesteps=940000, episode_reward=276.97 +/- 21.14\n",
              "</pre>\n"
            ]
          },
          "metadata": {}
        },
        {
          "output_type": "display_data",
          "data": {
            "text/plain": [
              "Episode length: 243.60 +/- 14.03\n"
            ],
            "text/html": [
              "<pre style=\"white-space:pre;overflow-x:auto;line-height:normal;font-family:Menlo,'DejaVu Sans Mono',consolas,'Courier New',monospace\">Episode length: 243.60 +/- 14.03\n",
              "</pre>\n"
            ]
          },
          "metadata": {}
        },
        {
          "output_type": "stream",
          "name": "stdout",
          "text": [
            "-----------------------------------------\n",
            "| eval/                   |             |\n",
            "|    mean_ep_length       | 244         |\n",
            "|    mean_reward          | 277         |\n",
            "| time/                   |             |\n",
            "|    total_timesteps      | 940000      |\n",
            "| train/                  |             |\n",
            "|    approx_kl            | 0.004570551 |\n",
            "|    clip_fraction        | 0.0586      |\n",
            "|    clip_range           | 0.2         |\n",
            "|    entropy_loss         | -0.651      |\n",
            "|    explained_variance   | 0.999       |\n",
            "|    learning_rate        | 0.0003      |\n",
            "|    loss                 | 0.828       |\n",
            "|    n_updates            | 570         |\n",
            "|    policy_gradient_loss | -0.00101    |\n",
            "|    value_loss           | 1.56        |\n",
            "-----------------------------------------\n"
          ]
        },
        {
          "output_type": "display_data",
          "data": {
            "text/plain": [
              "Eval num_timesteps=950000, episode_reward=271.66 +/- 18.61\n"
            ],
            "text/html": [
              "<pre style=\"white-space:pre;overflow-x:auto;line-height:normal;font-family:Menlo,'DejaVu Sans Mono',consolas,'Courier New',monospace\">Eval num_timesteps=950000, episode_reward=271.66 +/- 18.61\n",
              "</pre>\n"
            ]
          },
          "metadata": {}
        },
        {
          "output_type": "display_data",
          "data": {
            "text/plain": [
              "Episode length: 236.00 +/- 9.74\n"
            ],
            "text/html": [
              "<pre style=\"white-space:pre;overflow-x:auto;line-height:normal;font-family:Menlo,'DejaVu Sans Mono',consolas,'Courier New',monospace\">Episode length: 236.00 +/- 9.74\n",
              "</pre>\n"
            ]
          },
          "metadata": {}
        },
        {
          "output_type": "stream",
          "name": "stdout",
          "text": [
            "---------------------------------\n",
            "| eval/              |          |\n",
            "|    mean_ep_length  | 236      |\n",
            "|    mean_reward     | 272      |\n",
            "| time/              |          |\n",
            "|    total_timesteps | 950000   |\n",
            "---------------------------------\n",
            "---------------------------------\n",
            "| rollout/           |          |\n",
            "|    ep_len_mean     | 245      |\n",
            "|    ep_rew_mean     | 275      |\n",
            "| time/              |          |\n",
            "|    fps             | 1403     |\n",
            "|    iterations      | 58       |\n",
            "|    time_elapsed    | 676      |\n",
            "|    total_timesteps | 950272   |\n",
            "---------------------------------\n"
          ]
        },
        {
          "output_type": "display_data",
          "data": {
            "text/plain": [
              "Eval num_timesteps=960000, episode_reward=272.88 +/- 21.77\n"
            ],
            "text/html": [
              "<pre style=\"white-space:pre;overflow-x:auto;line-height:normal;font-family:Menlo,'DejaVu Sans Mono',consolas,'Courier New',monospace\">Eval num_timesteps=960000, episode_reward=272.88 +/- 21.77\n",
              "</pre>\n"
            ]
          },
          "metadata": {}
        },
        {
          "output_type": "display_data",
          "data": {
            "text/plain": [
              "Episode length: 237.30 +/- 18.57\n"
            ],
            "text/html": [
              "<pre style=\"white-space:pre;overflow-x:auto;line-height:normal;font-family:Menlo,'DejaVu Sans Mono',consolas,'Courier New',monospace\">Episode length: 237.30 +/- 18.57\n",
              "</pre>\n"
            ]
          },
          "metadata": {}
        },
        {
          "output_type": "stream",
          "name": "stdout",
          "text": [
            "------------------------------------------\n",
            "| eval/                   |              |\n",
            "|    mean_ep_length       | 237          |\n",
            "|    mean_reward          | 273          |\n",
            "| time/                   |              |\n",
            "|    total_timesteps      | 960000       |\n",
            "| train/                  |              |\n",
            "|    approx_kl            | 0.0047119767 |\n",
            "|    clip_fraction        | 0.0403       |\n",
            "|    clip_range           | 0.2          |\n",
            "|    entropy_loss         | -0.639       |\n",
            "|    explained_variance   | 0.995        |\n",
            "|    learning_rate        | 0.0003       |\n",
            "|    loss                 | 5.93         |\n",
            "|    n_updates            | 580          |\n",
            "|    policy_gradient_loss | 0.00078      |\n",
            "|    value_loss           | 5.7          |\n",
            "------------------------------------------\n",
            "---------------------------------\n",
            "| rollout/           |          |\n",
            "|    ep_len_mean     | 242      |\n",
            "|    ep_rew_mean     | 274      |\n",
            "| time/              |          |\n",
            "|    fps             | 1408     |\n",
            "|    iterations      | 59       |\n",
            "|    time_elapsed    | 686      |\n",
            "|    total_timesteps | 966656   |\n",
            "---------------------------------\n"
          ]
        },
        {
          "output_type": "display_data",
          "data": {
            "text/plain": [
              "Eval num_timesteps=970000, episode_reward=270.60 +/- 21.89\n"
            ],
            "text/html": [
              "<pre style=\"white-space:pre;overflow-x:auto;line-height:normal;font-family:Menlo,'DejaVu Sans Mono',consolas,'Courier New',monospace\">Eval num_timesteps=970000, episode_reward=270.60 +/- 21.89\n",
              "</pre>\n"
            ]
          },
          "metadata": {}
        },
        {
          "output_type": "display_data",
          "data": {
            "text/plain": [
              "Episode length: 287.30 +/- 165.55\n"
            ],
            "text/html": [
              "<pre style=\"white-space:pre;overflow-x:auto;line-height:normal;font-family:Menlo,'DejaVu Sans Mono',consolas,'Courier New',monospace\">Episode length: 287.30 +/- 165.55\n",
              "</pre>\n"
            ]
          },
          "metadata": {}
        },
        {
          "output_type": "stream",
          "name": "stdout",
          "text": [
            "-----------------------------------------\n",
            "| eval/                   |             |\n",
            "|    mean_ep_length       | 287         |\n",
            "|    mean_reward          | 271         |\n",
            "| time/                   |             |\n",
            "|    total_timesteps      | 970000      |\n",
            "| train/                  |             |\n",
            "|    approx_kl            | 0.004306098 |\n",
            "|    clip_fraction        | 0.0455      |\n",
            "|    clip_range           | 0.2         |\n",
            "|    entropy_loss         | -0.643      |\n",
            "|    explained_variance   | 0.999       |\n",
            "|    learning_rate        | 0.0003      |\n",
            "|    loss                 | 0.432       |\n",
            "|    n_updates            | 590         |\n",
            "|    policy_gradient_loss | 0.000325    |\n",
            "|    value_loss           | 1.01        |\n",
            "-----------------------------------------\n"
          ]
        },
        {
          "output_type": "display_data",
          "data": {
            "text/plain": [
              "Eval num_timesteps=980000, episode_reward=273.89 +/- 10.69\n"
            ],
            "text/html": [
              "<pre style=\"white-space:pre;overflow-x:auto;line-height:normal;font-family:Menlo,'DejaVu Sans Mono',consolas,'Courier New',monospace\">Eval num_timesteps=980000, episode_reward=273.89 +/- 10.69\n",
              "</pre>\n"
            ]
          },
          "metadata": {}
        },
        {
          "output_type": "display_data",
          "data": {
            "text/plain": [
              "Episode length: 235.70 +/- 11.30\n"
            ],
            "text/html": [
              "<pre style=\"white-space:pre;overflow-x:auto;line-height:normal;font-family:Menlo,'DejaVu Sans Mono',consolas,'Courier New',monospace\">Episode length: 235.70 +/- 11.30\n",
              "</pre>\n"
            ]
          },
          "metadata": {}
        },
        {
          "output_type": "stream",
          "name": "stdout",
          "text": [
            "---------------------------------\n",
            "| eval/              |          |\n",
            "|    mean_ep_length  | 236      |\n",
            "|    mean_reward     | 274      |\n",
            "| time/              |          |\n",
            "|    total_timesteps | 980000   |\n",
            "---------------------------------\n",
            "---------------------------------\n",
            "| rollout/           |          |\n",
            "|    ep_len_mean     | 245      |\n",
            "|    ep_rew_mean     | 277      |\n",
            "| time/              |          |\n",
            "|    fps             | 1406     |\n",
            "|    iterations      | 60       |\n",
            "|    time_elapsed    | 698      |\n",
            "|    total_timesteps | 983040   |\n",
            "---------------------------------\n"
          ]
        },
        {
          "output_type": "display_data",
          "data": {
            "text/plain": [
              "Eval num_timesteps=990000, episode_reward=279.29 +/- 20.19\n"
            ],
            "text/html": [
              "<pre style=\"white-space:pre;overflow-x:auto;line-height:normal;font-family:Menlo,'DejaVu Sans Mono',consolas,'Courier New',monospace\">Eval num_timesteps=990000, episode_reward=279.29 +/- 20.19\n",
              "</pre>\n"
            ]
          },
          "metadata": {}
        },
        {
          "output_type": "display_data",
          "data": {
            "text/plain": [
              "Episode length: 223.50 +/- 12.90\n"
            ],
            "text/html": [
              "<pre style=\"white-space:pre;overflow-x:auto;line-height:normal;font-family:Menlo,'DejaVu Sans Mono',consolas,'Courier New',monospace\">Episode length: 223.50 +/- 12.90\n",
              "</pre>\n"
            ]
          },
          "metadata": {}
        },
        {
          "output_type": "stream",
          "name": "stdout",
          "text": [
            "-----------------------------------------\n",
            "| eval/                   |             |\n",
            "|    mean_ep_length       | 224         |\n",
            "|    mean_reward          | 279         |\n",
            "| time/                   |             |\n",
            "|    total_timesteps      | 990000      |\n",
            "| train/                  |             |\n",
            "|    approx_kl            | 0.004212347 |\n",
            "|    clip_fraction        | 0.0461      |\n",
            "|    clip_range           | 0.2         |\n",
            "|    entropy_loss         | -0.651      |\n",
            "|    explained_variance   | 0.997       |\n",
            "|    learning_rate        | 0.0003      |\n",
            "|    loss                 | 0.702       |\n",
            "|    n_updates            | 600         |\n",
            "|    policy_gradient_loss | -0.000798   |\n",
            "|    value_loss           | 2.77        |\n",
            "-----------------------------------------\n",
            "---------------------------------\n",
            "| rollout/           |          |\n",
            "|    ep_len_mean     | 284      |\n",
            "|    ep_rew_mean     | 276      |\n",
            "| time/              |          |\n",
            "|    fps             | 1410     |\n",
            "|    iterations      | 61       |\n",
            "|    time_elapsed    | 708      |\n",
            "|    total_timesteps | 999424   |\n",
            "---------------------------------\n"
          ]
        },
        {
          "output_type": "display_data",
          "data": {
            "text/plain": [
              "Eval num_timesteps=1000000, episode_reward=278.25 +/- 10.40\n"
            ],
            "text/html": [
              "<pre style=\"white-space:pre;overflow-x:auto;line-height:normal;font-family:Menlo,'DejaVu Sans Mono',consolas,'Courier New',monospace\">Eval num_timesteps=1000000, episode_reward=278.25 +/- 10.40\n",
              "</pre>\n"
            ]
          },
          "metadata": {}
        },
        {
          "output_type": "display_data",
          "data": {
            "text/plain": [
              "Episode length: 231.50 +/- 16.35\n"
            ],
            "text/html": [
              "<pre style=\"white-space:pre;overflow-x:auto;line-height:normal;font-family:Menlo,'DejaVu Sans Mono',consolas,'Courier New',monospace\">Episode length: 231.50 +/- 16.35\n",
              "</pre>\n"
            ]
          },
          "metadata": {}
        },
        {
          "output_type": "stream",
          "name": "stdout",
          "text": [
            "------------------------------------------\n",
            "| eval/                   |              |\n",
            "|    mean_ep_length       | 232          |\n",
            "|    mean_reward          | 278          |\n",
            "| time/                   |              |\n",
            "|    total_timesteps      | 1000000      |\n",
            "| train/                  |              |\n",
            "|    approx_kl            | 0.0065497234 |\n",
            "|    clip_fraction        | 0.0614       |\n",
            "|    clip_range           | 0.2          |\n",
            "|    entropy_loss         | -0.653       |\n",
            "|    explained_variance   | 0.999        |\n",
            "|    learning_rate        | 0.0003       |\n",
            "|    loss                 | 0.534        |\n",
            "|    n_updates            | 610          |\n",
            "|    policy_gradient_loss | -0.000417    |\n",
            "|    value_loss           | 1.04         |\n",
            "------------------------------------------\n"
          ]
        },
        {
          "output_type": "display_data",
          "data": {
            "text/plain": [
              "Eval num_timesteps=1010000, episode_reward=278.29 +/- 15.52\n"
            ],
            "text/html": [
              "<pre style=\"white-space:pre;overflow-x:auto;line-height:normal;font-family:Menlo,'DejaVu Sans Mono',consolas,'Courier New',monospace\">Eval num_timesteps=1010000, episode_reward=278.29 +/- 15.52\n",
              "</pre>\n"
            ]
          },
          "metadata": {}
        },
        {
          "output_type": "display_data",
          "data": {
            "text/plain": [
              "Episode length: 230.20 +/- 14.68\n"
            ],
            "text/html": [
              "<pre style=\"white-space:pre;overflow-x:auto;line-height:normal;font-family:Menlo,'DejaVu Sans Mono',consolas,'Courier New',monospace\">Episode length: 230.20 +/- 14.68\n",
              "</pre>\n"
            ]
          },
          "metadata": {}
        },
        {
          "output_type": "stream",
          "name": "stdout",
          "text": [
            "---------------------------------\n",
            "| eval/              |          |\n",
            "|    mean_ep_length  | 230      |\n",
            "|    mean_reward     | 278      |\n",
            "| time/              |          |\n",
            "|    total_timesteps | 1010000  |\n",
            "---------------------------------\n",
            "---------------------------------\n",
            "| rollout/           |          |\n",
            "|    ep_len_mean     | 246      |\n",
            "|    ep_rew_mean     | 274      |\n",
            "| time/              |          |\n",
            "|    fps             | 1411     |\n",
            "|    iterations      | 62       |\n",
            "|    time_elapsed    | 719      |\n",
            "|    total_timesteps | 1015808  |\n",
            "---------------------------------\n"
          ]
        },
        {
          "output_type": "display_data",
          "data": {
            "text/plain": [
              "Eval num_timesteps=1020000, episode_reward=272.82 +/- 24.00\n"
            ],
            "text/html": [
              "<pre style=\"white-space:pre;overflow-x:auto;line-height:normal;font-family:Menlo,'DejaVu Sans Mono',consolas,'Courier New',monospace\">Eval num_timesteps=1020000, episode_reward=272.82 +/- 24.00\n",
              "</pre>\n"
            ]
          },
          "metadata": {}
        },
        {
          "output_type": "display_data",
          "data": {
            "text/plain": [
              "Episode length: 234.30 +/- 16.73\n"
            ],
            "text/html": [
              "<pre style=\"white-space:pre;overflow-x:auto;line-height:normal;font-family:Menlo,'DejaVu Sans Mono',consolas,'Courier New',monospace\">Episode length: 234.30 +/- 16.73\n",
              "</pre>\n"
            ]
          },
          "metadata": {}
        },
        {
          "output_type": "stream",
          "name": "stdout",
          "text": [
            "-----------------------------------------\n",
            "| eval/                   |             |\n",
            "|    mean_ep_length       | 234         |\n",
            "|    mean_reward          | 273         |\n",
            "| time/                   |             |\n",
            "|    total_timesteps      | 1020000     |\n",
            "| train/                  |             |\n",
            "|    approx_kl            | 0.004892191 |\n",
            "|    clip_fraction        | 0.0454      |\n",
            "|    clip_range           | 0.2         |\n",
            "|    entropy_loss         | -0.631      |\n",
            "|    explained_variance   | 0.99        |\n",
            "|    learning_rate        | 0.0003      |\n",
            "|    loss                 | 1.31        |\n",
            "|    n_updates            | 620         |\n",
            "|    policy_gradient_loss | -0.00097    |\n",
            "|    value_loss           | 26.6        |\n",
            "-----------------------------------------\n"
          ]
        },
        {
          "output_type": "display_data",
          "data": {
            "text/plain": [
              "Eval num_timesteps=1030000, episode_reward=279.94 +/- 20.70\n"
            ],
            "text/html": [
              "<pre style=\"white-space:pre;overflow-x:auto;line-height:normal;font-family:Menlo,'DejaVu Sans Mono',consolas,'Courier New',monospace\">Eval num_timesteps=1030000, episode_reward=279.94 +/- 20.70\n",
              "</pre>\n"
            ]
          },
          "metadata": {}
        },
        {
          "output_type": "display_data",
          "data": {
            "text/plain": [
              "Episode length: 232.90 +/- 16.72\n"
            ],
            "text/html": [
              "<pre style=\"white-space:pre;overflow-x:auto;line-height:normal;font-family:Menlo,'DejaVu Sans Mono',consolas,'Courier New',monospace\">Episode length: 232.90 +/- 16.72\n",
              "</pre>\n"
            ]
          },
          "metadata": {}
        },
        {
          "output_type": "stream",
          "name": "stdout",
          "text": [
            "---------------------------------\n",
            "| eval/              |          |\n",
            "|    mean_ep_length  | 233      |\n",
            "|    mean_reward     | 280      |\n",
            "| time/              |          |\n",
            "|    total_timesteps | 1030000  |\n",
            "---------------------------------\n",
            "---------------------------------\n",
            "| rollout/           |          |\n",
            "|    ep_len_mean     | 237      |\n",
            "|    ep_rew_mean     | 273      |\n",
            "| time/              |          |\n",
            "|    fps             | 1411     |\n",
            "|    iterations      | 63       |\n",
            "|    time_elapsed    | 731      |\n",
            "|    total_timesteps | 1032192  |\n",
            "---------------------------------\n"
          ]
        },
        {
          "output_type": "display_data",
          "data": {
            "text/plain": [
              "Eval num_timesteps=1040000, episode_reward=264.80 +/- 16.79\n"
            ],
            "text/html": [
              "<pre style=\"white-space:pre;overflow-x:auto;line-height:normal;font-family:Menlo,'DejaVu Sans Mono',consolas,'Courier New',monospace\">Eval num_timesteps=1040000, episode_reward=264.80 +/- 16.79\n",
              "</pre>\n"
            ]
          },
          "metadata": {}
        },
        {
          "output_type": "display_data",
          "data": {
            "text/plain": [
              "Episode length: 225.50 +/- 5.46\n"
            ],
            "text/html": [
              "<pre style=\"white-space:pre;overflow-x:auto;line-height:normal;font-family:Menlo,'DejaVu Sans Mono',consolas,'Courier New',monospace\">Episode length: 225.50 +/- 5.46\n",
              "</pre>\n"
            ]
          },
          "metadata": {}
        },
        {
          "output_type": "stream",
          "name": "stdout",
          "text": [
            "-----------------------------------------\n",
            "| eval/                   |             |\n",
            "|    mean_ep_length       | 226         |\n",
            "|    mean_reward          | 265         |\n",
            "| time/                   |             |\n",
            "|    total_timesteps      | 1040000     |\n",
            "| train/                  |             |\n",
            "|    approx_kl            | 0.005650101 |\n",
            "|    clip_fraction        | 0.0544      |\n",
            "|    clip_range           | 0.2         |\n",
            "|    entropy_loss         | -0.644      |\n",
            "|    explained_variance   | 0.997       |\n",
            "|    learning_rate        | 0.0003      |\n",
            "|    loss                 | 0.312       |\n",
            "|    n_updates            | 630         |\n",
            "|    policy_gradient_loss | -0.000329   |\n",
            "|    value_loss           | 2.15        |\n",
            "-----------------------------------------\n",
            "---------------------------------\n",
            "| rollout/           |          |\n",
            "|    ep_len_mean     | 248      |\n",
            "|    ep_rew_mean     | 277      |\n",
            "| time/              |          |\n",
            "|    fps             | 1415     |\n",
            "|    iterations      | 64       |\n",
            "|    time_elapsed    | 740      |\n",
            "|    total_timesteps | 1048576  |\n",
            "---------------------------------\n"
          ]
        },
        {
          "output_type": "display_data",
          "data": {
            "text/plain": [
              "Eval num_timesteps=1050000, episode_reward=273.68 +/- 18.43\n"
            ],
            "text/html": [
              "<pre style=\"white-space:pre;overflow-x:auto;line-height:normal;font-family:Menlo,'DejaVu Sans Mono',consolas,'Courier New',monospace\">Eval num_timesteps=1050000, episode_reward=273.68 +/- 18.43\n",
              "</pre>\n"
            ]
          },
          "metadata": {}
        },
        {
          "output_type": "display_data",
          "data": {
            "text/plain": [
              "Episode length: 230.50 +/- 14.79\n"
            ],
            "text/html": [
              "<pre style=\"white-space:pre;overflow-x:auto;line-height:normal;font-family:Menlo,'DejaVu Sans Mono',consolas,'Courier New',monospace\">Episode length: 230.50 +/- 14.79\n",
              "</pre>\n"
            ]
          },
          "metadata": {}
        },
        {
          "output_type": "stream",
          "name": "stdout",
          "text": [
            "-----------------------------------------\n",
            "| eval/                   |             |\n",
            "|    mean_ep_length       | 230         |\n",
            "|    mean_reward          | 274         |\n",
            "| time/                   |             |\n",
            "|    total_timesteps      | 1050000     |\n",
            "| train/                  |             |\n",
            "|    approx_kl            | 0.006070179 |\n",
            "|    clip_fraction        | 0.0522      |\n",
            "|    clip_range           | 0.2         |\n",
            "|    entropy_loss         | -0.648      |\n",
            "|    explained_variance   | 0.999       |\n",
            "|    learning_rate        | 0.0003      |\n",
            "|    loss                 | 0.285       |\n",
            "|    n_updates            | 640         |\n",
            "|    policy_gradient_loss | 0.000523    |\n",
            "|    value_loss           | 1.07        |\n",
            "-----------------------------------------\n"
          ]
        },
        {
          "output_type": "display_data",
          "data": {
            "text/plain": [
              "Eval num_timesteps=1060000, episode_reward=288.61 +/- 14.89\n"
            ],
            "text/html": [
              "<pre style=\"white-space:pre;overflow-x:auto;line-height:normal;font-family:Menlo,'DejaVu Sans Mono',consolas,'Courier New',monospace\">Eval num_timesteps=1060000, episode_reward=288.61 +/- 14.89\n",
              "</pre>\n"
            ]
          },
          "metadata": {}
        },
        {
          "output_type": "display_data",
          "data": {
            "text/plain": [
              "Episode length: 224.40 +/- 13.02\n"
            ],
            "text/html": [
              "<pre style=\"white-space:pre;overflow-x:auto;line-height:normal;font-family:Menlo,'DejaVu Sans Mono',consolas,'Courier New',monospace\">Episode length: 224.40 +/- 13.02\n",
              "</pre>\n"
            ]
          },
          "metadata": {}
        },
        {
          "output_type": "stream",
          "name": "stdout",
          "text": [
            "---------------------------------\n",
            "| eval/              |          |\n",
            "|    mean_ep_length  | 224      |\n",
            "|    mean_reward     | 289      |\n",
            "| time/              |          |\n",
            "|    total_timesteps | 1060000  |\n",
            "---------------------------------\n"
          ]
        },
        {
          "output_type": "display_data",
          "data": {
            "text/plain": [
              "New best mean reward!\n"
            ],
            "text/html": [
              "<pre style=\"white-space:pre;overflow-x:auto;line-height:normal;font-family:Menlo,'DejaVu Sans Mono',consolas,'Courier New',monospace\">New best mean reward!\n",
              "</pre>\n"
            ]
          },
          "metadata": {}
        },
        {
          "output_type": "stream",
          "name": "stdout",
          "text": [
            "---------------------------------\n",
            "| rollout/           |          |\n",
            "|    ep_len_mean     | 257      |\n",
            "|    ep_rew_mean     | 280      |\n",
            "| time/              |          |\n",
            "|    fps             | 1415     |\n",
            "|    iterations      | 65       |\n",
            "|    time_elapsed    | 752      |\n",
            "|    total_timesteps | 1064960  |\n",
            "---------------------------------\n"
          ]
        },
        {
          "output_type": "display_data",
          "data": {
            "text/plain": [
              "Eval num_timesteps=1070000, episode_reward=287.40 +/- 19.28\n"
            ],
            "text/html": [
              "<pre style=\"white-space:pre;overflow-x:auto;line-height:normal;font-family:Menlo,'DejaVu Sans Mono',consolas,'Courier New',monospace\">Eval num_timesteps=1070000, episode_reward=287.40 +/- 19.28\n",
              "</pre>\n"
            ]
          },
          "metadata": {}
        },
        {
          "output_type": "display_data",
          "data": {
            "text/plain": [
              "Episode length: 231.40 +/- 13.48\n"
            ],
            "text/html": [
              "<pre style=\"white-space:pre;overflow-x:auto;line-height:normal;font-family:Menlo,'DejaVu Sans Mono',consolas,'Courier New',monospace\">Episode length: 231.40 +/- 13.48\n",
              "</pre>\n"
            ]
          },
          "metadata": {}
        },
        {
          "output_type": "stream",
          "name": "stdout",
          "text": [
            "------------------------------------------\n",
            "| eval/                   |              |\n",
            "|    mean_ep_length       | 231          |\n",
            "|    mean_reward          | 287          |\n",
            "| time/                   |              |\n",
            "|    total_timesteps      | 1070000      |\n",
            "| train/                  |              |\n",
            "|    approx_kl            | 0.0039535314 |\n",
            "|    clip_fraction        | 0.0613       |\n",
            "|    clip_range           | 0.2          |\n",
            "|    entropy_loss         | -0.607       |\n",
            "|    explained_variance   | 0.999        |\n",
            "|    learning_rate        | 0.0003       |\n",
            "|    loss                 | 0.602        |\n",
            "|    n_updates            | 650          |\n",
            "|    policy_gradient_loss | -0.00152     |\n",
            "|    value_loss           | 0.988        |\n",
            "------------------------------------------\n"
          ]
        },
        {
          "output_type": "display_data",
          "data": {
            "text/plain": [
              "Eval num_timesteps=1080000, episode_reward=270.34 +/- 19.76\n"
            ],
            "text/html": [
              "<pre style=\"white-space:pre;overflow-x:auto;line-height:normal;font-family:Menlo,'DejaVu Sans Mono',consolas,'Courier New',monospace\">Eval num_timesteps=1080000, episode_reward=270.34 +/- 19.76\n",
              "</pre>\n"
            ]
          },
          "metadata": {}
        },
        {
          "output_type": "display_data",
          "data": {
            "text/plain": [
              "Episode length: 227.20 +/- 14.99\n"
            ],
            "text/html": [
              "<pre style=\"white-space:pre;overflow-x:auto;line-height:normal;font-family:Menlo,'DejaVu Sans Mono',consolas,'Courier New',monospace\">Episode length: 227.20 +/- 14.99\n",
              "</pre>\n"
            ]
          },
          "metadata": {}
        },
        {
          "output_type": "stream",
          "name": "stdout",
          "text": [
            "---------------------------------\n",
            "| eval/              |          |\n",
            "|    mean_ep_length  | 227      |\n",
            "|    mean_reward     | 270      |\n",
            "| time/              |          |\n",
            "|    total_timesteps | 1080000  |\n",
            "---------------------------------\n",
            "---------------------------------\n",
            "| rollout/           |          |\n",
            "|    ep_len_mean     | 235      |\n",
            "|    ep_rew_mean     | 279      |\n",
            "| time/              |          |\n",
            "|    fps             | 1415     |\n",
            "|    iterations      | 66       |\n",
            "|    time_elapsed    | 763      |\n",
            "|    total_timesteps | 1081344  |\n",
            "---------------------------------\n"
          ]
        },
        {
          "output_type": "display_data",
          "data": {
            "text/plain": [
              "Eval num_timesteps=1090000, episode_reward=277.12 +/- 21.62\n"
            ],
            "text/html": [
              "<pre style=\"white-space:pre;overflow-x:auto;line-height:normal;font-family:Menlo,'DejaVu Sans Mono',consolas,'Courier New',monospace\">Eval num_timesteps=1090000, episode_reward=277.12 +/- 21.62\n",
              "</pre>\n"
            ]
          },
          "metadata": {}
        },
        {
          "output_type": "display_data",
          "data": {
            "text/plain": [
              "Episode length: 216.90 +/- 5.22\n"
            ],
            "text/html": [
              "<pre style=\"white-space:pre;overflow-x:auto;line-height:normal;font-family:Menlo,'DejaVu Sans Mono',consolas,'Courier New',monospace\">Episode length: 216.90 +/- 5.22\n",
              "</pre>\n"
            ]
          },
          "metadata": {}
        },
        {
          "output_type": "stream",
          "name": "stdout",
          "text": [
            "-----------------------------------------\n",
            "| eval/                   |             |\n",
            "|    mean_ep_length       | 217         |\n",
            "|    mean_reward          | 277         |\n",
            "| time/                   |             |\n",
            "|    total_timesteps      | 1090000     |\n",
            "| train/                  |             |\n",
            "|    approx_kl            | 0.004733587 |\n",
            "|    clip_fraction        | 0.0557      |\n",
            "|    clip_range           | 0.2         |\n",
            "|    entropy_loss         | -0.591      |\n",
            "|    explained_variance   | 0.999       |\n",
            "|    learning_rate        | 0.0003      |\n",
            "|    loss                 | 0.361       |\n",
            "|    n_updates            | 660         |\n",
            "|    policy_gradient_loss | 0.000212    |\n",
            "|    value_loss           | 0.829       |\n",
            "-----------------------------------------\n",
            "---------------------------------\n",
            "| rollout/           |          |\n",
            "|    ep_len_mean     | 234      |\n",
            "|    ep_rew_mean     | 279      |\n",
            "| time/              |          |\n",
            "|    fps             | 1419     |\n",
            "|    iterations      | 67       |\n",
            "|    time_elapsed    | 773      |\n",
            "|    total_timesteps | 1097728  |\n",
            "---------------------------------\n"
          ]
        },
        {
          "output_type": "display_data",
          "data": {
            "text/plain": [
              "Eval num_timesteps=1100000, episode_reward=279.97 +/- 21.24\n"
            ],
            "text/html": [
              "<pre style=\"white-space:pre;overflow-x:auto;line-height:normal;font-family:Menlo,'DejaVu Sans Mono',consolas,'Courier New',monospace\">Eval num_timesteps=1100000, episode_reward=279.97 +/- 21.24\n",
              "</pre>\n"
            ]
          },
          "metadata": {}
        },
        {
          "output_type": "display_data",
          "data": {
            "text/plain": [
              "Episode length: 296.10 +/- 224.76\n"
            ],
            "text/html": [
              "<pre style=\"white-space:pre;overflow-x:auto;line-height:normal;font-family:Menlo,'DejaVu Sans Mono',consolas,'Courier New',monospace\">Episode length: 296.10 +/- 224.76\n",
              "</pre>\n"
            ]
          },
          "metadata": {}
        },
        {
          "output_type": "stream",
          "name": "stdout",
          "text": [
            "-----------------------------------------\n",
            "| eval/                   |             |\n",
            "|    mean_ep_length       | 296         |\n",
            "|    mean_reward          | 280         |\n",
            "| time/                   |             |\n",
            "|    total_timesteps      | 1100000     |\n",
            "| train/                  |             |\n",
            "|    approx_kl            | 0.005522796 |\n",
            "|    clip_fraction        | 0.0546      |\n",
            "|    clip_range           | 0.2         |\n",
            "|    entropy_loss         | -0.604      |\n",
            "|    explained_variance   | 0.997       |\n",
            "|    learning_rate        | 0.0003      |\n",
            "|    loss                 | 0.818       |\n",
            "|    n_updates            | 670         |\n",
            "|    policy_gradient_loss | -0.0016     |\n",
            "|    value_loss           | 4.98        |\n",
            "-----------------------------------------\n"
          ]
        },
        {
          "output_type": "display_data",
          "data": {
            "text/plain": [
              "Eval num_timesteps=1110000, episode_reward=283.94 +/- 19.08\n"
            ],
            "text/html": [
              "<pre style=\"white-space:pre;overflow-x:auto;line-height:normal;font-family:Menlo,'DejaVu Sans Mono',consolas,'Courier New',monospace\">Eval num_timesteps=1110000, episode_reward=283.94 +/- 19.08\n",
              "</pre>\n"
            ]
          },
          "metadata": {}
        },
        {
          "output_type": "display_data",
          "data": {
            "text/plain": [
              "Episode length: 221.20 +/- 14.68\n"
            ],
            "text/html": [
              "<pre style=\"white-space:pre;overflow-x:auto;line-height:normal;font-family:Menlo,'DejaVu Sans Mono',consolas,'Courier New',monospace\">Episode length: 221.20 +/- 14.68\n",
              "</pre>\n"
            ]
          },
          "metadata": {}
        },
        {
          "output_type": "stream",
          "name": "stdout",
          "text": [
            "---------------------------------\n",
            "| eval/              |          |\n",
            "|    mean_ep_length  | 221      |\n",
            "|    mean_reward     | 284      |\n",
            "| time/              |          |\n",
            "|    total_timesteps | 1110000  |\n",
            "---------------------------------\n",
            "---------------------------------\n",
            "| rollout/           |          |\n",
            "|    ep_len_mean     | 220      |\n",
            "|    ep_rew_mean     | 280      |\n",
            "| time/              |          |\n",
            "|    fps             | 1418     |\n",
            "|    iterations      | 68       |\n",
            "|    time_elapsed    | 785      |\n",
            "|    total_timesteps | 1114112  |\n",
            "---------------------------------\n"
          ]
        },
        {
          "output_type": "display_data",
          "data": {
            "text/plain": [
              "Eval num_timesteps=1120000, episode_reward=289.40 +/- 15.17\n"
            ],
            "text/html": [
              "<pre style=\"white-space:pre;overflow-x:auto;line-height:normal;font-family:Menlo,'DejaVu Sans Mono',consolas,'Courier New',monospace\">Eval num_timesteps=1120000, episode_reward=289.40 +/- 15.17\n",
              "</pre>\n"
            ]
          },
          "metadata": {}
        },
        {
          "output_type": "display_data",
          "data": {
            "text/plain": [
              "Episode length: 232.30 +/- 34.99\n"
            ],
            "text/html": [
              "<pre style=\"white-space:pre;overflow-x:auto;line-height:normal;font-family:Menlo,'DejaVu Sans Mono',consolas,'Courier New',monospace\">Episode length: 232.30 +/- 34.99\n",
              "</pre>\n"
            ]
          },
          "metadata": {}
        },
        {
          "output_type": "stream",
          "name": "stdout",
          "text": [
            "-----------------------------------------\n",
            "| eval/                   |             |\n",
            "|    mean_ep_length       | 232         |\n",
            "|    mean_reward          | 289         |\n",
            "| time/                   |             |\n",
            "|    total_timesteps      | 1120000     |\n",
            "| train/                  |             |\n",
            "|    approx_kl            | 0.005072193 |\n",
            "|    clip_fraction        | 0.0458      |\n",
            "|    clip_range           | 0.2         |\n",
            "|    entropy_loss         | -0.579      |\n",
            "|    explained_variance   | 0.999       |\n",
            "|    learning_rate        | 0.0003      |\n",
            "|    loss                 | 0.475       |\n",
            "|    n_updates            | 680         |\n",
            "|    policy_gradient_loss | -0.000834   |\n",
            "|    value_loss           | 1.2         |\n",
            "-----------------------------------------\n"
          ]
        },
        {
          "output_type": "display_data",
          "data": {
            "text/plain": [
              "New best mean reward!\n"
            ],
            "text/html": [
              "<pre style=\"white-space:pre;overflow-x:auto;line-height:normal;font-family:Menlo,'DejaVu Sans Mono',consolas,'Courier New',monospace\">New best mean reward!\n",
              "</pre>\n"
            ]
          },
          "metadata": {}
        },
        {
          "output_type": "display_data",
          "data": {
            "text/plain": [
              "Eval num_timesteps=1130000, episode_reward=277.94 +/- 12.80\n"
            ],
            "text/html": [
              "<pre style=\"white-space:pre;overflow-x:auto;line-height:normal;font-family:Menlo,'DejaVu Sans Mono',consolas,'Courier New',monospace\">Eval num_timesteps=1130000, episode_reward=277.94 +/- 12.80\n",
              "</pre>\n"
            ]
          },
          "metadata": {}
        },
        {
          "output_type": "display_data",
          "data": {
            "text/plain": [
              "Episode length: 216.40 +/- 7.57\n"
            ],
            "text/html": [
              "<pre style=\"white-space:pre;overflow-x:auto;line-height:normal;font-family:Menlo,'DejaVu Sans Mono',consolas,'Courier New',monospace\">Episode length: 216.40 +/- 7.57\n",
              "</pre>\n"
            ]
          },
          "metadata": {}
        },
        {
          "output_type": "stream",
          "name": "stdout",
          "text": [
            "---------------------------------\n",
            "| eval/              |          |\n",
            "|    mean_ep_length  | 216      |\n",
            "|    mean_reward     | 278      |\n",
            "| time/              |          |\n",
            "|    total_timesteps | 1130000  |\n",
            "---------------------------------\n",
            "---------------------------------\n",
            "| rollout/           |          |\n",
            "|    ep_len_mean     | 219      |\n",
            "|    ep_rew_mean     | 282      |\n",
            "| time/              |          |\n",
            "|    fps             | 1418     |\n",
            "|    iterations      | 69       |\n",
            "|    time_elapsed    | 796      |\n",
            "|    total_timesteps | 1130496  |\n",
            "---------------------------------\n"
          ]
        },
        {
          "output_type": "display_data",
          "data": {
            "text/plain": [
              "Eval num_timesteps=1140000, episode_reward=289.64 +/- 14.49\n"
            ],
            "text/html": [
              "<pre style=\"white-space:pre;overflow-x:auto;line-height:normal;font-family:Menlo,'DejaVu Sans Mono',consolas,'Courier New',monospace\">Eval num_timesteps=1140000, episode_reward=289.64 +/- 14.49\n",
              "</pre>\n"
            ]
          },
          "metadata": {}
        },
        {
          "output_type": "display_data",
          "data": {
            "text/plain": [
              "Episode length: 222.80 +/- 16.03\n"
            ],
            "text/html": [
              "<pre style=\"white-space:pre;overflow-x:auto;line-height:normal;font-family:Menlo,'DejaVu Sans Mono',consolas,'Courier New',monospace\">Episode length: 222.80 +/- 16.03\n",
              "</pre>\n"
            ]
          },
          "metadata": {}
        },
        {
          "output_type": "stream",
          "name": "stdout",
          "text": [
            "------------------------------------------\n",
            "| eval/                   |              |\n",
            "|    mean_ep_length       | 223          |\n",
            "|    mean_reward          | 290          |\n",
            "| time/                   |              |\n",
            "|    total_timesteps      | 1140000      |\n",
            "| train/                  |              |\n",
            "|    approx_kl            | 0.0054058633 |\n",
            "|    clip_fraction        | 0.0728       |\n",
            "|    clip_range           | 0.2          |\n",
            "|    entropy_loss         | -0.59        |\n",
            "|    explained_variance   | 0.999        |\n",
            "|    learning_rate        | 0.0003       |\n",
            "|    loss                 | 0.393        |\n",
            "|    n_updates            | 690          |\n",
            "|    policy_gradient_loss | -0.00133     |\n",
            "|    value_loss           | 0.937        |\n",
            "------------------------------------------\n"
          ]
        },
        {
          "output_type": "display_data",
          "data": {
            "text/plain": [
              "New best mean reward!\n"
            ],
            "text/html": [
              "<pre style=\"white-space:pre;overflow-x:auto;line-height:normal;font-family:Menlo,'DejaVu Sans Mono',consolas,'Courier New',monospace\">New best mean reward!\n",
              "</pre>\n"
            ]
          },
          "metadata": {}
        },
        {
          "output_type": "stream",
          "name": "stdout",
          "text": [
            "---------------------------------\n",
            "| rollout/           |          |\n",
            "|    ep_len_mean     | 224      |\n",
            "|    ep_rew_mean     | 282      |\n",
            "| time/              |          |\n",
            "|    fps             | 1422     |\n",
            "|    iterations      | 70       |\n",
            "|    time_elapsed    | 806      |\n",
            "|    total_timesteps | 1146880  |\n",
            "---------------------------------\n"
          ]
        },
        {
          "output_type": "display_data",
          "data": {
            "text/plain": [
              "Eval num_timesteps=1150000, episode_reward=267.09 +/- 25.95\n"
            ],
            "text/html": [
              "<pre style=\"white-space:pre;overflow-x:auto;line-height:normal;font-family:Menlo,'DejaVu Sans Mono',consolas,'Courier New',monospace\">Eval num_timesteps=1150000, episode_reward=267.09 +/- 25.95\n",
              "</pre>\n"
            ]
          },
          "metadata": {}
        },
        {
          "output_type": "display_data",
          "data": {
            "text/plain": [
              "Episode length: 227.10 +/- 14.68\n"
            ],
            "text/html": [
              "<pre style=\"white-space:pre;overflow-x:auto;line-height:normal;font-family:Menlo,'DejaVu Sans Mono',consolas,'Courier New',monospace\">Episode length: 227.10 +/- 14.68\n",
              "</pre>\n"
            ]
          },
          "metadata": {}
        },
        {
          "output_type": "stream",
          "name": "stdout",
          "text": [
            "------------------------------------------\n",
            "| eval/                   |              |\n",
            "|    mean_ep_length       | 227          |\n",
            "|    mean_reward          | 267          |\n",
            "| time/                   |              |\n",
            "|    total_timesteps      | 1150000      |\n",
            "| train/                  |              |\n",
            "|    approx_kl            | 0.0038912676 |\n",
            "|    clip_fraction        | 0.0532       |\n",
            "|    clip_range           | 0.2          |\n",
            "|    entropy_loss         | -0.59        |\n",
            "|    explained_variance   | 1            |\n",
            "|    learning_rate        | 0.0003       |\n",
            "|    loss                 | 0.276        |\n",
            "|    n_updates            | 700          |\n",
            "|    policy_gradient_loss | -0.000763    |\n",
            "|    value_loss           | 0.769        |\n",
            "------------------------------------------\n"
          ]
        },
        {
          "output_type": "display_data",
          "data": {
            "text/plain": [
              "Eval num_timesteps=1160000, episode_reward=280.75 +/- 21.11\n"
            ],
            "text/html": [
              "<pre style=\"white-space:pre;overflow-x:auto;line-height:normal;font-family:Menlo,'DejaVu Sans Mono',consolas,'Courier New',monospace\">Eval num_timesteps=1160000, episode_reward=280.75 +/- 21.11\n",
              "</pre>\n"
            ]
          },
          "metadata": {}
        },
        {
          "output_type": "display_data",
          "data": {
            "text/plain": [
              "Episode length: 224.90 +/- 13.75\n"
            ],
            "text/html": [
              "<pre style=\"white-space:pre;overflow-x:auto;line-height:normal;font-family:Menlo,'DejaVu Sans Mono',consolas,'Courier New',monospace\">Episode length: 224.90 +/- 13.75\n",
              "</pre>\n"
            ]
          },
          "metadata": {}
        },
        {
          "output_type": "stream",
          "name": "stdout",
          "text": [
            "---------------------------------\n",
            "| eval/              |          |\n",
            "|    mean_ep_length  | 225      |\n",
            "|    mean_reward     | 281      |\n",
            "| time/              |          |\n",
            "|    total_timesteps | 1160000  |\n",
            "---------------------------------\n",
            "---------------------------------\n",
            "| rollout/           |          |\n",
            "|    ep_len_mean     | 232      |\n",
            "|    ep_rew_mean     | 278      |\n",
            "| time/              |          |\n",
            "|    fps             | 1422     |\n",
            "|    iterations      | 71       |\n",
            "|    time_elapsed    | 817      |\n",
            "|    total_timesteps | 1163264  |\n",
            "---------------------------------\n"
          ]
        },
        {
          "output_type": "display_data",
          "data": {
            "text/plain": [
              "Eval num_timesteps=1170000, episode_reward=277.61 +/- 18.92\n"
            ],
            "text/html": [
              "<pre style=\"white-space:pre;overflow-x:auto;line-height:normal;font-family:Menlo,'DejaVu Sans Mono',consolas,'Courier New',monospace\">Eval num_timesteps=1170000, episode_reward=277.61 +/- 18.92\n",
              "</pre>\n"
            ]
          },
          "metadata": {}
        },
        {
          "output_type": "display_data",
          "data": {
            "text/plain": [
              "Episode length: 222.90 +/- 11.01\n"
            ],
            "text/html": [
              "<pre style=\"white-space:pre;overflow-x:auto;line-height:normal;font-family:Menlo,'DejaVu Sans Mono',consolas,'Courier New',monospace\">Episode length: 222.90 +/- 11.01\n",
              "</pre>\n"
            ]
          },
          "metadata": {}
        },
        {
          "output_type": "stream",
          "name": "stdout",
          "text": [
            "-----------------------------------------\n",
            "| eval/                   |             |\n",
            "|    mean_ep_length       | 223         |\n",
            "|    mean_reward          | 278         |\n",
            "| time/                   |             |\n",
            "|    total_timesteps      | 1170000     |\n",
            "| train/                  |             |\n",
            "|    approx_kl            | 0.004943408 |\n",
            "|    clip_fraction        | 0.0485      |\n",
            "|    clip_range           | 0.2         |\n",
            "|    entropy_loss         | -0.593      |\n",
            "|    explained_variance   | 0.999       |\n",
            "|    learning_rate        | 0.0003      |\n",
            "|    loss                 | 0.689       |\n",
            "|    n_updates            | 710         |\n",
            "|    policy_gradient_loss | -0.00279    |\n",
            "|    value_loss           | 1.37        |\n",
            "-----------------------------------------\n",
            "---------------------------------\n",
            "| rollout/           |          |\n",
            "|    ep_len_mean     | 240      |\n",
            "|    ep_rew_mean     | 276      |\n",
            "| time/              |          |\n",
            "|    fps             | 1426     |\n",
            "|    iterations      | 72       |\n",
            "|    time_elapsed    | 826      |\n",
            "|    total_timesteps | 1179648  |\n",
            "---------------------------------\n"
          ]
        },
        {
          "output_type": "display_data",
          "data": {
            "text/plain": [
              "Eval num_timesteps=1180000, episode_reward=284.39 +/- 21.68\n"
            ],
            "text/html": [
              "<pre style=\"white-space:pre;overflow-x:auto;line-height:normal;font-family:Menlo,'DejaVu Sans Mono',consolas,'Courier New',monospace\">Eval num_timesteps=1180000, episode_reward=284.39 +/- 21.68\n",
              "</pre>\n"
            ]
          },
          "metadata": {}
        },
        {
          "output_type": "display_data",
          "data": {
            "text/plain": [
              "Episode length: 220.40 +/- 13.30\n"
            ],
            "text/html": [
              "<pre style=\"white-space:pre;overflow-x:auto;line-height:normal;font-family:Menlo,'DejaVu Sans Mono',consolas,'Courier New',monospace\">Episode length: 220.40 +/- 13.30\n",
              "</pre>\n"
            ]
          },
          "metadata": {}
        },
        {
          "output_type": "stream",
          "name": "stdout",
          "text": [
            "-----------------------------------------\n",
            "| eval/                   |             |\n",
            "|    mean_ep_length       | 220         |\n",
            "|    mean_reward          | 284         |\n",
            "| time/                   |             |\n",
            "|    total_timesteps      | 1180000     |\n",
            "| train/                  |             |\n",
            "|    approx_kl            | 0.005638643 |\n",
            "|    clip_fraction        | 0.0754      |\n",
            "|    clip_range           | 0.2         |\n",
            "|    entropy_loss         | -0.591      |\n",
            "|    explained_variance   | 0.999       |\n",
            "|    learning_rate        | 0.0003      |\n",
            "|    loss                 | 0.792       |\n",
            "|    n_updates            | 720         |\n",
            "|    policy_gradient_loss | -0.00164    |\n",
            "|    value_loss           | 2.23        |\n",
            "-----------------------------------------\n"
          ]
        },
        {
          "output_type": "display_data",
          "data": {
            "text/plain": [
              "Eval num_timesteps=1190000, episode_reward=272.64 +/- 21.17\n"
            ],
            "text/html": [
              "<pre style=\"white-space:pre;overflow-x:auto;line-height:normal;font-family:Menlo,'DejaVu Sans Mono',consolas,'Courier New',monospace\">Eval num_timesteps=1190000, episode_reward=272.64 +/- 21.17\n",
              "</pre>\n"
            ]
          },
          "metadata": {}
        },
        {
          "output_type": "display_data",
          "data": {
            "text/plain": [
              "Episode length: 227.10 +/- 8.24\n"
            ],
            "text/html": [
              "<pre style=\"white-space:pre;overflow-x:auto;line-height:normal;font-family:Menlo,'DejaVu Sans Mono',consolas,'Courier New',monospace\">Episode length: 227.10 +/- 8.24\n",
              "</pre>\n"
            ]
          },
          "metadata": {}
        },
        {
          "output_type": "stream",
          "name": "stdout",
          "text": [
            "---------------------------------\n",
            "| eval/              |          |\n",
            "|    mean_ep_length  | 227      |\n",
            "|    mean_reward     | 273      |\n",
            "| time/              |          |\n",
            "|    total_timesteps | 1190000  |\n",
            "---------------------------------\n",
            "---------------------------------\n",
            "| rollout/           |          |\n",
            "|    ep_len_mean     | 244      |\n",
            "|    ep_rew_mean     | 275      |\n",
            "| time/              |          |\n",
            "|    fps             | 1427     |\n",
            "|    iterations      | 73       |\n",
            "|    time_elapsed    | 838      |\n",
            "|    total_timesteps | 1196032  |\n",
            "---------------------------------\n"
          ]
        },
        {
          "output_type": "display_data",
          "data": {
            "text/plain": [
              "Eval num_timesteps=1200000, episode_reward=276.26 +/- 12.82\n"
            ],
            "text/html": [
              "<pre style=\"white-space:pre;overflow-x:auto;line-height:normal;font-family:Menlo,'DejaVu Sans Mono',consolas,'Courier New',monospace\">Eval num_timesteps=1200000, episode_reward=276.26 +/- 12.82\n",
              "</pre>\n"
            ]
          },
          "metadata": {}
        },
        {
          "output_type": "display_data",
          "data": {
            "text/plain": [
              "Episode length: 218.70 +/- 17.30\n"
            ],
            "text/html": [
              "<pre style=\"white-space:pre;overflow-x:auto;line-height:normal;font-family:Menlo,'DejaVu Sans Mono',consolas,'Courier New',monospace\">Episode length: 218.70 +/- 17.30\n",
              "</pre>\n"
            ]
          },
          "metadata": {}
        },
        {
          "output_type": "stream",
          "name": "stdout",
          "text": [
            "-----------------------------------------\n",
            "| eval/                   |             |\n",
            "|    mean_ep_length       | 219         |\n",
            "|    mean_reward          | 276         |\n",
            "| time/                   |             |\n",
            "|    total_timesteps      | 1200000     |\n",
            "| train/                  |             |\n",
            "|    approx_kl            | 0.009924616 |\n",
            "|    clip_fraction        | 0.0803      |\n",
            "|    clip_range           | 0.2         |\n",
            "|    entropy_loss         | -0.618      |\n",
            "|    explained_variance   | 1           |\n",
            "|    learning_rate        | 0.0003      |\n",
            "|    loss                 | 0.295       |\n",
            "|    n_updates            | 730         |\n",
            "|    policy_gradient_loss | -0.00879    |\n",
            "|    value_loss           | 0.559       |\n",
            "-----------------------------------------\n"
          ]
        },
        {
          "output_type": "display_data",
          "data": {
            "text/plain": [
              "Eval num_timesteps=1210000, episode_reward=285.97 +/- 23.45\n"
            ],
            "text/html": [
              "<pre style=\"white-space:pre;overflow-x:auto;line-height:normal;font-family:Menlo,'DejaVu Sans Mono',consolas,'Courier New',monospace\">Eval num_timesteps=1210000, episode_reward=285.97 +/- 23.45\n",
              "</pre>\n"
            ]
          },
          "metadata": {}
        },
        {
          "output_type": "display_data",
          "data": {
            "text/plain": [
              "Episode length: 219.40 +/- 8.58\n"
            ],
            "text/html": [
              "<pre style=\"white-space:pre;overflow-x:auto;line-height:normal;font-family:Menlo,'DejaVu Sans Mono',consolas,'Courier New',monospace\">Episode length: 219.40 +/- 8.58\n",
              "</pre>\n"
            ]
          },
          "metadata": {}
        },
        {
          "output_type": "stream",
          "name": "stdout",
          "text": [
            "---------------------------------\n",
            "| eval/              |          |\n",
            "|    mean_ep_length  | 219      |\n",
            "|    mean_reward     | 286      |\n",
            "| time/              |          |\n",
            "|    total_timesteps | 1210000  |\n",
            "---------------------------------\n",
            "---------------------------------\n",
            "| rollout/           |          |\n",
            "|    ep_len_mean     | 228      |\n",
            "|    ep_rew_mean     | 274      |\n",
            "| time/              |          |\n",
            "|    fps             | 1427     |\n",
            "|    iterations      | 74       |\n",
            "|    time_elapsed    | 849      |\n",
            "|    total_timesteps | 1212416  |\n",
            "---------------------------------\n"
          ]
        },
        {
          "output_type": "display_data",
          "data": {
            "text/plain": [
              "Eval num_timesteps=1220000, episode_reward=284.08 +/- 19.96\n"
            ],
            "text/html": [
              "<pre style=\"white-space:pre;overflow-x:auto;line-height:normal;font-family:Menlo,'DejaVu Sans Mono',consolas,'Courier New',monospace\">Eval num_timesteps=1220000, episode_reward=284.08 +/- 19.96\n",
              "</pre>\n"
            ]
          },
          "metadata": {}
        },
        {
          "output_type": "display_data",
          "data": {
            "text/plain": [
              "Episode length: 223.80 +/- 12.77\n"
            ],
            "text/html": [
              "<pre style=\"white-space:pre;overflow-x:auto;line-height:normal;font-family:Menlo,'DejaVu Sans Mono',consolas,'Courier New',monospace\">Episode length: 223.80 +/- 12.77\n",
              "</pre>\n"
            ]
          },
          "metadata": {}
        },
        {
          "output_type": "stream",
          "name": "stdout",
          "text": [
            "-----------------------------------------\n",
            "| eval/                   |             |\n",
            "|    mean_ep_length       | 224         |\n",
            "|    mean_reward          | 284         |\n",
            "| time/                   |             |\n",
            "|    total_timesteps      | 1220000     |\n",
            "| train/                  |             |\n",
            "|    approx_kl            | 0.004553118 |\n",
            "|    clip_fraction        | 0.0643      |\n",
            "|    clip_range           | 0.2         |\n",
            "|    entropy_loss         | -0.61       |\n",
            "|    explained_variance   | 1           |\n",
            "|    learning_rate        | 0.0003      |\n",
            "|    loss                 | 0.279       |\n",
            "|    n_updates            | 740         |\n",
            "|    policy_gradient_loss | -0.000574   |\n",
            "|    value_loss           | 0.62        |\n",
            "-----------------------------------------\n",
            "---------------------------------\n",
            "| rollout/           |          |\n",
            "|    ep_len_mean     | 239      |\n",
            "|    ep_rew_mean     | 273      |\n",
            "| time/              |          |\n",
            "|    fps             | 1430     |\n",
            "|    iterations      | 75       |\n",
            "|    time_elapsed    | 858      |\n",
            "|    total_timesteps | 1228800  |\n",
            "---------------------------------\n"
          ]
        },
        {
          "output_type": "display_data",
          "data": {
            "text/plain": [
              "Eval num_timesteps=1230000, episode_reward=280.99 +/- 18.92\n"
            ],
            "text/html": [
              "<pre style=\"white-space:pre;overflow-x:auto;line-height:normal;font-family:Menlo,'DejaVu Sans Mono',consolas,'Courier New',monospace\">Eval num_timesteps=1230000, episode_reward=280.99 +/- 18.92\n",
              "</pre>\n"
            ]
          },
          "metadata": {}
        },
        {
          "output_type": "display_data",
          "data": {
            "text/plain": [
              "Episode length: 213.90 +/- 8.67\n"
            ],
            "text/html": [
              "<pre style=\"white-space:pre;overflow-x:auto;line-height:normal;font-family:Menlo,'DejaVu Sans Mono',consolas,'Courier New',monospace\">Episode length: 213.90 +/- 8.67\n",
              "</pre>\n"
            ]
          },
          "metadata": {}
        },
        {
          "output_type": "stream",
          "name": "stdout",
          "text": [
            "------------------------------------------\n",
            "| eval/                   |              |\n",
            "|    mean_ep_length       | 214          |\n",
            "|    mean_reward          | 281          |\n",
            "| time/                   |              |\n",
            "|    total_timesteps      | 1230000      |\n",
            "| train/                  |              |\n",
            "|    approx_kl            | 0.0028600611 |\n",
            "|    clip_fraction        | 0.0355       |\n",
            "|    clip_range           | 0.2          |\n",
            "|    entropy_loss         | -0.596       |\n",
            "|    explained_variance   | 0.99         |\n",
            "|    learning_rate        | 0.0003       |\n",
            "|    loss                 | 21.5         |\n",
            "|    n_updates            | 750          |\n",
            "|    policy_gradient_loss | -0.00101     |\n",
            "|    value_loss           | 25.1         |\n",
            "------------------------------------------\n"
          ]
        },
        {
          "output_type": "display_data",
          "data": {
            "text/plain": [
              "Eval num_timesteps=1240000, episode_reward=275.43 +/- 15.18\n"
            ],
            "text/html": [
              "<pre style=\"white-space:pre;overflow-x:auto;line-height:normal;font-family:Menlo,'DejaVu Sans Mono',consolas,'Courier New',monospace\">Eval num_timesteps=1240000, episode_reward=275.43 +/- 15.18\n",
              "</pre>\n"
            ]
          },
          "metadata": {}
        },
        {
          "output_type": "display_data",
          "data": {
            "text/plain": [
              "Episode length: 216.60 +/- 11.32\n"
            ],
            "text/html": [
              "<pre style=\"white-space:pre;overflow-x:auto;line-height:normal;font-family:Menlo,'DejaVu Sans Mono',consolas,'Courier New',monospace\">Episode length: 216.60 +/- 11.32\n",
              "</pre>\n"
            ]
          },
          "metadata": {}
        },
        {
          "output_type": "stream",
          "name": "stdout",
          "text": [
            "---------------------------------\n",
            "| eval/              |          |\n",
            "|    mean_ep_length  | 217      |\n",
            "|    mean_reward     | 275      |\n",
            "| time/              |          |\n",
            "|    total_timesteps | 1240000  |\n",
            "---------------------------------\n",
            "---------------------------------\n",
            "| rollout/           |          |\n",
            "|    ep_len_mean     | 255      |\n",
            "|    ep_rew_mean     | 278      |\n",
            "| time/              |          |\n",
            "|    fps             | 1430     |\n",
            "|    iterations      | 76       |\n",
            "|    time_elapsed    | 870      |\n",
            "|    total_timesteps | 1245184  |\n",
            "---------------------------------\n"
          ]
        },
        {
          "output_type": "display_data",
          "data": {
            "text/plain": [
              "Eval num_timesteps=1250000, episode_reward=282.85 +/- 17.59\n"
            ],
            "text/html": [
              "<pre style=\"white-space:pre;overflow-x:auto;line-height:normal;font-family:Menlo,'DejaVu Sans Mono',consolas,'Courier New',monospace\">Eval num_timesteps=1250000, episode_reward=282.85 +/- 17.59\n",
              "</pre>\n"
            ]
          },
          "metadata": {}
        },
        {
          "output_type": "display_data",
          "data": {
            "text/plain": [
              "Episode length: 223.20 +/- 8.81\n"
            ],
            "text/html": [
              "<pre style=\"white-space:pre;overflow-x:auto;line-height:normal;font-family:Menlo,'DejaVu Sans Mono',consolas,'Courier New',monospace\">Episode length: 223.20 +/- 8.81\n",
              "</pre>\n"
            ]
          },
          "metadata": {}
        },
        {
          "output_type": "stream",
          "name": "stdout",
          "text": [
            "------------------------------------------\n",
            "| eval/                   |              |\n",
            "|    mean_ep_length       | 223          |\n",
            "|    mean_reward          | 283          |\n",
            "| time/                   |              |\n",
            "|    total_timesteps      | 1250000      |\n",
            "| train/                  |              |\n",
            "|    approx_kl            | 0.0056390897 |\n",
            "|    clip_fraction        | 0.0618       |\n",
            "|    clip_range           | 0.2          |\n",
            "|    entropy_loss         | -0.628       |\n",
            "|    explained_variance   | 0.999        |\n",
            "|    learning_rate        | 0.0003       |\n",
            "|    loss                 | 0.387        |\n",
            "|    n_updates            | 760          |\n",
            "|    policy_gradient_loss | 1.19e-05     |\n",
            "|    value_loss           | 1.01         |\n",
            "------------------------------------------\n"
          ]
        },
        {
          "output_type": "display_data",
          "data": {
            "text/plain": [
              "Eval num_timesteps=1260000, episode_reward=278.36 +/- 22.36\n"
            ],
            "text/html": [
              "<pre style=\"white-space:pre;overflow-x:auto;line-height:normal;font-family:Menlo,'DejaVu Sans Mono',consolas,'Courier New',monospace\">Eval num_timesteps=1260000, episode_reward=278.36 +/- 22.36\n",
              "</pre>\n"
            ]
          },
          "metadata": {}
        },
        {
          "output_type": "display_data",
          "data": {
            "text/plain": [
              "Episode length: 217.60 +/- 9.92\n"
            ],
            "text/html": [
              "<pre style=\"white-space:pre;overflow-x:auto;line-height:normal;font-family:Menlo,'DejaVu Sans Mono',consolas,'Courier New',monospace\">Episode length: 217.60 +/- 9.92\n",
              "</pre>\n"
            ]
          },
          "metadata": {}
        },
        {
          "output_type": "stream",
          "name": "stdout",
          "text": [
            "---------------------------------\n",
            "| eval/              |          |\n",
            "|    mean_ep_length  | 218      |\n",
            "|    mean_reward     | 278      |\n",
            "| time/              |          |\n",
            "|    total_timesteps | 1260000  |\n",
            "---------------------------------\n",
            "---------------------------------\n",
            "| rollout/           |          |\n",
            "|    ep_len_mean     | 254      |\n",
            "|    ep_rew_mean     | 279      |\n",
            "| time/              |          |\n",
            "|    fps             | 1430     |\n",
            "|    iterations      | 77       |\n",
            "|    time_elapsed    | 881      |\n",
            "|    total_timesteps | 1261568  |\n",
            "---------------------------------\n"
          ]
        },
        {
          "output_type": "display_data",
          "data": {
            "text/plain": [
              "Eval num_timesteps=1270000, episode_reward=278.95 +/- 16.74\n"
            ],
            "text/html": [
              "<pre style=\"white-space:pre;overflow-x:auto;line-height:normal;font-family:Menlo,'DejaVu Sans Mono',consolas,'Courier New',monospace\">Eval num_timesteps=1270000, episode_reward=278.95 +/- 16.74\n",
              "</pre>\n"
            ]
          },
          "metadata": {}
        },
        {
          "output_type": "display_data",
          "data": {
            "text/plain": [
              "Episode length: 218.30 +/- 13.17\n"
            ],
            "text/html": [
              "<pre style=\"white-space:pre;overflow-x:auto;line-height:normal;font-family:Menlo,'DejaVu Sans Mono',consolas,'Courier New',monospace\">Episode length: 218.30 +/- 13.17\n",
              "</pre>\n"
            ]
          },
          "metadata": {}
        },
        {
          "output_type": "stream",
          "name": "stdout",
          "text": [
            "------------------------------------------\n",
            "| eval/                   |              |\n",
            "|    mean_ep_length       | 218          |\n",
            "|    mean_reward          | 279          |\n",
            "| time/                   |              |\n",
            "|    total_timesteps      | 1270000      |\n",
            "| train/                  |              |\n",
            "|    approx_kl            | 0.0062353546 |\n",
            "|    clip_fraction        | 0.0649       |\n",
            "|    clip_range           | 0.2          |\n",
            "|    entropy_loss         | -0.582       |\n",
            "|    explained_variance   | 0.999        |\n",
            "|    learning_rate        | 0.0003       |\n",
            "|    loss                 | 0.523        |\n",
            "|    n_updates            | 770          |\n",
            "|    policy_gradient_loss | -0.000749    |\n",
            "|    value_loss           | 0.977        |\n",
            "------------------------------------------\n",
            "---------------------------------\n",
            "| rollout/           |          |\n",
            "|    ep_len_mean     | 247      |\n",
            "|    ep_rew_mean     | 279      |\n",
            "| time/              |          |\n",
            "|    fps             | 1434     |\n",
            "|    iterations      | 78       |\n",
            "|    time_elapsed    | 891      |\n",
            "|    total_timesteps | 1277952  |\n",
            "---------------------------------\n"
          ]
        },
        {
          "output_type": "display_data",
          "data": {
            "text/plain": [
              "Eval num_timesteps=1280000, episode_reward=285.17 +/- 16.49\n"
            ],
            "text/html": [
              "<pre style=\"white-space:pre;overflow-x:auto;line-height:normal;font-family:Menlo,'DejaVu Sans Mono',consolas,'Courier New',monospace\">Eval num_timesteps=1280000, episode_reward=285.17 +/- 16.49\n",
              "</pre>\n"
            ]
          },
          "metadata": {}
        },
        {
          "output_type": "display_data",
          "data": {
            "text/plain": [
              "Episode length: 222.60 +/- 13.25\n"
            ],
            "text/html": [
              "<pre style=\"white-space:pre;overflow-x:auto;line-height:normal;font-family:Menlo,'DejaVu Sans Mono',consolas,'Courier New',monospace\">Episode length: 222.60 +/- 13.25\n",
              "</pre>\n"
            ]
          },
          "metadata": {}
        },
        {
          "output_type": "stream",
          "name": "stdout",
          "text": [
            "------------------------------------------\n",
            "| eval/                   |              |\n",
            "|    mean_ep_length       | 223          |\n",
            "|    mean_reward          | 285          |\n",
            "| time/                   |              |\n",
            "|    total_timesteps      | 1280000      |\n",
            "| train/                  |              |\n",
            "|    approx_kl            | 0.0047392743 |\n",
            "|    clip_fraction        | 0.0715       |\n",
            "|    clip_range           | 0.2          |\n",
            "|    entropy_loss         | -0.629       |\n",
            "|    explained_variance   | 0.999        |\n",
            "|    learning_rate        | 0.0003       |\n",
            "|    loss                 | 0.261        |\n",
            "|    n_updates            | 780          |\n",
            "|    policy_gradient_loss | -0.00129     |\n",
            "|    value_loss           | 0.777        |\n",
            "------------------------------------------\n"
          ]
        },
        {
          "output_type": "display_data",
          "data": {
            "text/plain": [
              "Eval num_timesteps=1290000, episode_reward=274.66 +/- 13.57\n"
            ],
            "text/html": [
              "<pre style=\"white-space:pre;overflow-x:auto;line-height:normal;font-family:Menlo,'DejaVu Sans Mono',consolas,'Courier New',monospace\">Eval num_timesteps=1290000, episode_reward=274.66 +/- 13.57\n",
              "</pre>\n"
            ]
          },
          "metadata": {}
        },
        {
          "output_type": "display_data",
          "data": {
            "text/plain": [
              "Episode length: 216.70 +/- 15.76\n"
            ],
            "text/html": [
              "<pre style=\"white-space:pre;overflow-x:auto;line-height:normal;font-family:Menlo,'DejaVu Sans Mono',consolas,'Courier New',monospace\">Episode length: 216.70 +/- 15.76\n",
              "</pre>\n"
            ]
          },
          "metadata": {}
        },
        {
          "output_type": "stream",
          "name": "stdout",
          "text": [
            "---------------------------------\n",
            "| eval/              |          |\n",
            "|    mean_ep_length  | 217      |\n",
            "|    mean_reward     | 275      |\n",
            "| time/              |          |\n",
            "|    total_timesteps | 1290000  |\n",
            "---------------------------------\n",
            "---------------------------------\n",
            "| rollout/           |          |\n",
            "|    ep_len_mean     | 239      |\n",
            "|    ep_rew_mean     | 278      |\n",
            "| time/              |          |\n",
            "|    fps             | 1434     |\n",
            "|    iterations      | 79       |\n",
            "|    time_elapsed    | 902      |\n",
            "|    total_timesteps | 1294336  |\n",
            "---------------------------------\n"
          ]
        },
        {
          "output_type": "display_data",
          "data": {
            "text/plain": [
              "Eval num_timesteps=1300000, episode_reward=274.94 +/- 35.00\n"
            ],
            "text/html": [
              "<pre style=\"white-space:pre;overflow-x:auto;line-height:normal;font-family:Menlo,'DejaVu Sans Mono',consolas,'Courier New',monospace\">Eval num_timesteps=1300000, episode_reward=274.94 +/- 35.00\n",
              "</pre>\n"
            ]
          },
          "metadata": {}
        },
        {
          "output_type": "display_data",
          "data": {
            "text/plain": [
              "Episode length: 298.90 +/- 235.12\n"
            ],
            "text/html": [
              "<pre style=\"white-space:pre;overflow-x:auto;line-height:normal;font-family:Menlo,'DejaVu Sans Mono',consolas,'Courier New',monospace\">Episode length: 298.90 +/- 235.12\n",
              "</pre>\n"
            ]
          },
          "metadata": {}
        },
        {
          "output_type": "stream",
          "name": "stdout",
          "text": [
            "------------------------------------------\n",
            "| eval/                   |              |\n",
            "|    mean_ep_length       | 299          |\n",
            "|    mean_reward          | 275          |\n",
            "| time/                   |              |\n",
            "|    total_timesteps      | 1300000      |\n",
            "| train/                  |              |\n",
            "|    approx_kl            | 0.0043392642 |\n",
            "|    clip_fraction        | 0.0612       |\n",
            "|    clip_range           | 0.2          |\n",
            "|    entropy_loss         | -0.55        |\n",
            "|    explained_variance   | 0.999        |\n",
            "|    learning_rate        | 0.0003       |\n",
            "|    loss                 | 0.354        |\n",
            "|    n_updates            | 790          |\n",
            "|    policy_gradient_loss | 0.000885     |\n",
            "|    value_loss           | 0.997        |\n",
            "------------------------------------------\n"
          ]
        },
        {
          "output_type": "display_data",
          "data": {
            "text/plain": [
              "Eval num_timesteps=1310000, episode_reward=287.12 +/- 13.40\n"
            ],
            "text/html": [
              "<pre style=\"white-space:pre;overflow-x:auto;line-height:normal;font-family:Menlo,'DejaVu Sans Mono',consolas,'Courier New',monospace\">Eval num_timesteps=1310000, episode_reward=287.12 +/- 13.40\n",
              "</pre>\n"
            ]
          },
          "metadata": {}
        },
        {
          "output_type": "display_data",
          "data": {
            "text/plain": [
              "Episode length: 214.70 +/- 17.63\n"
            ],
            "text/html": [
              "<pre style=\"white-space:pre;overflow-x:auto;line-height:normal;font-family:Menlo,'DejaVu Sans Mono',consolas,'Courier New',monospace\">Episode length: 214.70 +/- 17.63\n",
              "</pre>\n"
            ]
          },
          "metadata": {}
        },
        {
          "output_type": "stream",
          "name": "stdout",
          "text": [
            "---------------------------------\n",
            "| eval/              |          |\n",
            "|    mean_ep_length  | 215      |\n",
            "|    mean_reward     | 287      |\n",
            "| time/              |          |\n",
            "|    total_timesteps | 1310000  |\n",
            "---------------------------------\n",
            "---------------------------------\n",
            "| rollout/           |          |\n",
            "|    ep_len_mean     | 222      |\n",
            "|    ep_rew_mean     | 282      |\n",
            "| time/              |          |\n",
            "|    fps             | 1433     |\n",
            "|    iterations      | 80       |\n",
            "|    time_elapsed    | 914      |\n",
            "|    total_timesteps | 1310720  |\n",
            "---------------------------------\n"
          ]
        },
        {
          "output_type": "display_data",
          "data": {
            "text/plain": [
              "Eval num_timesteps=1320000, episode_reward=276.72 +/- 12.72\n"
            ],
            "text/html": [
              "<pre style=\"white-space:pre;overflow-x:auto;line-height:normal;font-family:Menlo,'DejaVu Sans Mono',consolas,'Courier New',monospace\">Eval num_timesteps=1320000, episode_reward=276.72 +/- 12.72\n",
              "</pre>\n"
            ]
          },
          "metadata": {}
        },
        {
          "output_type": "display_data",
          "data": {
            "text/plain": [
              "Episode length: 219.90 +/- 15.39\n"
            ],
            "text/html": [
              "<pre style=\"white-space:pre;overflow-x:auto;line-height:normal;font-family:Menlo,'DejaVu Sans Mono',consolas,'Courier New',monospace\">Episode length: 219.90 +/- 15.39\n",
              "</pre>\n"
            ]
          },
          "metadata": {}
        },
        {
          "output_type": "stream",
          "name": "stdout",
          "text": [
            "------------------------------------------\n",
            "| eval/                   |              |\n",
            "|    mean_ep_length       | 220          |\n",
            "|    mean_reward          | 277          |\n",
            "| time/                   |              |\n",
            "|    total_timesteps      | 1320000      |\n",
            "| train/                  |              |\n",
            "|    approx_kl            | 0.0053593693 |\n",
            "|    clip_fraction        | 0.0602       |\n",
            "|    clip_range           | 0.2          |\n",
            "|    entropy_loss         | -0.548       |\n",
            "|    explained_variance   | 1            |\n",
            "|    learning_rate        | 0.0003       |\n",
            "|    loss                 | 0.359        |\n",
            "|    n_updates            | 800          |\n",
            "|    policy_gradient_loss | -0.000674    |\n",
            "|    value_loss           | 0.81         |\n",
            "------------------------------------------\n",
            "---------------------------------\n",
            "| rollout/           |          |\n",
            "|    ep_len_mean     | 230      |\n",
            "|    ep_rew_mean     | 278      |\n",
            "| time/              |          |\n",
            "|    fps             | 1437     |\n",
            "|    iterations      | 81       |\n",
            "|    time_elapsed    | 923      |\n",
            "|    total_timesteps | 1327104  |\n",
            "---------------------------------\n"
          ]
        },
        {
          "output_type": "display_data",
          "data": {
            "text/plain": [
              "Eval num_timesteps=1330000, episode_reward=286.37 +/- 15.17\n"
            ],
            "text/html": [
              "<pre style=\"white-space:pre;overflow-x:auto;line-height:normal;font-family:Menlo,'DejaVu Sans Mono',consolas,'Courier New',monospace\">Eval num_timesteps=1330000, episode_reward=286.37 +/- 15.17\n",
              "</pre>\n"
            ]
          },
          "metadata": {}
        },
        {
          "output_type": "display_data",
          "data": {
            "text/plain": [
              "Episode length: 211.60 +/- 10.06\n"
            ],
            "text/html": [
              "<pre style=\"white-space:pre;overflow-x:auto;line-height:normal;font-family:Menlo,'DejaVu Sans Mono',consolas,'Courier New',monospace\">Episode length: 211.60 +/- 10.06\n",
              "</pre>\n"
            ]
          },
          "metadata": {}
        },
        {
          "output_type": "stream",
          "name": "stdout",
          "text": [
            "------------------------------------------\n",
            "| eval/                   |              |\n",
            "|    mean_ep_length       | 212          |\n",
            "|    mean_reward          | 286          |\n",
            "| time/                   |              |\n",
            "|    total_timesteps      | 1330000      |\n",
            "| train/                  |              |\n",
            "|    approx_kl            | 0.0058645476 |\n",
            "|    clip_fraction        | 0.0596       |\n",
            "|    clip_range           | 0.2          |\n",
            "|    entropy_loss         | -0.558       |\n",
            "|    explained_variance   | 0.999        |\n",
            "|    learning_rate        | 0.0003       |\n",
            "|    loss                 | 0.336        |\n",
            "|    n_updates            | 810          |\n",
            "|    policy_gradient_loss | -0.00036     |\n",
            "|    value_loss           | 1.21         |\n",
            "------------------------------------------\n"
          ]
        },
        {
          "output_type": "display_data",
          "data": {
            "text/plain": [
              "Eval num_timesteps=1340000, episode_reward=288.90 +/- 12.03\n"
            ],
            "text/html": [
              "<pre style=\"white-space:pre;overflow-x:auto;line-height:normal;font-family:Menlo,'DejaVu Sans Mono',consolas,'Courier New',monospace\">Eval num_timesteps=1340000, episode_reward=288.90 +/- 12.03\n",
              "</pre>\n"
            ]
          },
          "metadata": {}
        },
        {
          "output_type": "display_data",
          "data": {
            "text/plain": [
              "Episode length: 217.10 +/- 12.74\n"
            ],
            "text/html": [
              "<pre style=\"white-space:pre;overflow-x:auto;line-height:normal;font-family:Menlo,'DejaVu Sans Mono',consolas,'Courier New',monospace\">Episode length: 217.10 +/- 12.74\n",
              "</pre>\n"
            ]
          },
          "metadata": {}
        },
        {
          "output_type": "stream",
          "name": "stdout",
          "text": [
            "---------------------------------\n",
            "| eval/              |          |\n",
            "|    mean_ep_length  | 217      |\n",
            "|    mean_reward     | 289      |\n",
            "| time/              |          |\n",
            "|    total_timesteps | 1340000  |\n",
            "---------------------------------\n",
            "---------------------------------\n",
            "| rollout/           |          |\n",
            "|    ep_len_mean     | 231      |\n",
            "|    ep_rew_mean     | 280      |\n",
            "| time/              |          |\n",
            "|    fps             | 1437     |\n",
            "|    iterations      | 82       |\n",
            "|    time_elapsed    | 934      |\n",
            "|    total_timesteps | 1343488  |\n",
            "---------------------------------\n"
          ]
        },
        {
          "output_type": "display_data",
          "data": {
            "text/plain": [
              "Eval num_timesteps=1350000, episode_reward=288.60 +/- 17.39\n"
            ],
            "text/html": [
              "<pre style=\"white-space:pre;overflow-x:auto;line-height:normal;font-family:Menlo,'DejaVu Sans Mono',consolas,'Courier New',monospace\">Eval num_timesteps=1350000, episode_reward=288.60 +/- 17.39\n",
              "</pre>\n"
            ]
          },
          "metadata": {}
        },
        {
          "output_type": "display_data",
          "data": {
            "text/plain": [
              "Episode length: 219.10 +/- 15.81\n"
            ],
            "text/html": [
              "<pre style=\"white-space:pre;overflow-x:auto;line-height:normal;font-family:Menlo,'DejaVu Sans Mono',consolas,'Courier New',monospace\">Episode length: 219.10 +/- 15.81\n",
              "</pre>\n"
            ]
          },
          "metadata": {}
        },
        {
          "output_type": "stream",
          "name": "stdout",
          "text": [
            "------------------------------------------\n",
            "| eval/                   |              |\n",
            "|    mean_ep_length       | 219          |\n",
            "|    mean_reward          | 289          |\n",
            "| time/                   |              |\n",
            "|    total_timesteps      | 1350000      |\n",
            "| train/                  |              |\n",
            "|    approx_kl            | 0.0067456868 |\n",
            "|    clip_fraction        | 0.052        |\n",
            "|    clip_range           | 0.2          |\n",
            "|    entropy_loss         | -0.567       |\n",
            "|    explained_variance   | 0.998        |\n",
            "|    learning_rate        | 0.0003       |\n",
            "|    loss                 | 0.524        |\n",
            "|    n_updates            | 820          |\n",
            "|    policy_gradient_loss | -0.000119    |\n",
            "|    value_loss           | 2.89         |\n",
            "------------------------------------------\n",
            "---------------------------------\n",
            "| rollout/           |          |\n",
            "|    ep_len_mean     | 240      |\n",
            "|    ep_rew_mean     | 280      |\n",
            "| time/              |          |\n",
            "|    fps             | 1440     |\n",
            "|    iterations      | 83       |\n",
            "|    time_elapsed    | 944      |\n",
            "|    total_timesteps | 1359872  |\n",
            "---------------------------------\n"
          ]
        },
        {
          "output_type": "display_data",
          "data": {
            "text/plain": [
              "Eval num_timesteps=1360000, episode_reward=296.47 +/- 15.39\n"
            ],
            "text/html": [
              "<pre style=\"white-space:pre;overflow-x:auto;line-height:normal;font-family:Menlo,'DejaVu Sans Mono',consolas,'Courier New',monospace\">Eval num_timesteps=1360000, episode_reward=296.47 +/- 15.39\n",
              "</pre>\n"
            ]
          },
          "metadata": {}
        },
        {
          "output_type": "display_data",
          "data": {
            "text/plain": [
              "Episode length: 216.20 +/- 14.93\n"
            ],
            "text/html": [
              "<pre style=\"white-space:pre;overflow-x:auto;line-height:normal;font-family:Menlo,'DejaVu Sans Mono',consolas,'Courier New',monospace\">Episode length: 216.20 +/- 14.93\n",
              "</pre>\n"
            ]
          },
          "metadata": {}
        },
        {
          "output_type": "stream",
          "name": "stdout",
          "text": [
            "------------------------------------------\n",
            "| eval/                   |              |\n",
            "|    mean_ep_length       | 216          |\n",
            "|    mean_reward          | 296          |\n",
            "| time/                   |              |\n",
            "|    total_timesteps      | 1360000      |\n",
            "| train/                  |              |\n",
            "|    approx_kl            | 0.0028085134 |\n",
            "|    clip_fraction        | 0.0581       |\n",
            "|    clip_range           | 0.2          |\n",
            "|    entropy_loss         | -0.539       |\n",
            "|    explained_variance   | 0.999        |\n",
            "|    learning_rate        | 0.0003       |\n",
            "|    loss                 | 0.263        |\n",
            "|    n_updates            | 830          |\n",
            "|    policy_gradient_loss | 0.00154      |\n",
            "|    value_loss           | 0.649        |\n",
            "------------------------------------------\n"
          ]
        },
        {
          "output_type": "display_data",
          "data": {
            "text/plain": [
              "New best mean reward!\n"
            ],
            "text/html": [
              "<pre style=\"white-space:pre;overflow-x:auto;line-height:normal;font-family:Menlo,'DejaVu Sans Mono',consolas,'Courier New',monospace\">New best mean reward!\n",
              "</pre>\n"
            ]
          },
          "metadata": {}
        },
        {
          "output_type": "display_data",
          "data": {
            "text/plain": [
              "Eval num_timesteps=1370000, episode_reward=273.91 +/- 22.05\n"
            ],
            "text/html": [
              "<pre style=\"white-space:pre;overflow-x:auto;line-height:normal;font-family:Menlo,'DejaVu Sans Mono',consolas,'Courier New',monospace\">Eval num_timesteps=1370000, episode_reward=273.91 +/- 22.05\n",
              "</pre>\n"
            ]
          },
          "metadata": {}
        },
        {
          "output_type": "display_data",
          "data": {
            "text/plain": [
              "Episode length: 216.30 +/- 7.94\n"
            ],
            "text/html": [
              "<pre style=\"white-space:pre;overflow-x:auto;line-height:normal;font-family:Menlo,'DejaVu Sans Mono',consolas,'Courier New',monospace\">Episode length: 216.30 +/- 7.94\n",
              "</pre>\n"
            ]
          },
          "metadata": {}
        },
        {
          "output_type": "stream",
          "name": "stdout",
          "text": [
            "---------------------------------\n",
            "| eval/              |          |\n",
            "|    mean_ep_length  | 216      |\n",
            "|    mean_reward     | 274      |\n",
            "| time/              |          |\n",
            "|    total_timesteps | 1370000  |\n",
            "---------------------------------\n",
            "---------------------------------\n",
            "| rollout/           |          |\n",
            "|    ep_len_mean     | 238      |\n",
            "|    ep_rew_mean     | 275      |\n",
            "| time/              |          |\n",
            "|    fps             | 1440     |\n",
            "|    iterations      | 84       |\n",
            "|    time_elapsed    | 955      |\n",
            "|    total_timesteps | 1376256  |\n",
            "---------------------------------\n"
          ]
        },
        {
          "output_type": "display_data",
          "data": {
            "text/plain": [
              "Eval num_timesteps=1380000, episode_reward=278.66 +/- 15.75\n"
            ],
            "text/html": [
              "<pre style=\"white-space:pre;overflow-x:auto;line-height:normal;font-family:Menlo,'DejaVu Sans Mono',consolas,'Courier New',monospace\">Eval num_timesteps=1380000, episode_reward=278.66 +/- 15.75\n",
              "</pre>\n"
            ]
          },
          "metadata": {}
        },
        {
          "output_type": "display_data",
          "data": {
            "text/plain": [
              "Episode length: 220.10 +/- 14.56\n"
            ],
            "text/html": [
              "<pre style=\"white-space:pre;overflow-x:auto;line-height:normal;font-family:Menlo,'DejaVu Sans Mono',consolas,'Courier New',monospace\">Episode length: 220.10 +/- 14.56\n",
              "</pre>\n"
            ]
          },
          "metadata": {}
        },
        {
          "output_type": "stream",
          "name": "stdout",
          "text": [
            "------------------------------------------\n",
            "| eval/                   |              |\n",
            "|    mean_ep_length       | 220          |\n",
            "|    mean_reward          | 279          |\n",
            "| time/                   |              |\n",
            "|    total_timesteps      | 1380000      |\n",
            "| train/                  |              |\n",
            "|    approx_kl            | 0.0065020667 |\n",
            "|    clip_fraction        | 0.0514       |\n",
            "|    clip_range           | 0.2          |\n",
            "|    entropy_loss         | -0.549       |\n",
            "|    explained_variance   | 0.997        |\n",
            "|    learning_rate        | 0.0003       |\n",
            "|    loss                 | 0.606        |\n",
            "|    n_updates            | 840          |\n",
            "|    policy_gradient_loss | -0.00166     |\n",
            "|    value_loss           | 2.76         |\n",
            "------------------------------------------\n"
          ]
        },
        {
          "output_type": "display_data",
          "data": {
            "text/plain": [
              "Eval num_timesteps=1390000, episode_reward=289.04 +/- 16.50\n"
            ],
            "text/html": [
              "<pre style=\"white-space:pre;overflow-x:auto;line-height:normal;font-family:Menlo,'DejaVu Sans Mono',consolas,'Courier New',monospace\">Eval num_timesteps=1390000, episode_reward=289.04 +/- 16.50\n",
              "</pre>\n"
            ]
          },
          "metadata": {}
        },
        {
          "output_type": "display_data",
          "data": {
            "text/plain": [
              "Episode length: 219.40 +/- 18.25\n"
            ],
            "text/html": [
              "<pre style=\"white-space:pre;overflow-x:auto;line-height:normal;font-family:Menlo,'DejaVu Sans Mono',consolas,'Courier New',monospace\">Episode length: 219.40 +/- 18.25\n",
              "</pre>\n"
            ]
          },
          "metadata": {}
        },
        {
          "output_type": "stream",
          "name": "stdout",
          "text": [
            "---------------------------------\n",
            "| eval/              |          |\n",
            "|    mean_ep_length  | 219      |\n",
            "|    mean_reward     | 289      |\n",
            "| time/              |          |\n",
            "|    total_timesteps | 1390000  |\n",
            "---------------------------------\n",
            "---------------------------------\n",
            "| rollout/           |          |\n",
            "|    ep_len_mean     | 239      |\n",
            "|    ep_rew_mean     | 275      |\n",
            "| time/              |          |\n",
            "|    fps             | 1440     |\n",
            "|    iterations      | 85       |\n",
            "|    time_elapsed    | 966      |\n",
            "|    total_timesteps | 1392640  |\n",
            "---------------------------------\n"
          ]
        },
        {
          "output_type": "display_data",
          "data": {
            "text/plain": [
              "Eval num_timesteps=1400000, episode_reward=291.96 +/- 15.97\n"
            ],
            "text/html": [
              "<pre style=\"white-space:pre;overflow-x:auto;line-height:normal;font-family:Menlo,'DejaVu Sans Mono',consolas,'Courier New',monospace\">Eval num_timesteps=1400000, episode_reward=291.96 +/- 15.97\n",
              "</pre>\n"
            ]
          },
          "metadata": {}
        },
        {
          "output_type": "display_data",
          "data": {
            "text/plain": [
              "Episode length: 220.30 +/- 13.89\n"
            ],
            "text/html": [
              "<pre style=\"white-space:pre;overflow-x:auto;line-height:normal;font-family:Menlo,'DejaVu Sans Mono',consolas,'Courier New',monospace\">Episode length: 220.30 +/- 13.89\n",
              "</pre>\n"
            ]
          },
          "metadata": {}
        },
        {
          "output_type": "stream",
          "name": "stdout",
          "text": [
            "------------------------------------------\n",
            "| eval/                   |              |\n",
            "|    mean_ep_length       | 220          |\n",
            "|    mean_reward          | 292          |\n",
            "| time/                   |              |\n",
            "|    total_timesteps      | 1400000      |\n",
            "| train/                  |              |\n",
            "|    approx_kl            | 0.0070434473 |\n",
            "|    clip_fraction        | 0.0686       |\n",
            "|    clip_range           | 0.2          |\n",
            "|    entropy_loss         | -0.528       |\n",
            "|    explained_variance   | 0.999        |\n",
            "|    learning_rate        | 0.0003       |\n",
            "|    loss                 | 0.339        |\n",
            "|    n_updates            | 850          |\n",
            "|    policy_gradient_loss | -9.65e-05    |\n",
            "|    value_loss           | 0.78         |\n",
            "------------------------------------------\n",
            "---------------------------------\n",
            "| rollout/           |          |\n",
            "|    ep_len_mean     | 238      |\n",
            "|    ep_rew_mean     | 278      |\n",
            "| time/              |          |\n",
            "|    fps             | 1443     |\n",
            "|    iterations      | 86       |\n",
            "|    time_elapsed    | 976      |\n",
            "|    total_timesteps | 1409024  |\n",
            "---------------------------------\n"
          ]
        },
        {
          "output_type": "display_data",
          "data": {
            "text/plain": [
              "Eval num_timesteps=1410000, episode_reward=286.66 +/- 15.52\n"
            ],
            "text/html": [
              "<pre style=\"white-space:pre;overflow-x:auto;line-height:normal;font-family:Menlo,'DejaVu Sans Mono',consolas,'Courier New',monospace\">Eval num_timesteps=1410000, episode_reward=286.66 +/- 15.52\n",
              "</pre>\n"
            ]
          },
          "metadata": {}
        },
        {
          "output_type": "display_data",
          "data": {
            "text/plain": [
              "Episode length: 228.10 +/- 18.00\n"
            ],
            "text/html": [
              "<pre style=\"white-space:pre;overflow-x:auto;line-height:normal;font-family:Menlo,'DejaVu Sans Mono',consolas,'Courier New',monospace\">Episode length: 228.10 +/- 18.00\n",
              "</pre>\n"
            ]
          },
          "metadata": {}
        },
        {
          "output_type": "stream",
          "name": "stdout",
          "text": [
            "------------------------------------------\n",
            "| eval/                   |              |\n",
            "|    mean_ep_length       | 228          |\n",
            "|    mean_reward          | 287          |\n",
            "| time/                   |              |\n",
            "|    total_timesteps      | 1410000      |\n",
            "| train/                  |              |\n",
            "|    approx_kl            | 0.0061637238 |\n",
            "|    clip_fraction        | 0.0543       |\n",
            "|    clip_range           | 0.2          |\n",
            "|    entropy_loss         | -0.545       |\n",
            "|    explained_variance   | 0.999        |\n",
            "|    learning_rate        | 0.0003       |\n",
            "|    loss                 | 0.369        |\n",
            "|    n_updates            | 860          |\n",
            "|    policy_gradient_loss | 0.000578     |\n",
            "|    value_loss           | 0.873        |\n",
            "------------------------------------------\n"
          ]
        },
        {
          "output_type": "display_data",
          "data": {
            "text/plain": [
              "Eval num_timesteps=1420000, episode_reward=287.60 +/- 22.37\n"
            ],
            "text/html": [
              "<pre style=\"white-space:pre;overflow-x:auto;line-height:normal;font-family:Menlo,'DejaVu Sans Mono',consolas,'Courier New',monospace\">Eval num_timesteps=1420000, episode_reward=287.60 +/- 22.37\n",
              "</pre>\n"
            ]
          },
          "metadata": {}
        },
        {
          "output_type": "display_data",
          "data": {
            "text/plain": [
              "Episode length: 225.80 +/- 8.89\n"
            ],
            "text/html": [
              "<pre style=\"white-space:pre;overflow-x:auto;line-height:normal;font-family:Menlo,'DejaVu Sans Mono',consolas,'Courier New',monospace\">Episode length: 225.80 +/- 8.89\n",
              "</pre>\n"
            ]
          },
          "metadata": {}
        },
        {
          "output_type": "stream",
          "name": "stdout",
          "text": [
            "---------------------------------\n",
            "| eval/              |          |\n",
            "|    mean_ep_length  | 226      |\n",
            "|    mean_reward     | 288      |\n",
            "| time/              |          |\n",
            "|    total_timesteps | 1420000  |\n",
            "---------------------------------\n",
            "---------------------------------\n",
            "| rollout/           |          |\n",
            "|    ep_len_mean     | 256      |\n",
            "|    ep_rew_mean     | 278      |\n",
            "| time/              |          |\n",
            "|    fps             | 1443     |\n",
            "|    iterations      | 87       |\n",
            "|    time_elapsed    | 987      |\n",
            "|    total_timesteps | 1425408  |\n",
            "---------------------------------\n"
          ]
        },
        {
          "output_type": "display_data",
          "data": {
            "text/plain": [
              "Eval num_timesteps=1430000, episode_reward=275.20 +/- 15.54\n"
            ],
            "text/html": [
              "<pre style=\"white-space:pre;overflow-x:auto;line-height:normal;font-family:Menlo,'DejaVu Sans Mono',consolas,'Courier New',monospace\">Eval num_timesteps=1430000, episode_reward=275.20 +/- 15.54\n",
              "</pre>\n"
            ]
          },
          "metadata": {}
        },
        {
          "output_type": "display_data",
          "data": {
            "text/plain": [
              "Episode length: 224.50 +/- 15.89\n"
            ],
            "text/html": [
              "<pre style=\"white-space:pre;overflow-x:auto;line-height:normal;font-family:Menlo,'DejaVu Sans Mono',consolas,'Courier New',monospace\">Episode length: 224.50 +/- 15.89\n",
              "</pre>\n"
            ]
          },
          "metadata": {}
        },
        {
          "output_type": "stream",
          "name": "stdout",
          "text": [
            "-----------------------------------------\n",
            "| eval/                   |             |\n",
            "|    mean_ep_length       | 224         |\n",
            "|    mean_reward          | 275         |\n",
            "| time/                   |             |\n",
            "|    total_timesteps      | 1430000     |\n",
            "| train/                  |             |\n",
            "|    approx_kl            | 0.005658062 |\n",
            "|    clip_fraction        | 0.0523      |\n",
            "|    clip_range           | 0.2         |\n",
            "|    entropy_loss         | -0.608      |\n",
            "|    explained_variance   | 0.999       |\n",
            "|    learning_rate        | 0.0003      |\n",
            "|    loss                 | 0.478       |\n",
            "|    n_updates            | 870         |\n",
            "|    policy_gradient_loss | -0.000251   |\n",
            "|    value_loss           | 1.01        |\n",
            "-----------------------------------------\n"
          ]
        },
        {
          "output_type": "display_data",
          "data": {
            "text/plain": [
              "Eval num_timesteps=1440000, episode_reward=284.45 +/- 22.45\n"
            ],
            "text/html": [
              "<pre style=\"white-space:pre;overflow-x:auto;line-height:normal;font-family:Menlo,'DejaVu Sans Mono',consolas,'Courier New',monospace\">Eval num_timesteps=1440000, episode_reward=284.45 +/- 22.45\n",
              "</pre>\n"
            ]
          },
          "metadata": {}
        },
        {
          "output_type": "display_data",
          "data": {
            "text/plain": [
              "Episode length: 228.10 +/- 11.21\n"
            ],
            "text/html": [
              "<pre style=\"white-space:pre;overflow-x:auto;line-height:normal;font-family:Menlo,'DejaVu Sans Mono',consolas,'Courier New',monospace\">Episode length: 228.10 +/- 11.21\n",
              "</pre>\n"
            ]
          },
          "metadata": {}
        },
        {
          "output_type": "stream",
          "name": "stdout",
          "text": [
            "---------------------------------\n",
            "| eval/              |          |\n",
            "|    mean_ep_length  | 228      |\n",
            "|    mean_reward     | 284      |\n",
            "| time/              |          |\n",
            "|    total_timesteps | 1440000  |\n",
            "---------------------------------\n"
          ]
        },
        {
          "output_type": "display_data",
          "data": {
            "text/plain": [
              "Eval num_timesteps=1450000, episode_reward=279.52 +/- 22.72\n"
            ],
            "text/html": [
              "<pre style=\"white-space:pre;overflow-x:auto;line-height:normal;font-family:Menlo,'DejaVu Sans Mono',consolas,'Courier New',monospace\">Eval num_timesteps=1450000, episode_reward=279.52 +/- 22.72\n",
              "</pre>\n"
            ]
          },
          "metadata": {}
        },
        {
          "output_type": "display_data",
          "data": {
            "text/plain": [
              "Episode length: 222.20 +/- 13.66\n"
            ],
            "text/html": [
              "<pre style=\"white-space:pre;overflow-x:auto;line-height:normal;font-family:Menlo,'DejaVu Sans Mono',consolas,'Courier New',monospace\">Episode length: 222.20 +/- 13.66\n",
              "</pre>\n"
            ]
          },
          "metadata": {}
        },
        {
          "output_type": "stream",
          "name": "stdout",
          "text": [
            "-----------------------------------------\n",
            "| eval/                   |             |\n",
            "|    mean_ep_length       | 222         |\n",
            "|    mean_reward          | 280         |\n",
            "| time/                   |             |\n",
            "|    total_timesteps      | 1450000     |\n",
            "| train/                  |             |\n",
            "|    approx_kl            | 0.004237389 |\n",
            "|    clip_fraction        | 0.0571      |\n",
            "|    clip_range           | 0.2         |\n",
            "|    entropy_loss         | -0.564      |\n",
            "|    explained_variance   | 0.991       |\n",
            "|    learning_rate        | 0.0003      |\n",
            "|    loss                 | 4.05        |\n",
            "|    n_updates            | 880         |\n",
            "|    policy_gradient_loss | -0.000874   |\n",
            "|    value_loss           | 28.4        |\n",
            "-----------------------------------------\n",
            "---------------------------------\n",
            "| rollout/           |          |\n",
            "|    ep_len_mean     | 227      |\n",
            "|    ep_rew_mean     | 279      |\n",
            "| time/              |          |\n",
            "|    fps             | 1446     |\n",
            "|    iterations      | 89       |\n",
            "|    time_elapsed    | 1008     |\n",
            "|    total_timesteps | 1458176  |\n",
            "---------------------------------\n"
          ]
        },
        {
          "output_type": "display_data",
          "data": {
            "text/plain": [
              "Eval num_timesteps=1460000, episode_reward=287.19 +/- 18.06\n"
            ],
            "text/html": [
              "<pre style=\"white-space:pre;overflow-x:auto;line-height:normal;font-family:Menlo,'DejaVu Sans Mono',consolas,'Courier New',monospace\">Eval num_timesteps=1460000, episode_reward=287.19 +/- 18.06\n",
              "</pre>\n"
            ]
          },
          "metadata": {}
        },
        {
          "output_type": "display_data",
          "data": {
            "text/plain": [
              "Episode length: 214.70 +/- 13.40\n"
            ],
            "text/html": [
              "<pre style=\"white-space:pre;overflow-x:auto;line-height:normal;font-family:Menlo,'DejaVu Sans Mono',consolas,'Courier New',monospace\">Episode length: 214.70 +/- 13.40\n",
              "</pre>\n"
            ]
          },
          "metadata": {}
        },
        {
          "output_type": "stream",
          "name": "stdout",
          "text": [
            "-----------------------------------------\n",
            "| eval/                   |             |\n",
            "|    mean_ep_length       | 215         |\n",
            "|    mean_reward          | 287         |\n",
            "| time/                   |             |\n",
            "|    total_timesteps      | 1460000     |\n",
            "| train/                  |             |\n",
            "|    approx_kl            | 0.003981373 |\n",
            "|    clip_fraction        | 0.0521      |\n",
            "|    clip_range           | 0.2         |\n",
            "|    entropy_loss         | -0.52       |\n",
            "|    explained_variance   | 0.998       |\n",
            "|    learning_rate        | 0.0003      |\n",
            "|    loss                 | 0.801       |\n",
            "|    n_updates            | 890         |\n",
            "|    policy_gradient_loss | 0.00161     |\n",
            "|    value_loss           | 2.09        |\n",
            "-----------------------------------------\n"
          ]
        },
        {
          "output_type": "display_data",
          "data": {
            "text/plain": [
              "Eval num_timesteps=1470000, episode_reward=279.25 +/- 19.96\n"
            ],
            "text/html": [
              "<pre style=\"white-space:pre;overflow-x:auto;line-height:normal;font-family:Menlo,'DejaVu Sans Mono',consolas,'Courier New',monospace\">Eval num_timesteps=1470000, episode_reward=279.25 +/- 19.96\n",
              "</pre>\n"
            ]
          },
          "metadata": {}
        },
        {
          "output_type": "display_data",
          "data": {
            "text/plain": [
              "Episode length: 216.40 +/- 14.04\n"
            ],
            "text/html": [
              "<pre style=\"white-space:pre;overflow-x:auto;line-height:normal;font-family:Menlo,'DejaVu Sans Mono',consolas,'Courier New',monospace\">Episode length: 216.40 +/- 14.04\n",
              "</pre>\n"
            ]
          },
          "metadata": {}
        },
        {
          "output_type": "stream",
          "name": "stdout",
          "text": [
            "---------------------------------\n",
            "| eval/              |          |\n",
            "|    mean_ep_length  | 216      |\n",
            "|    mean_reward     | 279      |\n",
            "| time/              |          |\n",
            "|    total_timesteps | 1470000  |\n",
            "---------------------------------\n",
            "---------------------------------\n",
            "| rollout/           |          |\n",
            "|    ep_len_mean     | 250      |\n",
            "|    ep_rew_mean     | 279      |\n",
            "| time/              |          |\n",
            "|    fps             | 1446     |\n",
            "|    iterations      | 90       |\n",
            "|    time_elapsed    | 1019     |\n",
            "|    total_timesteps | 1474560  |\n",
            "---------------------------------\n"
          ]
        },
        {
          "output_type": "display_data",
          "data": {
            "text/plain": [
              "Eval num_timesteps=1480000, episode_reward=260.18 +/- 39.64\n"
            ],
            "text/html": [
              "<pre style=\"white-space:pre;overflow-x:auto;line-height:normal;font-family:Menlo,'DejaVu Sans Mono',consolas,'Courier New',monospace\">Eval num_timesteps=1480000, episode_reward=260.18 +/- 39.64\n",
              "</pre>\n"
            ]
          },
          "metadata": {}
        },
        {
          "output_type": "display_data",
          "data": {
            "text/plain": [
              "Episode length: 291.50 +/- 236.65\n"
            ],
            "text/html": [
              "<pre style=\"white-space:pre;overflow-x:auto;line-height:normal;font-family:Menlo,'DejaVu Sans Mono',consolas,'Courier New',monospace\">Episode length: 291.50 +/- 236.65\n",
              "</pre>\n"
            ]
          },
          "metadata": {}
        },
        {
          "output_type": "stream",
          "name": "stdout",
          "text": [
            "-----------------------------------------\n",
            "| eval/                   |             |\n",
            "|    mean_ep_length       | 292         |\n",
            "|    mean_reward          | 260         |\n",
            "| time/                   |             |\n",
            "|    total_timesteps      | 1480000     |\n",
            "| train/                  |             |\n",
            "|    approx_kl            | 0.006690736 |\n",
            "|    clip_fraction        | 0.0778      |\n",
            "|    clip_range           | 0.2         |\n",
            "|    entropy_loss         | -0.578      |\n",
            "|    explained_variance   | 0.999       |\n",
            "|    learning_rate        | 0.0003      |\n",
            "|    loss                 | 0.36        |\n",
            "|    n_updates            | 900         |\n",
            "|    policy_gradient_loss | 0.000195    |\n",
            "|    value_loss           | 1.06        |\n",
            "-----------------------------------------\n"
          ]
        },
        {
          "output_type": "display_data",
          "data": {
            "text/plain": [
              "Eval num_timesteps=1490000, episode_reward=276.37 +/- 17.06\n"
            ],
            "text/html": [
              "<pre style=\"white-space:pre;overflow-x:auto;line-height:normal;font-family:Menlo,'DejaVu Sans Mono',consolas,'Courier New',monospace\">Eval num_timesteps=1490000, episode_reward=276.37 +/- 17.06\n",
              "</pre>\n"
            ]
          },
          "metadata": {}
        },
        {
          "output_type": "display_data",
          "data": {
            "text/plain": [
              "Episode length: 225.40 +/- 16.41\n"
            ],
            "text/html": [
              "<pre style=\"white-space:pre;overflow-x:auto;line-height:normal;font-family:Menlo,'DejaVu Sans Mono',consolas,'Courier New',monospace\">Episode length: 225.40 +/- 16.41\n",
              "</pre>\n"
            ]
          },
          "metadata": {}
        },
        {
          "output_type": "stream",
          "name": "stdout",
          "text": [
            "---------------------------------\n",
            "| eval/              |          |\n",
            "|    mean_ep_length  | 225      |\n",
            "|    mean_reward     | 276      |\n",
            "| time/              |          |\n",
            "|    total_timesteps | 1490000  |\n",
            "---------------------------------\n",
            "---------------------------------\n",
            "| rollout/           |          |\n",
            "|    ep_len_mean     | 248      |\n",
            "|    ep_rew_mean     | 279      |\n",
            "| time/              |          |\n",
            "|    fps             | 1445     |\n",
            "|    iterations      | 91       |\n",
            "|    time_elapsed    | 1031     |\n",
            "|    total_timesteps | 1490944  |\n",
            "---------------------------------\n"
          ]
        },
        {
          "output_type": "display_data",
          "data": {
            "text/plain": [
              "Eval num_timesteps=1500000, episode_reward=302.30 +/- 13.82\n"
            ],
            "text/html": [
              "<pre style=\"white-space:pre;overflow-x:auto;line-height:normal;font-family:Menlo,'DejaVu Sans Mono',consolas,'Courier New',monospace\">Eval num_timesteps=1500000, episode_reward=302.30 +/- 13.82\n",
              "</pre>\n"
            ]
          },
          "metadata": {}
        },
        {
          "output_type": "display_data",
          "data": {
            "text/plain": [
              "Episode length: 242.50 +/- 16.05\n"
            ],
            "text/html": [
              "<pre style=\"white-space:pre;overflow-x:auto;line-height:normal;font-family:Menlo,'DejaVu Sans Mono',consolas,'Courier New',monospace\">Episode length: 242.50 +/- 16.05\n",
              "</pre>\n"
            ]
          },
          "metadata": {}
        },
        {
          "output_type": "stream",
          "name": "stdout",
          "text": [
            "------------------------------------------\n",
            "| eval/                   |              |\n",
            "|    mean_ep_length       | 242          |\n",
            "|    mean_reward          | 302          |\n",
            "| time/                   |              |\n",
            "|    total_timesteps      | 1500000      |\n",
            "| train/                  |              |\n",
            "|    approx_kl            | 0.0051825624 |\n",
            "|    clip_fraction        | 0.0519       |\n",
            "|    clip_range           | 0.2          |\n",
            "|    entropy_loss         | -0.485       |\n",
            "|    explained_variance   | 0.991        |\n",
            "|    learning_rate        | 0.0003       |\n",
            "|    loss                 | 0.942        |\n",
            "|    n_updates            | 910          |\n",
            "|    policy_gradient_loss | 0.000429     |\n",
            "|    value_loss           | 24.5         |\n",
            "------------------------------------------\n"
          ]
        },
        {
          "output_type": "display_data",
          "data": {
            "text/plain": [
              "New best mean reward!\n"
            ],
            "text/html": [
              "<pre style=\"white-space:pre;overflow-x:auto;line-height:normal;font-family:Menlo,'DejaVu Sans Mono',consolas,'Courier New',monospace\">New best mean reward!\n",
              "</pre>\n"
            ]
          },
          "metadata": {}
        },
        {
          "output_type": "display_data",
          "data": {
            "text/plain": [
              "Stopping training because the mean reward 302.30  is above the threshold 300.0\n"
            ],
            "text/html": [
              "<pre style=\"white-space:pre;overflow-x:auto;line-height:normal;font-family:Menlo,'DejaVu Sans Mono',consolas,'Courier New',monospace\">Stopping training because the mean reward 302.30  is above the threshold 300.0\n",
              "</pre>\n"
            ]
          },
          "metadata": {}
        },
        {
          "output_type": "display_data",
          "data": {
            "text/plain": [],
            "text/html": [
              "<pre style=\"white-space:pre;overflow-x:auto;line-height:normal;font-family:Menlo,'DejaVu Sans Mono',consolas,'Courier New',monospace\"></pre>\n"
            ]
          },
          "metadata": {}
        },
        {
          "output_type": "stream",
          "name": "stdout",
          "text": [
            "Training finished in 17.3 minutes.\n",
            "Loading best model from ./lander_logs/best_model.zip\n"
          ]
        }
      ]
    },
    {
      "cell_type": "code",
      "source": [
        "\n",
        "#@title Evaluate policy\n",
        "mean_reward, std_reward = evaluate_policy(model, eval_env, n_eval_episodes=20, deterministic=True)\n",
        "print(f\"Mean reward over 20 eval episodes: {mean_reward:.2f} ± {std_reward:.2f}\")\n",
        "\n",
        "\n",
        "def run_episodes_and_success_rate(n_episodes=20):\n",
        "    success = 0\n",
        "    returns = []\n",
        "    for ep in range(n_episodes):\n",
        "        obs, info = eval_env.reset(seed=SEED + 100 + ep)\n",
        "        done = False\n",
        "        ep_ret = 0.0\n",
        "        while not done:\n",
        "            action, _ = model.predict(obs, deterministic=True)\n",
        "            obs, reward, terminated, truncated, info = eval_env.step(action)\n",
        "            done = terminated or truncated\n",
        "            ep_ret += reward\n",
        "        returns.append(ep_ret)\n",
        "        if ep_ret >= 200.0:\n",
        "            success += 1\n",
        "    return np.mean(returns), np.std(returns), success / n_episodes\n",
        "\n",
        "m, s, succ = run_episodes_and_success_rate(20)\n",
        "print(f\"Episode return: {m:.1f} ± {s:.1f} | Success rate (≥200): {succ*100:.1f}%\")\n"
      ],
      "metadata": {
        "colab": {
          "base_uri": "https://localhost:8080/"
        },
        "id": "nG4e3arjMfNI",
        "outputId": "1a98efdc-70b5-4bfa-ce54-334e1a80f994"
      },
      "execution_count": 10,
      "outputs": [
        {
          "output_type": "stream",
          "name": "stderr",
          "text": [
            "/usr/local/lib/python3.12/dist-packages/stable_baselines3/common/evaluation.py:70: UserWarning: Evaluation environment is not wrapped with a ``Monitor`` wrapper. This may result in reporting modified episode lengths and rewards, if other wrappers happen to modify these. Consider wrapping environment first with ``Monitor`` wrapper.\n",
            "  warnings.warn(\n"
          ]
        },
        {
          "output_type": "stream",
          "name": "stdout",
          "text": [
            "Mean reward over 20 eval episodes: 278.53 ± 18.68\n",
            "Episode return: 291.3 ± 18.6 | Success rate (≥200): 100.0%\n"
          ]
        }
      ]
    },
    {
      "cell_type": "code",
      "source": [
        "#@title Record a \"successful\" landing video (≥200 reward)\n",
        "from pathlib import Path\n",
        "from base64 import b64encode\n",
        "from IPython.display import HTML\n",
        "from stable_baselines3 import PPO\n",
        "\n",
        "# Load best model from training\n",
        "best_path = os.path.join(LOG_DIR, \"best_model.zip\")\n",
        "assert os.path.exists(best_path), \"Train first — no best_model.zip found!\"\n",
        "best_model = PPO.load(best_path, env=None, device=\"cpu\")\n",
        "\n",
        "max_attempts = 20   #  20 rollouts\n",
        "success_video = None\n",
        "success_return = None\n",
        "\n",
        "for attempt in range(max_attempts):\n",
        "    video_env = gym.make(ENV_ID, render_mode=\"rgb_array\")\n",
        "    prefix = f\"best-success-ep{attempt}\"\n",
        "    video_env = RecordVideo(video_env, video_folder=VIDEO_DIR, name_prefix=prefix, episode_trigger=lambda e: True)\n",
        "\n",
        "    obs, info = video_env.reset(seed=SEED + 1000 + attempt)\n",
        "    done, ep_return = False, 0\n",
        "    while not done:\n",
        "        action, _ = best_model.predict(obs, deterministic=True)\n",
        "        obs, reward, terminated, truncated, info = video_env.step(action)\n",
        "        ep_return += reward\n",
        "        done = terminated or truncated\n",
        "    video_env.close()\n",
        "\n",
        "    if ep_return >= 200:\n",
        "        success_return = ep_return\n",
        "        success_video = prefix\n",
        "        print(f\"✅ Found successful landing on attempt {attempt} with return {ep_return:.2f}\")\n",
        "        break\n",
        "\n",
        "# If we found a success, display it\n",
        "if success_video:\n",
        "    mp4s = sorted(Path(VIDEO_DIR).glob(f\"{success_video}*.mp4\"), key=lambda p: p.stat().st_mtime, reverse=True)\n",
        "    mp4_path = str(mp4s[0])\n",
        "    mp4 = open(mp4_path,'rb').read()\n",
        "    data_url = \"data:video/mp4;base64,\" + b64encode(mp4).decode()\n",
        "    display(HTML(f\"<video width=600 controls autoplay loop src='{data_url}'></video>\"))\n",
        "else:\n",
        "    print(f\"❌ No successful landing found in {max_attempts} attempts.\")\n"
      ],
      "metadata": {
        "colab": {
          "base_uri": "https://localhost:8080/",
          "height": 496
        },
        "id": "GOmQUzmWMfKf",
        "outputId": "04787e8f-d52b-46b5-8c99-0f58509e9b69"
      },
      "execution_count": 11,
      "outputs": [
        {
          "output_type": "stream",
          "name": "stderr",
          "text": [
            "/usr/local/lib/python3.12/dist-packages/gymnasium/wrappers/rendering.py:296: UserWarning: \u001b[33mWARN: Overwriting existing videos at /content/lander_videos folder (try specifying a different `video_folder` for the `RecordVideo` wrapper if this is not desired)\u001b[0m\n",
            "  logger.warn(\n"
          ]
        },
        {
          "output_type": "stream",
          "name": "stdout",
          "text": [
            "✅ Found successful landing on attempt 0 with return 305.07\n"
          ]
        },
        {
          "output_type": "display_data",
          "data": {
            "text/plain": [
              "<IPython.core.display.HTML object>"
            ],
            "text/html": [
              "<video width=600 controls autoplay loop src='data:video/mp4;base64,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'></video>"
            ]
          },
          "metadata": {}
        }
      ]
    },
    {
      "cell_type": "code",
      "source": [],
      "metadata": {
        "id": "DPFdlhFKMfFN"
      },
      "execution_count": null,
      "outputs": []
    },
    {
      "cell_type": "code",
      "source": [],
      "metadata": {
        "id": "gTtjqrHOMfCx"
      },
      "execution_count": null,
      "outputs": []
    },
    {
      "cell_type": "code",
      "source": [],
      "metadata": {
        "id": "f995qftAMfAl"
      },
      "execution_count": null,
      "outputs": []
    },
    {
      "cell_type": "code",
      "source": [],
      "metadata": {
        "id": "djGU0VPRMe-P"
      },
      "execution_count": null,
      "outputs": []
    },
    {
      "cell_type": "code",
      "source": [],
      "metadata": {
        "id": "uh1dxYNAMe77"
      },
      "execution_count": null,
      "outputs": []
    },
    {
      "cell_type": "code",
      "source": [],
      "metadata": {
        "id": "lHxajkq3Me5z"
      },
      "execution_count": null,
      "outputs": []
    }
  ]
}